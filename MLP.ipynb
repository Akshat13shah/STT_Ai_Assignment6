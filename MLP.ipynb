{
  "nbformat": 4,
  "nbformat_minor": 0,
  "metadata": {
    "colab": {
      "provenance": [],
      "toc_visible": true,
      "include_colab_link": true
    },
    "kernelspec": {
      "name": "python3",
      "display_name": "Python 3"
    },
    "language_info": {
      "name": "python"
    },
    "widgets": {
      "application/vnd.jupyter.widget-state+json": {
        "63766b1a71e94395ac05c45ae2e8106d": {
          "model_module": "@jupyter-widgets/controls",
          "model_name": "HBoxModel",
          "model_module_version": "1.5.0",
          "state": {
            "_dom_classes": [],
            "_model_module": "@jupyter-widgets/controls",
            "_model_module_version": "1.5.0",
            "_model_name": "HBoxModel",
            "_view_count": null,
            "_view_module": "@jupyter-widgets/controls",
            "_view_module_version": "1.5.0",
            "_view_name": "HBoxView",
            "box_style": "",
            "children": [
              "IPY_MODEL_2563d59dc7c54948a3bf487d80693e44",
              "IPY_MODEL_62029c71f4d4406a9158ca821ded2852",
              "IPY_MODEL_ed7f90a6bdde46858f3169cfff0e3f84"
            ],
            "layout": "IPY_MODEL_95e958882d0d4d05b9220b47d20fc451"
          }
        },
        "2563d59dc7c54948a3bf487d80693e44": {
          "model_module": "@jupyter-widgets/controls",
          "model_name": "HTMLModel",
          "model_module_version": "1.5.0",
          "state": {
            "_dom_classes": [],
            "_model_module": "@jupyter-widgets/controls",
            "_model_module_version": "1.5.0",
            "_model_name": "HTMLModel",
            "_view_count": null,
            "_view_module": "@jupyter-widgets/controls",
            "_view_module_version": "1.5.0",
            "_view_name": "HTMLView",
            "description": "",
            "description_tooltip": null,
            "layout": "IPY_MODEL_698c77f7d5e3452d9b7184dc523eedcc",
            "placeholder": "​",
            "style": "IPY_MODEL_c9aa5acf65ee496887110c9e137723d4",
            "value": "100%"
          }
        },
        "62029c71f4d4406a9158ca821ded2852": {
          "model_module": "@jupyter-widgets/controls",
          "model_name": "FloatProgressModel",
          "model_module_version": "1.5.0",
          "state": {
            "_dom_classes": [],
            "_model_module": "@jupyter-widgets/controls",
            "_model_module_version": "1.5.0",
            "_model_name": "FloatProgressModel",
            "_view_count": null,
            "_view_module": "@jupyter-widgets/controls",
            "_view_module_version": "1.5.0",
            "_view_name": "ProgressView",
            "bar_style": "success",
            "description": "",
            "description_tooltip": null,
            "layout": "IPY_MODEL_4179468bee994173bd766cac9bee61db",
            "max": 10,
            "min": 0,
            "orientation": "horizontal",
            "style": "IPY_MODEL_13f12a56f18e40ffaa8342c77f133c53",
            "value": 10
          }
        },
        "ed7f90a6bdde46858f3169cfff0e3f84": {
          "model_module": "@jupyter-widgets/controls",
          "model_name": "HTMLModel",
          "model_module_version": "1.5.0",
          "state": {
            "_dom_classes": [],
            "_model_module": "@jupyter-widgets/controls",
            "_model_module_version": "1.5.0",
            "_model_name": "HTMLModel",
            "_view_count": null,
            "_view_module": "@jupyter-widgets/controls",
            "_view_module_version": "1.5.0",
            "_view_name": "HTMLView",
            "description": "",
            "description_tooltip": null,
            "layout": "IPY_MODEL_784528e2a7c04f9687a58f314e506f57",
            "placeholder": "​",
            "style": "IPY_MODEL_27d89410d8fb4997b989332a27d2bb7d",
            "value": " 10/10 [00:08&lt;00:00,  3.11it/s]"
          }
        },
        "95e958882d0d4d05b9220b47d20fc451": {
          "model_module": "@jupyter-widgets/base",
          "model_name": "LayoutModel",
          "model_module_version": "1.2.0",
          "state": {
            "_model_module": "@jupyter-widgets/base",
            "_model_module_version": "1.2.0",
            "_model_name": "LayoutModel",
            "_view_count": null,
            "_view_module": "@jupyter-widgets/base",
            "_view_module_version": "1.2.0",
            "_view_name": "LayoutView",
            "align_content": null,
            "align_items": null,
            "align_self": null,
            "border": null,
            "bottom": null,
            "display": null,
            "flex": null,
            "flex_flow": null,
            "grid_area": null,
            "grid_auto_columns": null,
            "grid_auto_flow": null,
            "grid_auto_rows": null,
            "grid_column": null,
            "grid_gap": null,
            "grid_row": null,
            "grid_template_areas": null,
            "grid_template_columns": null,
            "grid_template_rows": null,
            "height": null,
            "justify_content": null,
            "justify_items": null,
            "left": null,
            "margin": null,
            "max_height": null,
            "max_width": null,
            "min_height": null,
            "min_width": null,
            "object_fit": null,
            "object_position": null,
            "order": null,
            "overflow": null,
            "overflow_x": null,
            "overflow_y": null,
            "padding": null,
            "right": null,
            "top": null,
            "visibility": null,
            "width": null
          }
        },
        "698c77f7d5e3452d9b7184dc523eedcc": {
          "model_module": "@jupyter-widgets/base",
          "model_name": "LayoutModel",
          "model_module_version": "1.2.0",
          "state": {
            "_model_module": "@jupyter-widgets/base",
            "_model_module_version": "1.2.0",
            "_model_name": "LayoutModel",
            "_view_count": null,
            "_view_module": "@jupyter-widgets/base",
            "_view_module_version": "1.2.0",
            "_view_name": "LayoutView",
            "align_content": null,
            "align_items": null,
            "align_self": null,
            "border": null,
            "bottom": null,
            "display": null,
            "flex": null,
            "flex_flow": null,
            "grid_area": null,
            "grid_auto_columns": null,
            "grid_auto_flow": null,
            "grid_auto_rows": null,
            "grid_column": null,
            "grid_gap": null,
            "grid_row": null,
            "grid_template_areas": null,
            "grid_template_columns": null,
            "grid_template_rows": null,
            "height": null,
            "justify_content": null,
            "justify_items": null,
            "left": null,
            "margin": null,
            "max_height": null,
            "max_width": null,
            "min_height": null,
            "min_width": null,
            "object_fit": null,
            "object_position": null,
            "order": null,
            "overflow": null,
            "overflow_x": null,
            "overflow_y": null,
            "padding": null,
            "right": null,
            "top": null,
            "visibility": null,
            "width": null
          }
        },
        "c9aa5acf65ee496887110c9e137723d4": {
          "model_module": "@jupyter-widgets/controls",
          "model_name": "DescriptionStyleModel",
          "model_module_version": "1.5.0",
          "state": {
            "_model_module": "@jupyter-widgets/controls",
            "_model_module_version": "1.5.0",
            "_model_name": "DescriptionStyleModel",
            "_view_count": null,
            "_view_module": "@jupyter-widgets/base",
            "_view_module_version": "1.2.0",
            "_view_name": "StyleView",
            "description_width": ""
          }
        },
        "4179468bee994173bd766cac9bee61db": {
          "model_module": "@jupyter-widgets/base",
          "model_name": "LayoutModel",
          "model_module_version": "1.2.0",
          "state": {
            "_model_module": "@jupyter-widgets/base",
            "_model_module_version": "1.2.0",
            "_model_name": "LayoutModel",
            "_view_count": null,
            "_view_module": "@jupyter-widgets/base",
            "_view_module_version": "1.2.0",
            "_view_name": "LayoutView",
            "align_content": null,
            "align_items": null,
            "align_self": null,
            "border": null,
            "bottom": null,
            "display": null,
            "flex": null,
            "flex_flow": null,
            "grid_area": null,
            "grid_auto_columns": null,
            "grid_auto_flow": null,
            "grid_auto_rows": null,
            "grid_column": null,
            "grid_gap": null,
            "grid_row": null,
            "grid_template_areas": null,
            "grid_template_columns": null,
            "grid_template_rows": null,
            "height": null,
            "justify_content": null,
            "justify_items": null,
            "left": null,
            "margin": null,
            "max_height": null,
            "max_width": null,
            "min_height": null,
            "min_width": null,
            "object_fit": null,
            "object_position": null,
            "order": null,
            "overflow": null,
            "overflow_x": null,
            "overflow_y": null,
            "padding": null,
            "right": null,
            "top": null,
            "visibility": null,
            "width": null
          }
        },
        "13f12a56f18e40ffaa8342c77f133c53": {
          "model_module": "@jupyter-widgets/controls",
          "model_name": "ProgressStyleModel",
          "model_module_version": "1.5.0",
          "state": {
            "_model_module": "@jupyter-widgets/controls",
            "_model_module_version": "1.5.0",
            "_model_name": "ProgressStyleModel",
            "_view_count": null,
            "_view_module": "@jupyter-widgets/base",
            "_view_module_version": "1.2.0",
            "_view_name": "StyleView",
            "bar_color": null,
            "description_width": ""
          }
        },
        "784528e2a7c04f9687a58f314e506f57": {
          "model_module": "@jupyter-widgets/base",
          "model_name": "LayoutModel",
          "model_module_version": "1.2.0",
          "state": {
            "_model_module": "@jupyter-widgets/base",
            "_model_module_version": "1.2.0",
            "_model_name": "LayoutModel",
            "_view_count": null,
            "_view_module": "@jupyter-widgets/base",
            "_view_module_version": "1.2.0",
            "_view_name": "LayoutView",
            "align_content": null,
            "align_items": null,
            "align_self": null,
            "border": null,
            "bottom": null,
            "display": null,
            "flex": null,
            "flex_flow": null,
            "grid_area": null,
            "grid_auto_columns": null,
            "grid_auto_flow": null,
            "grid_auto_rows": null,
            "grid_column": null,
            "grid_gap": null,
            "grid_row": null,
            "grid_template_areas": null,
            "grid_template_columns": null,
            "grid_template_rows": null,
            "height": null,
            "justify_content": null,
            "justify_items": null,
            "left": null,
            "margin": null,
            "max_height": null,
            "max_width": null,
            "min_height": null,
            "min_width": null,
            "object_fit": null,
            "object_position": null,
            "order": null,
            "overflow": null,
            "overflow_x": null,
            "overflow_y": null,
            "padding": null,
            "right": null,
            "top": null,
            "visibility": null,
            "width": null
          }
        },
        "27d89410d8fb4997b989332a27d2bb7d": {
          "model_module": "@jupyter-widgets/controls",
          "model_name": "DescriptionStyleModel",
          "model_module_version": "1.5.0",
          "state": {
            "_model_module": "@jupyter-widgets/controls",
            "_model_module_version": "1.5.0",
            "_model_name": "DescriptionStyleModel",
            "_view_count": null,
            "_view_module": "@jupyter-widgets/base",
            "_view_module_version": "1.2.0",
            "_view_name": "StyleView",
            "description_width": ""
          }
        }
      }
    }
  },
  "cells": [
    {
      "cell_type": "markdown",
      "metadata": {
        "id": "view-in-github",
        "colab_type": "text"
      },
      "source": [
        "<a href=\"https://colab.research.google.com/github/Akshat13shah/STT_Ai_Assignment6/blob/main/MLP.ipynb\" target=\"_parent\"><img src=\"https://colab.research.google.com/assets/colab-badge.svg\" alt=\"Open In Colab\"/></a>"
      ]
    },
    {
      "cell_type": "markdown",
      "source": [
        "## CS203 Lab 6\n",
        "\n",
        "### Team Number: 18\n",
        "* Name: Paras Prashant Shirvale\n",
        "* Roll No: 23110232\n",
        "---\n",
        "* Name: Akshat Shah\n",
        "* Roll No: 23110293\n",
        "---"
      ],
      "metadata": {
        "id": "PDRXI-Uku82_"
      }
    },
    {
      "cell_type": "code",
      "execution_count": 2,
      "metadata": {
        "colab": {
          "base_uri": "https://localhost:8080/"
        },
        "id": "qzVuXqEDut-p",
        "outputId": "d594146c-73b1-41c2-b673-5b77334cdc0e"
      },
      "outputs": [
        {
          "output_type": "stream",
          "name": "stdout",
          "text": [
            "Requirement already satisfied: tensorflow in /usr/local/lib/python3.11/dist-packages (2.18.0)\n",
            "Requirement already satisfied: absl-py>=1.0.0 in /usr/local/lib/python3.11/dist-packages (from tensorflow) (1.4.0)\n",
            "Requirement already satisfied: astunparse>=1.6.0 in /usr/local/lib/python3.11/dist-packages (from tensorflow) (1.6.3)\n",
            "Requirement already satisfied: flatbuffers>=24.3.25 in /usr/local/lib/python3.11/dist-packages (from tensorflow) (25.2.10)\n",
            "Requirement already satisfied: gast!=0.5.0,!=0.5.1,!=0.5.2,>=0.2.1 in /usr/local/lib/python3.11/dist-packages (from tensorflow) (0.6.0)\n",
            "Requirement already satisfied: google-pasta>=0.1.1 in /usr/local/lib/python3.11/dist-packages (from tensorflow) (0.2.0)\n",
            "Requirement already satisfied: libclang>=13.0.0 in /usr/local/lib/python3.11/dist-packages (from tensorflow) (18.1.1)\n",
            "Requirement already satisfied: opt-einsum>=2.3.2 in /usr/local/lib/python3.11/dist-packages (from tensorflow) (3.4.0)\n",
            "Requirement already satisfied: packaging in /usr/local/lib/python3.11/dist-packages (from tensorflow) (24.2)\n",
            "Requirement already satisfied: protobuf!=4.21.0,!=4.21.1,!=4.21.2,!=4.21.3,!=4.21.4,!=4.21.5,<6.0.0dev,>=3.20.3 in /usr/local/lib/python3.11/dist-packages (from tensorflow) (4.25.6)\n",
            "Requirement already satisfied: requests<3,>=2.21.0 in /usr/local/lib/python3.11/dist-packages (from tensorflow) (2.32.3)\n",
            "Requirement already satisfied: setuptools in /usr/local/lib/python3.11/dist-packages (from tensorflow) (75.1.0)\n",
            "Requirement already satisfied: six>=1.12.0 in /usr/local/lib/python3.11/dist-packages (from tensorflow) (1.17.0)\n",
            "Requirement already satisfied: termcolor>=1.1.0 in /usr/local/lib/python3.11/dist-packages (from tensorflow) (2.5.0)\n",
            "Requirement already satisfied: typing-extensions>=3.6.6 in /usr/local/lib/python3.11/dist-packages (from tensorflow) (4.12.2)\n",
            "Requirement already satisfied: wrapt>=1.11.0 in /usr/local/lib/python3.11/dist-packages (from tensorflow) (1.17.2)\n",
            "Requirement already satisfied: grpcio<2.0,>=1.24.3 in /usr/local/lib/python3.11/dist-packages (from tensorflow) (1.70.0)\n",
            "Requirement already satisfied: tensorboard<2.19,>=2.18 in /usr/local/lib/python3.11/dist-packages (from tensorflow) (2.18.0)\n",
            "Requirement already satisfied: keras>=3.5.0 in /usr/local/lib/python3.11/dist-packages (from tensorflow) (3.8.0)\n",
            "Requirement already satisfied: numpy<2.1.0,>=1.26.0 in /usr/local/lib/python3.11/dist-packages (from tensorflow) (1.26.4)\n",
            "Requirement already satisfied: h5py>=3.11.0 in /usr/local/lib/python3.11/dist-packages (from tensorflow) (3.12.1)\n",
            "Requirement already satisfied: ml-dtypes<0.5.0,>=0.4.0 in /usr/local/lib/python3.11/dist-packages (from tensorflow) (0.4.1)\n",
            "Requirement already satisfied: tensorflow-io-gcs-filesystem>=0.23.1 in /usr/local/lib/python3.11/dist-packages (from tensorflow) (0.37.1)\n",
            "Requirement already satisfied: wheel<1.0,>=0.23.0 in /usr/local/lib/python3.11/dist-packages (from astunparse>=1.6.0->tensorflow) (0.45.1)\n",
            "Requirement already satisfied: rich in /usr/local/lib/python3.11/dist-packages (from keras>=3.5.0->tensorflow) (13.9.4)\n",
            "Requirement already satisfied: namex in /usr/local/lib/python3.11/dist-packages (from keras>=3.5.0->tensorflow) (0.0.8)\n",
            "Requirement already satisfied: optree in /usr/local/lib/python3.11/dist-packages (from keras>=3.5.0->tensorflow) (0.14.0)\n",
            "Requirement already satisfied: charset-normalizer<4,>=2 in /usr/local/lib/python3.11/dist-packages (from requests<3,>=2.21.0->tensorflow) (3.4.1)\n",
            "Requirement already satisfied: idna<4,>=2.5 in /usr/local/lib/python3.11/dist-packages (from requests<3,>=2.21.0->tensorflow) (3.10)\n",
            "Requirement already satisfied: urllib3<3,>=1.21.1 in /usr/local/lib/python3.11/dist-packages (from requests<3,>=2.21.0->tensorflow) (2.3.0)\n",
            "Requirement already satisfied: certifi>=2017.4.17 in /usr/local/lib/python3.11/dist-packages (from requests<3,>=2.21.0->tensorflow) (2025.1.31)\n",
            "Requirement already satisfied: markdown>=2.6.8 in /usr/local/lib/python3.11/dist-packages (from tensorboard<2.19,>=2.18->tensorflow) (3.7)\n",
            "Requirement already satisfied: tensorboard-data-server<0.8.0,>=0.7.0 in /usr/local/lib/python3.11/dist-packages (from tensorboard<2.19,>=2.18->tensorflow) (0.7.2)\n",
            "Requirement already satisfied: werkzeug>=1.0.1 in /usr/local/lib/python3.11/dist-packages (from tensorboard<2.19,>=2.18->tensorflow) (3.1.3)\n",
            "Requirement already satisfied: MarkupSafe>=2.1.1 in /usr/local/lib/python3.11/dist-packages (from werkzeug>=1.0.1->tensorboard<2.19,>=2.18->tensorflow) (3.0.2)\n",
            "Requirement already satisfied: markdown-it-py>=2.2.0 in /usr/local/lib/python3.11/dist-packages (from rich->keras>=3.5.0->tensorflow) (3.0.0)\n",
            "Requirement already satisfied: pygments<3.0.0,>=2.13.0 in /usr/local/lib/python3.11/dist-packages (from rich->keras>=3.5.0->tensorflow) (2.18.0)\n",
            "Requirement already satisfied: mdurl~=0.1 in /usr/local/lib/python3.11/dist-packages (from markdown-it-py>=2.2.0->rich->keras>=3.5.0->tensorflow) (0.1.2)\n"
          ]
        }
      ],
      "source": [
        "!pip install tensorflow"
      ]
    },
    {
      "cell_type": "code",
      "source": [
        "!pip install seaborn"
      ],
      "metadata": {
        "colab": {
          "base_uri": "https://localhost:8080/"
        },
        "id": "psAjGOl0u7fH",
        "outputId": "5717bd34-40ad-4d5c-a2aa-9945d80ca719"
      },
      "execution_count": 3,
      "outputs": [
        {
          "output_type": "stream",
          "name": "stdout",
          "text": [
            "Requirement already satisfied: seaborn in /usr/local/lib/python3.11/dist-packages (0.13.2)\n",
            "Requirement already satisfied: numpy!=1.24.0,>=1.20 in /usr/local/lib/python3.11/dist-packages (from seaborn) (1.26.4)\n",
            "Requirement already satisfied: pandas>=1.2 in /usr/local/lib/python3.11/dist-packages (from seaborn) (2.2.2)\n",
            "Requirement already satisfied: matplotlib!=3.6.1,>=3.4 in /usr/local/lib/python3.11/dist-packages (from seaborn) (3.10.0)\n",
            "Requirement already satisfied: contourpy>=1.0.1 in /usr/local/lib/python3.11/dist-packages (from matplotlib!=3.6.1,>=3.4->seaborn) (1.3.1)\n",
            "Requirement already satisfied: cycler>=0.10 in /usr/local/lib/python3.11/dist-packages (from matplotlib!=3.6.1,>=3.4->seaborn) (0.12.1)\n",
            "Requirement already satisfied: fonttools>=4.22.0 in /usr/local/lib/python3.11/dist-packages (from matplotlib!=3.6.1,>=3.4->seaborn) (4.56.0)\n",
            "Requirement already satisfied: kiwisolver>=1.3.1 in /usr/local/lib/python3.11/dist-packages (from matplotlib!=3.6.1,>=3.4->seaborn) (1.4.8)\n",
            "Requirement already satisfied: packaging>=20.0 in /usr/local/lib/python3.11/dist-packages (from matplotlib!=3.6.1,>=3.4->seaborn) (24.2)\n",
            "Requirement already satisfied: pillow>=8 in /usr/local/lib/python3.11/dist-packages (from matplotlib!=3.6.1,>=3.4->seaborn) (11.1.0)\n",
            "Requirement already satisfied: pyparsing>=2.3.1 in /usr/local/lib/python3.11/dist-packages (from matplotlib!=3.6.1,>=3.4->seaborn) (3.2.1)\n",
            "Requirement already satisfied: python-dateutil>=2.7 in /usr/local/lib/python3.11/dist-packages (from matplotlib!=3.6.1,>=3.4->seaborn) (2.8.2)\n",
            "Requirement already satisfied: pytz>=2020.1 in /usr/local/lib/python3.11/dist-packages (from pandas>=1.2->seaborn) (2025.1)\n",
            "Requirement already satisfied: tzdata>=2022.7 in /usr/local/lib/python3.11/dist-packages (from pandas>=1.2->seaborn) (2025.1)\n",
            "Requirement already satisfied: six>=1.5 in /usr/local/lib/python3.11/dist-packages (from python-dateutil>=2.7->matplotlib!=3.6.1,>=3.4->seaborn) (1.17.0)\n"
          ]
        }
      ]
    },
    {
      "cell_type": "code",
      "source": [
        "!pip install wandb"
      ],
      "metadata": {
        "colab": {
          "base_uri": "https://localhost:8080/"
        },
        "id": "aozMM9Vwu5tv",
        "outputId": "c115ef90-c2cb-4210-de8e-2001f57250fa"
      },
      "execution_count": 4,
      "outputs": [
        {
          "output_type": "stream",
          "name": "stdout",
          "text": [
            "Requirement already satisfied: wandb in /usr/local/lib/python3.11/dist-packages (0.19.6)\n",
            "Requirement already satisfied: click!=8.0.0,>=7.1 in /usr/local/lib/python3.11/dist-packages (from wandb) (8.1.8)\n",
            "Requirement already satisfied: docker-pycreds>=0.4.0 in /usr/local/lib/python3.11/dist-packages (from wandb) (0.4.0)\n",
            "Requirement already satisfied: gitpython!=3.1.29,>=1.0.0 in /usr/local/lib/python3.11/dist-packages (from wandb) (3.1.44)\n",
            "Requirement already satisfied: platformdirs in /usr/local/lib/python3.11/dist-packages (from wandb) (4.3.6)\n",
            "Requirement already satisfied: protobuf!=4.21.0,!=5.28.0,<6,>=3.19.0 in /usr/local/lib/python3.11/dist-packages (from wandb) (4.25.6)\n",
            "Requirement already satisfied: psutil>=5.0.0 in /usr/local/lib/python3.11/dist-packages (from wandb) (5.9.5)\n",
            "Requirement already satisfied: pydantic<3,>=2.6 in /usr/local/lib/python3.11/dist-packages (from wandb) (2.10.6)\n",
            "Requirement already satisfied: pyyaml in /usr/local/lib/python3.11/dist-packages (from wandb) (6.0.2)\n",
            "Requirement already satisfied: requests<3,>=2.0.0 in /usr/local/lib/python3.11/dist-packages (from wandb) (2.32.3)\n",
            "Requirement already satisfied: sentry-sdk>=2.0.0 in /usr/local/lib/python3.11/dist-packages (from wandb) (2.22.0)\n",
            "Requirement already satisfied: setproctitle in /usr/local/lib/python3.11/dist-packages (from wandb) (1.3.4)\n",
            "Requirement already satisfied: setuptools in /usr/local/lib/python3.11/dist-packages (from wandb) (75.1.0)\n",
            "Requirement already satisfied: typing-extensions<5,>=4.4 in /usr/local/lib/python3.11/dist-packages (from wandb) (4.12.2)\n",
            "Requirement already satisfied: six>=1.4.0 in /usr/local/lib/python3.11/dist-packages (from docker-pycreds>=0.4.0->wandb) (1.17.0)\n",
            "Requirement already satisfied: gitdb<5,>=4.0.1 in /usr/local/lib/python3.11/dist-packages (from gitpython!=3.1.29,>=1.0.0->wandb) (4.0.12)\n",
            "Requirement already satisfied: annotated-types>=0.6.0 in /usr/local/lib/python3.11/dist-packages (from pydantic<3,>=2.6->wandb) (0.7.0)\n",
            "Requirement already satisfied: pydantic-core==2.27.2 in /usr/local/lib/python3.11/dist-packages (from pydantic<3,>=2.6->wandb) (2.27.2)\n",
            "Requirement already satisfied: charset-normalizer<4,>=2 in /usr/local/lib/python3.11/dist-packages (from requests<3,>=2.0.0->wandb) (3.4.1)\n",
            "Requirement already satisfied: idna<4,>=2.5 in /usr/local/lib/python3.11/dist-packages (from requests<3,>=2.0.0->wandb) (3.10)\n",
            "Requirement already satisfied: urllib3<3,>=1.21.1 in /usr/local/lib/python3.11/dist-packages (from requests<3,>=2.0.0->wandb) (2.3.0)\n",
            "Requirement already satisfied: certifi>=2017.4.17 in /usr/local/lib/python3.11/dist-packages (from requests<3,>=2.0.0->wandb) (2025.1.31)\n",
            "Requirement already satisfied: smmap<6,>=3.0.1 in /usr/local/lib/python3.11/dist-packages (from gitdb<5,>=4.0.1->gitpython!=3.1.29,>=1.0.0->wandb) (5.0.2)\n"
          ]
        }
      ]
    },
    {
      "cell_type": "code",
      "source": [
        "# Import necessary libraries\n",
        "import numpy as np\n",
        "import matplotlib.pyplot as plt\n",
        "from sklearn.datasets import load_iris\n",
        "from sklearn.model_selection import train_test_split\n",
        "from sklearn.preprocessing import StandardScaler, OneHotEncoder\n",
        "from sklearn.metrics import accuracy_score, precision_score, recall_score, f1_score, confusion_matrix\n",
        "import tensorflow as tf\n",
        "from tensorflow.keras import layers, models\n",
        "from tensorflow.keras.optimizers import Adam"
      ],
      "metadata": {
        "id": "8UEIA_yBvGlr"
      },
      "execution_count": 5,
      "outputs": []
    },
    {
      "cell_type": "code",
      "source": [
        "# Load the Iris dataset\n",
        "data = load_iris()\n",
        "X, y = data.data, data.target.reshape(-1, 1)"
      ],
      "metadata": {
        "id": "fPMN7DpivKvc"
      },
      "execution_count": 6,
      "outputs": []
    },
    {
      "cell_type": "code",
      "source": [
        "# One-hot encode labels\n",
        "encoder = OneHotEncoder(sparse_output=False)\n",
        "y_onehot = encoder.fit_transform(y)"
      ],
      "metadata": {
        "id": "kanu-NH-vMtF"
      },
      "execution_count": 7,
      "outputs": []
    },
    {
      "cell_type": "code",
      "source": [
        "# Split the dataset into training, validation, and test sets (70%, 10%, 20%)\n",
        "X_train, X_test, y_train, y_test = train_test_split(X, y_onehot, test_size=0.2, random_state=42)\n",
        "X_train, X_val, y_train, y_val = train_test_split(X_train, y_train, test_size=1/8, random_state=42)"
      ],
      "metadata": {
        "id": "niIff7kevN7-"
      },
      "execution_count": 8,
      "outputs": []
    },
    {
      "cell_type": "code",
      "source": [
        "# Normalize the feature values to the range [0,1]\n",
        "scaler = StandardScaler()\n",
        "X_train = scaler.fit_transform(X_train)\n",
        "X_val = scaler.transform(X_val)\n",
        "X_test = scaler.transform(X_test)"
      ],
      "metadata": {
        "id": "KsydEC8IvPf_"
      },
      "execution_count": 9,
      "outputs": []
    },
    {
      "cell_type": "code",
      "source": [
        "# Step 4: Define MLP Model\n",
        "model = models.Sequential([\n",
        "    layers.InputLayer(input_shape=(4,)),\n",
        "    layers.Dense(16, activation='relu'),\n",
        "    layers.Dense(3, activation='softmax')\n",
        "])"
      ],
      "metadata": {
        "colab": {
          "base_uri": "https://localhost:8080/"
        },
        "id": "UGvq9YRgvQ2h",
        "outputId": "c9923eba-2887-4797-c16a-12f7cba21f5e"
      },
      "execution_count": 10,
      "outputs": [
        {
          "output_type": "stream",
          "name": "stderr",
          "text": [
            "/usr/local/lib/python3.11/dist-packages/keras/src/layers/core/input_layer.py:27: UserWarning: Argument `input_shape` is deprecated. Use `shape` instead.\n",
            "  warnings.warn(\n"
          ]
        }
      ]
    },
    {
      "cell_type": "code",
      "source": [
        "# Step 5: Compile the model\n",
        "model.compile(optimizer='adam', loss='categorical_crossentropy', metrics=['accuracy'])"
      ],
      "metadata": {
        "id": "LVTjlv3bvS3-"
      },
      "execution_count": 11,
      "outputs": []
    },
    {
      "cell_type": "code",
      "source": [
        "model.summary()"
      ],
      "metadata": {
        "colab": {
          "base_uri": "https://localhost:8080/",
          "height": 210
        },
        "id": "lSvRpF0wKcMZ",
        "outputId": "11b0ccf0-0342-409d-cc95-c552c08d9624"
      },
      "execution_count": 12,
      "outputs": [
        {
          "output_type": "display_data",
          "data": {
            "text/plain": [
              "\u001b[1mModel: \"sequential_1\"\u001b[0m\n"
            ],
            "text/html": [
              "<pre style=\"white-space:pre;overflow-x:auto;line-height:normal;font-family:Menlo,'DejaVu Sans Mono',consolas,'Courier New',monospace\"><span style=\"font-weight: bold\">Model: \"sequential_1\"</span>\n",
              "</pre>\n"
            ]
          },
          "metadata": {}
        },
        {
          "output_type": "display_data",
          "data": {
            "text/plain": [
              "┏━━━━━━━━━━━━━━━━━━━━━━━━━━━━━━━━━━━━━━┳━━━━━━━━━━━━━━━━━━━━━━━━━━━━━┳━━━━━━━━━━━━━━━━━┓\n",
              "┃\u001b[1m \u001b[0m\u001b[1mLayer (type)                        \u001b[0m\u001b[1m \u001b[0m┃\u001b[1m \u001b[0m\u001b[1mOutput Shape               \u001b[0m\u001b[1m \u001b[0m┃\u001b[1m \u001b[0m\u001b[1m        Param #\u001b[0m\u001b[1m \u001b[0m┃\n",
              "┡━━━━━━━━━━━━━━━━━━━━━━━━━━━━━━━━━━━━━━╇━━━━━━━━━━━━━━━━━━━━━━━━━━━━━╇━━━━━━━━━━━━━━━━━┩\n",
              "│ dense_2 (\u001b[38;5;33mDense\u001b[0m)                      │ (\u001b[38;5;45mNone\u001b[0m, \u001b[38;5;34m16\u001b[0m)                  │              \u001b[38;5;34m80\u001b[0m │\n",
              "├──────────────────────────────────────┼─────────────────────────────┼─────────────────┤\n",
              "│ dense_3 (\u001b[38;5;33mDense\u001b[0m)                      │ (\u001b[38;5;45mNone\u001b[0m, \u001b[38;5;34m3\u001b[0m)                   │              \u001b[38;5;34m51\u001b[0m │\n",
              "└──────────────────────────────────────┴─────────────────────────────┴─────────────────┘\n"
            ],
            "text/html": [
              "<pre style=\"white-space:pre;overflow-x:auto;line-height:normal;font-family:Menlo,'DejaVu Sans Mono',consolas,'Courier New',monospace\">┏━━━━━━━━━━━━━━━━━━━━━━━━━━━━━━━━━━━━━━┳━━━━━━━━━━━━━━━━━━━━━━━━━━━━━┳━━━━━━━━━━━━━━━━━┓\n",
              "┃<span style=\"font-weight: bold\"> Layer (type)                         </span>┃<span style=\"font-weight: bold\"> Output Shape                </span>┃<span style=\"font-weight: bold\">         Param # </span>┃\n",
              "┡━━━━━━━━━━━━━━━━━━━━━━━━━━━━━━━━━━━━━━╇━━━━━━━━━━━━━━━━━━━━━━━━━━━━━╇━━━━━━━━━━━━━━━━━┩\n",
              "│ dense_2 (<span style=\"color: #0087ff; text-decoration-color: #0087ff\">Dense</span>)                      │ (<span style=\"color: #00d7ff; text-decoration-color: #00d7ff\">None</span>, <span style=\"color: #00af00; text-decoration-color: #00af00\">16</span>)                  │              <span style=\"color: #00af00; text-decoration-color: #00af00\">80</span> │\n",
              "├──────────────────────────────────────┼─────────────────────────────┼─────────────────┤\n",
              "│ dense_3 (<span style=\"color: #0087ff; text-decoration-color: #0087ff\">Dense</span>)                      │ (<span style=\"color: #00d7ff; text-decoration-color: #00d7ff\">None</span>, <span style=\"color: #00af00; text-decoration-color: #00af00\">3</span>)                   │              <span style=\"color: #00af00; text-decoration-color: #00af00\">51</span> │\n",
              "└──────────────────────────────────────┴─────────────────────────────┴─────────────────┘\n",
              "</pre>\n"
            ]
          },
          "metadata": {}
        },
        {
          "output_type": "display_data",
          "data": {
            "text/plain": [
              "\u001b[1m Total params: \u001b[0m\u001b[38;5;34m131\u001b[0m (524.00 B)\n"
            ],
            "text/html": [
              "<pre style=\"white-space:pre;overflow-x:auto;line-height:normal;font-family:Menlo,'DejaVu Sans Mono',consolas,'Courier New',monospace\"><span style=\"font-weight: bold\"> Total params: </span><span style=\"color: #00af00; text-decoration-color: #00af00\">131</span> (524.00 B)\n",
              "</pre>\n"
            ]
          },
          "metadata": {}
        },
        {
          "output_type": "display_data",
          "data": {
            "text/plain": [
              "\u001b[1m Trainable params: \u001b[0m\u001b[38;5;34m131\u001b[0m (524.00 B)\n"
            ],
            "text/html": [
              "<pre style=\"white-space:pre;overflow-x:auto;line-height:normal;font-family:Menlo,'DejaVu Sans Mono',consolas,'Courier New',monospace\"><span style=\"font-weight: bold\"> Trainable params: </span><span style=\"color: #00af00; text-decoration-color: #00af00\">131</span> (524.00 B)\n",
              "</pre>\n"
            ]
          },
          "metadata": {}
        },
        {
          "output_type": "display_data",
          "data": {
            "text/plain": [
              "\u001b[1m Non-trainable params: \u001b[0m\u001b[38;5;34m0\u001b[0m (0.00 B)\n"
            ],
            "text/html": [
              "<pre style=\"white-space:pre;overflow-x:auto;line-height:normal;font-family:Menlo,'DejaVu Sans Mono',consolas,'Courier New',monospace\"><span style=\"font-weight: bold\"> Non-trainable params: </span><span style=\"color: #00af00; text-decoration-color: #00af00\">0</span> (0.00 B)\n",
              "</pre>\n"
            ]
          },
          "metadata": {}
        }
      ]
    },
    {
      "cell_type": "code",
      "source": [
        "# Step 7: Train the model\n",
        "history = model.fit(X_train, y_train, epochs=50, batch_size=32, validation_data=(X_val, y_val))"
      ],
      "metadata": {
        "colab": {
          "base_uri": "https://localhost:8080/"
        },
        "id": "RBRlxYjPvjS5",
        "outputId": "82409177-6b09-488c-e199-75abbfe1804c"
      },
      "execution_count": 13,
      "outputs": [
        {
          "output_type": "stream",
          "name": "stdout",
          "text": [
            "Epoch 1/50\n",
            "\u001b[1m4/4\u001b[0m \u001b[32m━━━━━━━━━━━━━━━━━━━━\u001b[0m\u001b[37m\u001b[0m \u001b[1m1s\u001b[0m 101ms/step - accuracy: 0.0454 - loss: 1.3844 - val_accuracy: 0.1333 - val_loss: 1.3190\n",
            "Epoch 2/50\n",
            "\u001b[1m4/4\u001b[0m \u001b[32m━━━━━━━━━━━━━━━━━━━━\u001b[0m\u001b[37m\u001b[0m \u001b[1m0s\u001b[0m 19ms/step - accuracy: 0.0382 - loss: 1.3419 - val_accuracy: 0.1333 - val_loss: 1.2832\n",
            "Epoch 3/50\n",
            "\u001b[1m4/4\u001b[0m \u001b[32m━━━━━━━━━━━━━━━━━━━━\u001b[0m\u001b[37m\u001b[0m \u001b[1m0s\u001b[0m 19ms/step - accuracy: 0.0746 - loss: 1.2973 - val_accuracy: 0.1333 - val_loss: 1.2491\n",
            "Epoch 4/50\n",
            "\u001b[1m4/4\u001b[0m \u001b[32m━━━━━━━━━━━━━━━━━━━━\u001b[0m\u001b[37m\u001b[0m \u001b[1m0s\u001b[0m 19ms/step - accuracy: 0.1190 - loss: 1.2480 - val_accuracy: 0.2000 - val_loss: 1.2171\n",
            "Epoch 5/50\n",
            "\u001b[1m4/4\u001b[0m \u001b[32m━━━━━━━━━━━━━━━━━━━━\u001b[0m\u001b[37m\u001b[0m \u001b[1m0s\u001b[0m 19ms/step - accuracy: 0.1412 - loss: 1.2040 - val_accuracy: 0.2667 - val_loss: 1.1868\n",
            "Epoch 6/50\n",
            "\u001b[1m4/4\u001b[0m \u001b[32m━━━━━━━━━━━━━━━━━━━━\u001b[0m\u001b[37m\u001b[0m \u001b[1m0s\u001b[0m 18ms/step - accuracy: 0.1814 - loss: 1.1613 - val_accuracy: 0.2667 - val_loss: 1.1577\n",
            "Epoch 7/50\n",
            "\u001b[1m4/4\u001b[0m \u001b[32m━━━━━━━━━━━━━━━━━━━━\u001b[0m\u001b[37m\u001b[0m \u001b[1m0s\u001b[0m 18ms/step - accuracy: 0.2137 - loss: 1.1203 - val_accuracy: 0.2667 - val_loss: 1.1304\n",
            "Epoch 8/50\n",
            "\u001b[1m4/4\u001b[0m \u001b[32m━━━━━━━━━━━━━━━━━━━━\u001b[0m\u001b[37m\u001b[0m \u001b[1m0s\u001b[0m 41ms/step - accuracy: 0.2608 - loss: 1.0871 - val_accuracy: 0.2667 - val_loss: 1.1044\n",
            "Epoch 9/50\n",
            "\u001b[1m4/4\u001b[0m \u001b[32m━━━━━━━━━━━━━━━━━━━━\u001b[0m\u001b[37m\u001b[0m \u001b[1m0s\u001b[0m 28ms/step - accuracy: 0.2924 - loss: 1.0417 - val_accuracy: 0.2667 - val_loss: 1.0805\n",
            "Epoch 10/50\n",
            "\u001b[1m4/4\u001b[0m \u001b[32m━━━━━━━━━━━━━━━━━━━━\u001b[0m\u001b[37m\u001b[0m \u001b[1m0s\u001b[0m 18ms/step - accuracy: 0.3066 - loss: 1.0074 - val_accuracy: 0.2667 - val_loss: 1.0577\n",
            "Epoch 11/50\n",
            "\u001b[1m4/4\u001b[0m \u001b[32m━━━━━━━━━━━━━━━━━━━━\u001b[0m\u001b[37m\u001b[0m \u001b[1m0s\u001b[0m 18ms/step - accuracy: 0.2959 - loss: 0.9831 - val_accuracy: 0.3333 - val_loss: 1.0357\n",
            "Epoch 12/50\n",
            "\u001b[1m4/4\u001b[0m \u001b[32m━━━━━━━━━━━━━━━━━━━━\u001b[0m\u001b[37m\u001b[0m \u001b[1m0s\u001b[0m 17ms/step - accuracy: 0.3347 - loss: 0.9517 - val_accuracy: 0.4000 - val_loss: 1.0146\n",
            "Epoch 13/50\n",
            "\u001b[1m4/4\u001b[0m \u001b[32m━━━━━━━━━━━━━━━━━━━━\u001b[0m\u001b[37m\u001b[0m \u001b[1m0s\u001b[0m 37ms/step - accuracy: 0.4509 - loss: 0.9054 - val_accuracy: 0.4667 - val_loss: 0.9948\n",
            "Epoch 14/50\n",
            "\u001b[1m4/4\u001b[0m \u001b[32m━━━━━━━━━━━━━━━━━━━━\u001b[0m\u001b[37m\u001b[0m \u001b[1m0s\u001b[0m 61ms/step - accuracy: 0.6035 - loss: 0.8969 - val_accuracy: 0.4667 - val_loss: 0.9760\n",
            "Epoch 15/50\n",
            "\u001b[1m4/4\u001b[0m \u001b[32m━━━━━━━━━━━━━━━━━━━━\u001b[0m\u001b[37m\u001b[0m \u001b[1m0s\u001b[0m 42ms/step - accuracy: 0.6566 - loss: 0.8684 - val_accuracy: 0.4667 - val_loss: 0.9585\n",
            "Epoch 16/50\n",
            "\u001b[1m4/4\u001b[0m \u001b[32m━━━━━━━━━━━━━━━━━━━━\u001b[0m\u001b[37m\u001b[0m \u001b[1m0s\u001b[0m 28ms/step - accuracy: 0.6982 - loss: 0.8478 - val_accuracy: 0.5333 - val_loss: 0.9413\n",
            "Epoch 17/50\n",
            "\u001b[1m4/4\u001b[0m \u001b[32m━━━━━━━━━━━━━━━━━━━━\u001b[0m\u001b[37m\u001b[0m \u001b[1m0s\u001b[0m 30ms/step - accuracy: 0.7027 - loss: 0.8306 - val_accuracy: 0.5333 - val_loss: 0.9248\n",
            "Epoch 18/50\n",
            "\u001b[1m4/4\u001b[0m \u001b[32m━━━━━━━━━━━━━━━━━━━━\u001b[0m\u001b[37m\u001b[0m \u001b[1m0s\u001b[0m 53ms/step - accuracy: 0.7676 - loss: 0.7769 - val_accuracy: 0.5333 - val_loss: 0.9097\n",
            "Epoch 19/50\n",
            "\u001b[1m4/4\u001b[0m \u001b[32m━━━━━━━━━━━━━━━━━━━━\u001b[0m\u001b[37m\u001b[0m \u001b[1m0s\u001b[0m 44ms/step - accuracy: 0.7346 - loss: 0.7544 - val_accuracy: 0.5333 - val_loss: 0.8952\n",
            "Epoch 20/50\n",
            "\u001b[1m4/4\u001b[0m \u001b[32m━━━━━━━━━━━━━━━━━━━━\u001b[0m\u001b[37m\u001b[0m \u001b[1m0s\u001b[0m 32ms/step - accuracy: 0.7666 - loss: 0.7486 - val_accuracy: 0.6000 - val_loss: 0.8811\n",
            "Epoch 21/50\n",
            "\u001b[1m4/4\u001b[0m \u001b[32m━━━━━━━━━━━━━━━━━━━━\u001b[0m\u001b[37m\u001b[0m \u001b[1m0s\u001b[0m 46ms/step - accuracy: 0.7773 - loss: 0.7204 - val_accuracy: 0.6000 - val_loss: 0.8673\n",
            "Epoch 22/50\n",
            "\u001b[1m4/4\u001b[0m \u001b[32m━━━━━━━━━━━━━━━━━━━━\u001b[0m\u001b[37m\u001b[0m \u001b[1m0s\u001b[0m 23ms/step - accuracy: 0.7940 - loss: 0.7098 - val_accuracy: 0.6000 - val_loss: 0.8540\n",
            "Epoch 23/50\n",
            "\u001b[1m4/4\u001b[0m \u001b[32m━━━━━━━━━━━━━━━━━━━━\u001b[0m\u001b[37m\u001b[0m \u001b[1m0s\u001b[0m 22ms/step - accuracy: 0.8148 - loss: 0.6872 - val_accuracy: 0.6667 - val_loss: 0.8412\n",
            "Epoch 24/50\n",
            "\u001b[1m4/4\u001b[0m \u001b[32m━━━━━━━━━━━━━━━━━━━━\u001b[0m\u001b[37m\u001b[0m \u001b[1m0s\u001b[0m 33ms/step - accuracy: 0.8148 - loss: 0.6662 - val_accuracy: 0.6667 - val_loss: 0.8289\n",
            "Epoch 25/50\n",
            "\u001b[1m4/4\u001b[0m \u001b[32m━━━━━━━━━━━━━━━━━━━━\u001b[0m\u001b[37m\u001b[0m \u001b[1m0s\u001b[0m 41ms/step - accuracy: 0.7565 - loss: 0.6852 - val_accuracy: 0.6667 - val_loss: 0.8171\n",
            "Epoch 26/50\n",
            "\u001b[1m4/4\u001b[0m \u001b[32m━━━━━━━━━━━━━━━━━━━━\u001b[0m\u001b[37m\u001b[0m \u001b[1m0s\u001b[0m 23ms/step - accuracy: 0.7700 - loss: 0.6649 - val_accuracy: 0.7333 - val_loss: 0.8062\n",
            "Epoch 27/50\n",
            "\u001b[1m4/4\u001b[0m \u001b[32m━━━━━━━━━━━━━━━━━━━━\u001b[0m\u001b[37m\u001b[0m \u001b[1m0s\u001b[0m 26ms/step - accuracy: 0.8040 - loss: 0.6293 - val_accuracy: 0.7333 - val_loss: 0.7958\n",
            "Epoch 28/50\n",
            "\u001b[1m4/4\u001b[0m \u001b[32m━━━━━━━━━━━━━━━━━━━━\u001b[0m\u001b[37m\u001b[0m \u001b[1m0s\u001b[0m 41ms/step - accuracy: 0.8051 - loss: 0.6374 - val_accuracy: 0.7333 - val_loss: 0.7853\n",
            "Epoch 29/50\n",
            "\u001b[1m4/4\u001b[0m \u001b[32m━━━━━━━━━━━━━━━━━━━━\u001b[0m\u001b[37m\u001b[0m \u001b[1m0s\u001b[0m 48ms/step - accuracy: 0.8318 - loss: 0.5978 - val_accuracy: 0.7333 - val_loss: 0.7754\n",
            "Epoch 30/50\n",
            "\u001b[1m4/4\u001b[0m \u001b[32m━━━━━━━━━━━━━━━━━━━━\u001b[0m\u001b[37m\u001b[0m \u001b[1m0s\u001b[0m 34ms/step - accuracy: 0.8172 - loss: 0.6033 - val_accuracy: 0.7333 - val_loss: 0.7659\n",
            "Epoch 31/50\n",
            "\u001b[1m4/4\u001b[0m \u001b[32m━━━━━━━━━━━━━━━━━━━━\u001b[0m\u001b[37m\u001b[0m \u001b[1m0s\u001b[0m 34ms/step - accuracy: 0.8276 - loss: 0.5785 - val_accuracy: 0.7333 - val_loss: 0.7568\n",
            "Epoch 32/50\n",
            "\u001b[1m4/4\u001b[0m \u001b[32m━━━━━━━━━━━━━━━━━━━━\u001b[0m\u001b[37m\u001b[0m \u001b[1m0s\u001b[0m 38ms/step - accuracy: 0.8148 - loss: 0.5769 - val_accuracy: 0.7333 - val_loss: 0.7475\n",
            "Epoch 33/50\n",
            "\u001b[1m4/4\u001b[0m \u001b[32m━━━━━━━━━━━━━━━━━━━━\u001b[0m\u001b[37m\u001b[0m \u001b[1m0s\u001b[0m 25ms/step - accuracy: 0.8300 - loss: 0.5892 - val_accuracy: 0.7333 - val_loss: 0.7386\n",
            "Epoch 34/50\n",
            "\u001b[1m4/4\u001b[0m \u001b[32m━━━━━━━━━━━━━━━━━━━━\u001b[0m\u001b[37m\u001b[0m \u001b[1m0s\u001b[0m 28ms/step - accuracy: 0.8165 - loss: 0.5559 - val_accuracy: 0.7333 - val_loss: 0.7298\n",
            "Epoch 35/50\n",
            "\u001b[1m4/4\u001b[0m \u001b[32m━━━━━━━━━━━━━━━━━━━━\u001b[0m\u001b[37m\u001b[0m \u001b[1m0s\u001b[0m 25ms/step - accuracy: 0.8519 - loss: 0.5307 - val_accuracy: 0.7333 - val_loss: 0.7215\n",
            "Epoch 36/50\n",
            "\u001b[1m4/4\u001b[0m \u001b[32m━━━━━━━━━━━━━━━━━━━━\u001b[0m\u001b[37m\u001b[0m \u001b[1m0s\u001b[0m 35ms/step - accuracy: 0.8498 - loss: 0.5248 - val_accuracy: 0.7333 - val_loss: 0.7134\n",
            "Epoch 37/50\n",
            "\u001b[1m4/4\u001b[0m \u001b[32m━━━━━━━━━━━━━━━━━━━━\u001b[0m\u001b[37m\u001b[0m \u001b[1m0s\u001b[0m 54ms/step - accuracy: 0.8467 - loss: 0.5032 - val_accuracy: 0.7333 - val_loss: 0.7060\n",
            "Epoch 38/50\n",
            "\u001b[1m4/4\u001b[0m \u001b[32m━━━━━━━━━━━━━━━━━━━━\u001b[0m\u001b[37m\u001b[0m \u001b[1m0s\u001b[0m 52ms/step - accuracy: 0.8404 - loss: 0.5263 - val_accuracy: 0.7333 - val_loss: 0.6983\n",
            "Epoch 39/50\n",
            "\u001b[1m4/4\u001b[0m \u001b[32m━━━━━━━━━━━━━━━━━━━━\u001b[0m\u001b[37m\u001b[0m \u001b[1m0s\u001b[0m 36ms/step - accuracy: 0.8290 - loss: 0.5148 - val_accuracy: 0.7333 - val_loss: 0.6909\n",
            "Epoch 40/50\n",
            "\u001b[1m4/4\u001b[0m \u001b[32m━━━━━━━━━━━━━━━━━━━━\u001b[0m\u001b[37m\u001b[0m \u001b[1m0s\u001b[0m 44ms/step - accuracy: 0.8255 - loss: 0.5326 - val_accuracy: 0.7333 - val_loss: 0.6836\n",
            "Epoch 41/50\n",
            "\u001b[1m4/4\u001b[0m \u001b[32m━━━━━━━━━━━━━━━━━━━━\u001b[0m\u001b[37m\u001b[0m \u001b[1m0s\u001b[0m 37ms/step - accuracy: 0.8755 - loss: 0.4904 - val_accuracy: 0.7333 - val_loss: 0.6761\n",
            "Epoch 42/50\n",
            "\u001b[1m4/4\u001b[0m \u001b[32m━━━━━━━━━━━━━━━━━━━━\u001b[0m\u001b[37m\u001b[0m \u001b[1m0s\u001b[0m 36ms/step - accuracy: 0.8849 - loss: 0.4687 - val_accuracy: 0.7333 - val_loss: 0.6690\n",
            "Epoch 43/50\n",
            "\u001b[1m4/4\u001b[0m \u001b[32m━━━━━━━━━━━━━━━━━━━━\u001b[0m\u001b[37m\u001b[0m \u001b[1m0s\u001b[0m 47ms/step - accuracy: 0.8474 - loss: 0.4968 - val_accuracy: 0.7333 - val_loss: 0.6622\n",
            "Epoch 44/50\n",
            "\u001b[1m4/4\u001b[0m \u001b[32m━━━━━━━━━━━━━━━━━━━━\u001b[0m\u001b[37m\u001b[0m \u001b[1m0s\u001b[0m 23ms/step - accuracy: 0.8234 - loss: 0.5027 - val_accuracy: 0.7333 - val_loss: 0.6561\n",
            "Epoch 45/50\n",
            "\u001b[1m4/4\u001b[0m \u001b[32m━━━━━━━━━━━━━━━━━━━━\u001b[0m\u001b[37m\u001b[0m \u001b[1m0s\u001b[0m 54ms/step - accuracy: 0.8578 - loss: 0.4610 - val_accuracy: 0.7333 - val_loss: 0.6506\n",
            "Epoch 46/50\n",
            "\u001b[1m4/4\u001b[0m \u001b[32m━━━━━━━━━━━━━━━━━━━━\u001b[0m\u001b[37m\u001b[0m \u001b[1m0s\u001b[0m 37ms/step - accuracy: 0.8630 - loss: 0.4718 - val_accuracy: 0.7333 - val_loss: 0.6451\n",
            "Epoch 47/50\n",
            "\u001b[1m4/4\u001b[0m \u001b[32m━━━━━━━━━━━━━━━━━━━━\u001b[0m\u001b[37m\u001b[0m \u001b[1m0s\u001b[0m 89ms/step - accuracy: 0.8630 - loss: 0.4506 - val_accuracy: 0.7333 - val_loss: 0.6395\n",
            "Epoch 48/50\n",
            "\u001b[1m4/4\u001b[0m \u001b[32m━━━━━━━━━━━━━━━━━━━━\u001b[0m\u001b[37m\u001b[0m \u001b[1m1s\u001b[0m 81ms/step - accuracy: 0.8307 - loss: 0.4850 - val_accuracy: 0.7333 - val_loss: 0.6338\n",
            "Epoch 49/50\n",
            "\u001b[1m4/4\u001b[0m \u001b[32m━━━━━━━━━━━━━━━━━━━━\u001b[0m\u001b[37m\u001b[0m \u001b[1m1s\u001b[0m 74ms/step - accuracy: 0.8547 - loss: 0.4439 - val_accuracy: 0.7333 - val_loss: 0.6278\n",
            "Epoch 50/50\n",
            "\u001b[1m4/4\u001b[0m \u001b[32m━━━━━━━━━━━━━━━━━━━━\u001b[0m\u001b[37m\u001b[0m \u001b[1m0s\u001b[0m 60ms/step - accuracy: 0.8276 - loss: 0.4823 - val_accuracy: 0.7333 - val_loss: 0.6219\n"
          ]
        }
      ]
    },
    {
      "cell_type": "code",
      "source": [
        "# Step 8: Evaluate the model on the test set\n",
        "y_pred = model.predict(X_test)"
      ],
      "metadata": {
        "colab": {
          "base_uri": "https://localhost:8080/"
        },
        "id": "Av7SgHd982Ts",
        "outputId": "b412d764-9253-4b2f-81e6-9be2341f7ef5"
      },
      "execution_count": 14,
      "outputs": [
        {
          "output_type": "stream",
          "name": "stdout",
          "text": [
            "\u001b[1m1/1\u001b[0m \u001b[32m━━━━━━━━━━━━━━━━━━━━\u001b[0m\u001b[37m\u001b[0m \u001b[1m0s\u001b[0m 62ms/step\n"
          ]
        }
      ]
    },
    {
      "cell_type": "code",
      "source": [
        "# Convert the predicted probabilities to class labels\n",
        "y_pred_labels = np.argmax(y_pred, axis=1)\n",
        "y_test_labels = np.argmax(y_test, axis=1)\n",
        "\n",
        "# Calculate evaluation metrics\n",
        "accuracy = accuracy_score(y_test_labels, y_pred_labels)\n",
        "precision = precision_score(y_test_labels, y_pred_labels, average='weighted')\n",
        "recall = recall_score(y_test_labels, y_pred_labels, average='weighted')\n",
        "f1 = f1_score(y_test_labels, y_pred_labels, average='weighted')"
      ],
      "metadata": {
        "id": "WaBELJqp85Ry"
      },
      "execution_count": 15,
      "outputs": []
    },
    {
      "cell_type": "code",
      "source": [
        "import wandb"
      ],
      "metadata": {
        "id": "713cXqQADra0"
      },
      "execution_count": 16,
      "outputs": []
    },
    {
      "cell_type": "code",
      "source": [
        "# Step 6: Set up W&B for experiment tracking\n",
        "wandb.init(project=\"mlp-iris\", config={\n",
        "    \"learning_rate\": 0.001,\n",
        "    \"batch_size\": 32,\n",
        "    \"epochs\": 50\n",
        "})"
      ],
      "metadata": {
        "colab": {
          "base_uri": "https://localhost:8080/",
          "height": 301
        },
        "id": "0MgY0DqEvVrR",
        "outputId": "3718033c-b5ac-416e-8b33-4bdfc8149921"
      },
      "execution_count": 17,
      "outputs": [
        {
          "output_type": "display_data",
          "data": {
            "text/plain": [
              "<IPython.core.display.Javascript object>"
            ],
            "application/javascript": [
              "\n",
              "        window._wandbApiKey = new Promise((resolve, reject) => {\n",
              "            function loadScript(url) {\n",
              "            return new Promise(function(resolve, reject) {\n",
              "                let newScript = document.createElement(\"script\");\n",
              "                newScript.onerror = reject;\n",
              "                newScript.onload = resolve;\n",
              "                document.body.appendChild(newScript);\n",
              "                newScript.src = url;\n",
              "            });\n",
              "            }\n",
              "            loadScript(\"https://cdn.jsdelivr.net/npm/postmate/build/postmate.min.js\").then(() => {\n",
              "            const iframe = document.createElement('iframe')\n",
              "            iframe.style.cssText = \"width:0;height:0;border:none\"\n",
              "            document.body.appendChild(iframe)\n",
              "            const handshake = new Postmate({\n",
              "                container: iframe,\n",
              "                url: 'https://wandb.ai/authorize'\n",
              "            });\n",
              "            const timeout = setTimeout(() => reject(\"Couldn't auto authenticate\"), 5000)\n",
              "            handshake.then(function(child) {\n",
              "                child.on('authorize', data => {\n",
              "                    clearTimeout(timeout)\n",
              "                    resolve(data)\n",
              "                });\n",
              "            });\n",
              "            })\n",
              "        });\n",
              "    "
            ]
          },
          "metadata": {}
        },
        {
          "output_type": "stream",
          "name": "stderr",
          "text": [
            "\u001b[34m\u001b[1mwandb\u001b[0m: Logging into wandb.ai. (Learn how to deploy a W&B server locally: https://wandb.me/wandb-server)\n",
            "\u001b[34m\u001b[1mwandb\u001b[0m: You can find your API key in your browser here: https://wandb.ai/authorize\n",
            "wandb: Paste an API key from your profile and hit enter:"
          ]
        },
        {
          "name": "stdout",
          "output_type": "stream",
          "text": [
            " ··········\n"
          ]
        },
        {
          "output_type": "stream",
          "name": "stderr",
          "text": [
            "\u001b[34m\u001b[1mwandb\u001b[0m: \u001b[33mWARNING\u001b[0m If you're specifying your api key in code, ensure this code is not shared publicly.\n",
            "\u001b[34m\u001b[1mwandb\u001b[0m: \u001b[33mWARNING\u001b[0m Consider setting the WANDB_API_KEY environment variable, or running `wandb login` from the command line.\n",
            "\u001b[34m\u001b[1mwandb\u001b[0m: Appending key for api.wandb.ai to your netrc file: /root/.netrc\n",
            "\u001b[34m\u001b[1mwandb\u001b[0m: Currently logged in as: \u001b[33makshat13\u001b[0m (\u001b[33makshat13-indian-institute-of-technology-gandhinagar\u001b[0m) to \u001b[32mhttps://api.wandb.ai\u001b[0m. Use \u001b[1m`wandb login --relogin`\u001b[0m to force relogin\n",
            "\u001b[34m\u001b[1mwandb\u001b[0m: Using wandb-core as the SDK backend.  Please refer to https://wandb.me/wandb-core for more information.\n"
          ]
        },
        {
          "output_type": "display_data",
          "data": {
            "text/plain": [
              "<IPython.core.display.HTML object>"
            ],
            "text/html": [
              "Tracking run with wandb version 0.19.6"
            ]
          },
          "metadata": {}
        },
        {
          "output_type": "display_data",
          "data": {
            "text/plain": [
              "<IPython.core.display.HTML object>"
            ],
            "text/html": [
              "Run data is saved locally in <code>/content/wandb/run-20250226_161648-8ztm5q1r</code>"
            ]
          },
          "metadata": {}
        },
        {
          "output_type": "display_data",
          "data": {
            "text/plain": [
              "<IPython.core.display.HTML object>"
            ],
            "text/html": [
              "Syncing run <strong><a href='https://wandb.ai/akshat13-indian-institute-of-technology-gandhinagar/mlp-iris/runs/8ztm5q1r' target=\"_blank\">peachy-puddle-7</a></strong> to <a href='https://wandb.ai/akshat13-indian-institute-of-technology-gandhinagar/mlp-iris' target=\"_blank\">Weights & Biases</a> (<a href='https://wandb.me/developer-guide' target=\"_blank\">docs</a>)<br>"
            ]
          },
          "metadata": {}
        },
        {
          "output_type": "display_data",
          "data": {
            "text/plain": [
              "<IPython.core.display.HTML object>"
            ],
            "text/html": [
              " View project at <a href='https://wandb.ai/akshat13-indian-institute-of-technology-gandhinagar/mlp-iris' target=\"_blank\">https://wandb.ai/akshat13-indian-institute-of-technology-gandhinagar/mlp-iris</a>"
            ]
          },
          "metadata": {}
        },
        {
          "output_type": "display_data",
          "data": {
            "text/plain": [
              "<IPython.core.display.HTML object>"
            ],
            "text/html": [
              " View run at <a href='https://wandb.ai/akshat13-indian-institute-of-technology-gandhinagar/mlp-iris/runs/8ztm5q1r' target=\"_blank\">https://wandb.ai/akshat13-indian-institute-of-technology-gandhinagar/mlp-iris/runs/8ztm5q1r</a>"
            ]
          },
          "metadata": {}
        },
        {
          "output_type": "execute_result",
          "data": {
            "text/html": [
              "<button onClick=\"this.nextSibling.style.display='block';this.style.display='none';\">Display W&B run</button><iframe src='https://wandb.ai/akshat13-indian-institute-of-technology-gandhinagar/mlp-iris/runs/8ztm5q1r?jupyter=true' style='border:none;width:100%;height:420px;display:none;'></iframe>"
            ],
            "text/plain": [
              "<wandb.sdk.wandb_run.Run at 0x7c8bb44ae7d0>"
            ]
          },
          "metadata": {},
          "execution_count": 17
        }
      ]
    },
    {
      "cell_type": "code",
      "source": [
        "wandb.config.update({\n",
        "    \"Architechture\": \"MLP\",\n",
        "    \"Neurons_hidden_layer\": 16,\n",
        "    \"hidden_activation_function\": \"relu\",\n",
        "    \"Neurons_input_layer\": 4,\n",
        "    \"Neurons_output_layer\": 3,\n",
        "    \"output_activation_function\": \"softmax\",\n",
        "    \"loss_function\": \"categorical_crossentropy\",\n",
        "    \"optimizer\": \"adam\"\n",
        "})"
      ],
      "metadata": {
        "id": "rrwniemZO8BD"
      },
      "execution_count": 18,
      "outputs": []
    },
    {
      "cell_type": "code",
      "source": [
        "# Log the metrics to W&B\n",
        "wandb.log({\n",
        "    \"test_accuracy\": accuracy,\n",
        "    \"test_precision\": precision,\n",
        "    \"test_recall\": recall,\n",
        "    \"test_f1\": f1\n",
        "})"
      ],
      "metadata": {
        "id": "zHbr3iX79ClJ"
      },
      "execution_count": 19,
      "outputs": []
    },
    {
      "cell_type": "code",
      "source": [
        "# Print metrics and confusion matrix\n",
        "print(f\"Test Accuracy: {accuracy:.4f}\")\n",
        "print(f\"Test Precision: {precision:.4f}\")\n",
        "print(f\"Test Recall: {recall:.4f}\")\n",
        "print(f\"Test F1-Score: {f1:.4f}\")"
      ],
      "metadata": {
        "colab": {
          "base_uri": "https://localhost:8080/"
        },
        "id": "zvVlVqUgC718",
        "outputId": "32a0b5dd-d55b-40e8-bb51-1cfa89071001"
      },
      "execution_count": 20,
      "outputs": [
        {
          "output_type": "stream",
          "name": "stdout",
          "text": [
            "Test Accuracy: 0.8667\n",
            "Test Precision: 0.9022\n",
            "Test Recall: 0.8667\n",
            "Test F1-Score: 0.8579\n"
          ]
        }
      ]
    },
    {
      "cell_type": "code",
      "source": [
        "import seaborn as sns\n",
        "\n",
        "# Step 1: Confusion Matrix Visualization\n",
        "conf_matrix = confusion_matrix(y_test_labels, y_pred_labels)\n",
        "\n",
        "# Plotting the confusion matrix using seaborn heatmap\n",
        "plt.figure(figsize=(6, 5))\n",
        "sns.heatmap(conf_matrix, annot=True, fmt='d', cmap='Blues', xticklabels=data.target_names, yticklabels=data.target_names)\n",
        "plt.title('Confusion Matrix')\n",
        "plt.xlabel('Predicted Label')\n",
        "plt.ylabel('True Label')\n",
        "wandb.log({\"confusion_matrix\": wandb.Image(plt)})\n",
        "plt.show()\n",
        "plt.close()"
      ],
      "metadata": {
        "colab": {
          "base_uri": "https://localhost:8080/",
          "height": 487
        },
        "id": "NEPSzAWeDN7Z",
        "outputId": "307c2284-59ec-4bc2-bbbf-833de013ab89"
      },
      "execution_count": 21,
      "outputs": [
        {
          "output_type": "display_data",
          "data": {
            "text/plain": [
              "<Figure size 600x500 with 2 Axes>"
            ],
            "image/png": "[encoded data removed]"
          },
          "metadata": {}
        }
      ]
    },
    {
      "cell_type": "code",
      "source": [
        "# Step 2: Loss Curve Visualization\n",
        "plt.figure(figsize=(8, 6))\n",
        "plt.plot(history.history['loss'], label='Training Loss')\n",
        "plt.plot(history.history['val_loss'], label='Validation Loss')\n",
        "plt.title('Training and Validation Loss')\n",
        "plt.xlabel('Epochs')\n",
        "plt.ylabel('Loss')\n",
        "plt.legend()\n",
        "wandb.log({\"loss_curve\": wandb.Image(plt)})\n",
        "plt.show()\n",
        "plt.close()"
      ],
      "metadata": {
        "colab": {
          "base_uri": "https://localhost:8080/",
          "height": 547
        },
        "id": "8z16ZFxCDYcW",
        "outputId": "a0c59d1e-21a5-470c-9395-e3b30e586d6a"
      },
      "execution_count": 22,
      "outputs": [
        {
          "output_type": "display_data",
          "data": {
            "text/plain": [
              "<Figure size 800x600 with 1 Axes>"
            ],
            "image/png": "[encoded data removed]"
          },
          "metadata": {}
        }
      ]
    },
    {
      "cell_type": "code",
      "source": [
        "for epoch, (train_loss, val_loss) in enumerate(zip(history.history['loss'], history.history['val_loss'])):\n",
        "    wandb.log({\n",
        "        \"epoch\": epoch + 1,\n",
        "        \"training_loss\": train_loss,\n",
        "        \"validation_loss\": val_loss\n",
        "    })"
      ],
      "metadata": {
        "id": "9kasUJoBQyaq"
      },
      "execution_count": 23,
      "outputs": []
    },
    {
      "cell_type": "markdown",
      "source": [
        "![image.png](data:image/png;base64,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)"
      ],
      "metadata": {
        "id": "gXOF5AYwSTti"
      }
    },
    {
      "cell_type": "markdown",
      "source": [
        "![image.png](data:image/png;base64,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)\n",
        "\n",
        "![image.png](data:image/png;base64,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)"
      ],
      "metadata": {
        "id": "SJExPN09SbU5"
      }
    },
    {
      "cell_type": "markdown",
      "source": [
        "![image.png](data:image/png;base64,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)"
      ],
      "metadata": {
        "id": "9METJdhJSiyZ"
      }
    },
    {
      "cell_type": "markdown",
      "source": [
        "![image.png](data:image/png;base64,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)"
      ],
      "metadata": {
        "id": "oR80_9IExl8H"
      }
    },
    {
      "cell_type": "markdown",
      "source": [
        "![image.png](data:image/png;base64,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)"
      ],
      "metadata": {
        "id": "T_EFg5SmxxMM"
      }
    },
    {
      "cell_type": "code",
      "source": [
        "wandb.finish()"
      ],
      "metadata": {
        "id": "z_Ja9oSE9E8N",
        "colab": {
          "base_uri": "https://localhost:8080/",
          "height": 586
        },
        "outputId": "6ab84129-7c51-4e0a-c588-969292e6f94f"
      },
      "execution_count": 24,
      "outputs": [
        {
          "output_type": "display_data",
          "data": {
            "text/plain": [
              "<IPython.core.display.HTML object>"
            ],
            "text/html": []
          },
          "metadata": {}
        },
        {
          "output_type": "display_data",
          "data": {
            "text/plain": [
              "<IPython.core.display.HTML object>"
            ],
            "text/html": [
              "<br>    <style><br>        .wandb-row {<br>            display: flex;<br>            flex-direction: row;<br>            flex-wrap: wrap;<br>            justify-content: flex-start;<br>            width: 100%;<br>        }<br>        .wandb-col {<br>            display: flex;<br>            flex-direction: column;<br>            flex-basis: 100%;<br>            flex: 1;<br>            padding: 10px;<br>        }<br>    </style><br><div class=\"wandb-row\"><div class=\"wandb-col\"><h3>Run history:</h3><br/><table class=\"wandb\"><tr><td>epoch</td><td>▁▁▁▂▂▂▂▂▂▃▃▃▃▃▃▄▄▄▄▄▅▅▅▅▅▅▆▆▆▆▆▆▇▇▇▇▇███</td></tr><tr><td>test_accuracy</td><td>▁</td></tr><tr><td>test_f1</td><td>▁</td></tr><tr><td>test_precision</td><td>▁</td></tr><tr><td>test_recall</td><td>▁</td></tr><tr><td>training_loss</td><td>██▇▇▇▆▆▅▅▅▄▄▄▄▄▃▃▃▃▃▃▂▂▂▂▂▂▂▂▂▁▁▁▁▁▁▁▁▁▁</td></tr><tr><td>validation_loss</td><td>██▇▇▇▆▆▆▅▅▅▄▄▄▄▄▃▃▃▃▃▃▃▃▂▂▂▂▂▂▂▂▂▁▁▁▁▁▁▁</td></tr></table><br/></div><div class=\"wandb-col\"><h3>Run summary:</h3><br/><table class=\"wandb\"><tr><td>epoch</td><td>50</td></tr><tr><td>test_accuracy</td><td>0.86667</td></tr><tr><td>test_f1</td><td>0.85788</td></tr><tr><td>test_precision</td><td>0.90222</td></tr><tr><td>test_recall</td><td>0.86667</td></tr><tr><td>training_loss</td><td>0.45847</td></tr><tr><td>validation_loss</td><td>0.62191</td></tr></table><br/></div></div>"
            ]
          },
          "metadata": {}
        },
        {
          "output_type": "display_data",
          "data": {
            "text/plain": [
              "<IPython.core.display.HTML object>"
            ],
            "text/html": [
              " View run <strong style=\"color:#cdcd00\">peachy-puddle-7</strong> at: <a href='https://wandb.ai/akshat13-indian-institute-of-technology-gandhinagar/mlp-iris/runs/8ztm5q1r' target=\"_blank\">https://wandb.ai/akshat13-indian-institute-of-technology-gandhinagar/mlp-iris/runs/8ztm5q1r</a><br> View project at: <a href='https://wandb.ai/akshat13-indian-institute-of-technology-gandhinagar/mlp-iris' target=\"_blank\">https://wandb.ai/akshat13-indian-institute-of-technology-gandhinagar/mlp-iris</a><br>Synced 5 W&B file(s), 2 media file(s), 0 artifact file(s) and 0 other file(s)"
            ]
          },
          "metadata": {}
        },
        {
          "output_type": "display_data",
          "data": {
            "text/plain": [
              "<IPython.core.display.HTML object>"
            ],
            "text/html": [
              "Find logs at: <code>./wandb/run-20250226_161648-8ztm5q1r/logs</code>"
            ]
          },
          "metadata": {}
        }
      ]
    },
    {
      "cell_type": "markdown",
      "source": [
        "## Section 2: Hyperparameters\n",
        "This section aims to perform a hyperparameter search to improve the performance of a custom model that distinguishes between any two classes (positive/negative or anything).\n"
      ],
      "metadata": {
        "id": "h6OHKLbb_ZjB"
      }
    },
    {
      "cell_type": "code",
      "source": [
        "!pip install --upgrade tensorflow\n"
      ],
      "metadata": {
        "colab": {
          "base_uri": "https://localhost:8080/"
        },
        "id": "Ep4zHw5uCGe6",
        "outputId": "8c3cd363-0710-457a-a8c3-0e5441b0ec0f"
      },
      "execution_count": 25,
      "outputs": [
        {
          "output_type": "stream",
          "name": "stdout",
          "text": [
            "Requirement already satisfied: tensorflow in /usr/local/lib/python3.11/dist-packages (2.18.0)\n",
            "Requirement already satisfied: absl-py>=1.0.0 in /usr/local/lib/python3.11/dist-packages (from tensorflow) (1.4.0)\n",
            "Requirement already satisfied: astunparse>=1.6.0 in /usr/local/lib/python3.11/dist-packages (from tensorflow) (1.6.3)\n",
            "Requirement already satisfied: flatbuffers>=24.3.25 in /usr/local/lib/python3.11/dist-packages (from tensorflow) (25.2.10)\n",
            "Requirement already satisfied: gast!=0.5.0,!=0.5.1,!=0.5.2,>=0.2.1 in /usr/local/lib/python3.11/dist-packages (from tensorflow) (0.6.0)\n",
            "Requirement already satisfied: google-pasta>=0.1.1 in /usr/local/lib/python3.11/dist-packages (from tensorflow) (0.2.0)\n",
            "Requirement already satisfied: libclang>=13.0.0 in /usr/local/lib/python3.11/dist-packages (from tensorflow) (18.1.1)\n",
            "Requirement already satisfied: opt-einsum>=2.3.2 in /usr/local/lib/python3.11/dist-packages (from tensorflow) (3.4.0)\n",
            "Requirement already satisfied: packaging in /usr/local/lib/python3.11/dist-packages (from tensorflow) (24.2)\n",
            "Requirement already satisfied: protobuf!=4.21.0,!=4.21.1,!=4.21.2,!=4.21.3,!=4.21.4,!=4.21.5,<6.0.0dev,>=3.20.3 in /usr/local/lib/python3.11/dist-packages (from tensorflow) (4.25.6)\n",
            "Requirement already satisfied: requests<3,>=2.21.0 in /usr/local/lib/python3.11/dist-packages (from tensorflow) (2.32.3)\n",
            "Requirement already satisfied: setuptools in /usr/local/lib/python3.11/dist-packages (from tensorflow) (75.1.0)\n",
            "Requirement already satisfied: six>=1.12.0 in /usr/local/lib/python3.11/dist-packages (from tensorflow) (1.17.0)\n",
            "Requirement already satisfied: termcolor>=1.1.0 in /usr/local/lib/python3.11/dist-packages (from tensorflow) (2.5.0)\n",
            "Requirement already satisfied: typing-extensions>=3.6.6 in /usr/local/lib/python3.11/dist-packages (from tensorflow) (4.12.2)\n",
            "Requirement already satisfied: wrapt>=1.11.0 in /usr/local/lib/python3.11/dist-packages (from tensorflow) (1.17.2)\n",
            "Requirement already satisfied: grpcio<2.0,>=1.24.3 in /usr/local/lib/python3.11/dist-packages (from tensorflow) (1.70.0)\n",
            "Requirement already satisfied: tensorboard<2.19,>=2.18 in /usr/local/lib/python3.11/dist-packages (from tensorflow) (2.18.0)\n",
            "Requirement already satisfied: keras>=3.5.0 in /usr/local/lib/python3.11/dist-packages (from tensorflow) (3.8.0)\n",
            "Requirement already satisfied: numpy<2.1.0,>=1.26.0 in /usr/local/lib/python3.11/dist-packages (from tensorflow) (1.26.4)\n",
            "Requirement already satisfied: h5py>=3.11.0 in /usr/local/lib/python3.11/dist-packages (from tensorflow) (3.12.1)\n",
            "Requirement already satisfied: ml-dtypes<0.5.0,>=0.4.0 in /usr/local/lib/python3.11/dist-packages (from tensorflow) (0.4.1)\n",
            "Requirement already satisfied: tensorflow-io-gcs-filesystem>=0.23.1 in /usr/local/lib/python3.11/dist-packages (from tensorflow) (0.37.1)\n",
            "Requirement already satisfied: wheel<1.0,>=0.23.0 in /usr/local/lib/python3.11/dist-packages (from astunparse>=1.6.0->tensorflow) (0.45.1)\n",
            "Requirement already satisfied: rich in /usr/local/lib/python3.11/dist-packages (from keras>=3.5.0->tensorflow) (13.9.4)\n",
            "Requirement already satisfied: namex in /usr/local/lib/python3.11/dist-packages (from keras>=3.5.0->tensorflow) (0.0.8)\n",
            "Requirement already satisfied: optree in /usr/local/lib/python3.11/dist-packages (from keras>=3.5.0->tensorflow) (0.14.0)\n",
            "Requirement already satisfied: charset-normalizer<4,>=2 in /usr/local/lib/python3.11/dist-packages (from requests<3,>=2.21.0->tensorflow) (3.4.1)\n",
            "Requirement already satisfied: idna<4,>=2.5 in /usr/local/lib/python3.11/dist-packages (from requests<3,>=2.21.0->tensorflow) (3.10)\n",
            "Requirement already satisfied: urllib3<3,>=1.21.1 in /usr/local/lib/python3.11/dist-packages (from requests<3,>=2.21.0->tensorflow) (2.3.0)\n",
            "Requirement already satisfied: certifi>=2017.4.17 in /usr/local/lib/python3.11/dist-packages (from requests<3,>=2.21.0->tensorflow) (2025.1.31)\n",
            "Requirement already satisfied: markdown>=2.6.8 in /usr/local/lib/python3.11/dist-packages (from tensorboard<2.19,>=2.18->tensorflow) (3.7)\n",
            "Requirement already satisfied: tensorboard-data-server<0.8.0,>=0.7.0 in /usr/local/lib/python3.11/dist-packages (from tensorboard<2.19,>=2.18->tensorflow) (0.7.2)\n",
            "Requirement already satisfied: werkzeug>=1.0.1 in /usr/local/lib/python3.11/dist-packages (from tensorboard<2.19,>=2.18->tensorflow) (3.1.3)\n",
            "Requirement already satisfied: MarkupSafe>=2.1.1 in /usr/local/lib/python3.11/dist-packages (from werkzeug>=1.0.1->tensorboard<2.19,>=2.18->tensorflow) (3.0.2)\n",
            "Requirement already satisfied: markdown-it-py>=2.2.0 in /usr/local/lib/python3.11/dist-packages (from rich->keras>=3.5.0->tensorflow) (3.0.0)\n",
            "Requirement already satisfied: pygments<3.0.0,>=2.13.0 in /usr/local/lib/python3.11/dist-packages (from rich->keras>=3.5.0->tensorflow) (2.18.0)\n",
            "Requirement already satisfied: mdurl~=0.1 in /usr/local/lib/python3.11/dist-packages (from markdown-it-py>=2.2.0->rich->keras>=3.5.0->tensorflow) (0.1.2)\n"
          ]
        }
      ]
    },
    {
      "cell_type": "code",
      "source": [
        "import numpy as np\n",
        "import matplotlib.pyplot as plt\n",
        "import keras\n",
        "from keras.models import Sequential\n",
        "from keras.layers import Dense\n",
        "from sklearn.metrics import accuracy_score, f1_score\n",
        "\n",
        "# Define parameters for grid search\n",
        "param_grid = {\n",
        "    'batch_size': [2, 4],\n",
        "    'learning_rate': [0.001, 1e-5],\n",
        "    'epochs': [1,3, 5]\n",
        "}\n",
        "\n",
        "results = []\n",
        "\n",
        "# Perform grid search\n",
        "for batch_size in param_grid['batch_size']:\n",
        "    for learning_rate in param_grid['learning_rate']:\n",
        "        for epochs in param_grid['epochs']:\n",
        "            print(f\"\\nTraining model with batch_size={batch_size}, learning_rate={learning_rate}, epochs={epochs}\")\n",
        "            keras.backend.clear_session()  # Reset model state\n",
        "\n",
        "            # Initialize the MLP model\n",
        "            model = Sequential([\n",
        "                Dense(16, input_dim=4, activation='relu'),\n",
        "                Dense(3, activation='softmax')\n",
        "            ])\n",
        "\n",
        "            # Compile the model with Adam optimizer\n",
        "            model.compile(optimizer=keras.optimizers.Adam(learning_rate=learning_rate),\n",
        "                          loss=keras.losses.BinaryCrossentropy())\n",
        "\n",
        "            # Train the model\n",
        "            history = model.fit(X_train, y_train, epochs=epochs, batch_size=batch_size,\n",
        "                                verbose=1, validation_split=0.1)\n",
        "\n",
        "            # Generate predictions\n",
        "            y_pred = model.predict(X_test)\n",
        "            y_pred_classes = np.argmax(y_pred, axis=1)\n",
        "            y_test_classes = np.argmax(y_test, axis=1)\n",
        "\n",
        "            # Compute performance metrics\n",
        "            accuracy = accuracy_score(y_test_classes, y_pred_classes)\n",
        "            f1 = f1_score(y_test_classes, y_pred_classes, average='weighted')\n",
        "\n",
        "            # Save results\n",
        "            results.append({\n",
        "                'batch_size': batch_size,\n",
        "                'learning_rate': learning_rate,\n",
        "                'epochs': epochs,\n",
        "                'accuracy': accuracy,\n",
        "                'f1': f1,\n",
        "                'train_loss': history.history['loss'],\n",
        "                'val_loss': history.history['val_loss'],\n",
        "                'y_pred_classes': y_pred_classes,\n",
        "                'y_test_classes': y_test_classes\n",
        "            })\n",
        "\n",
        "            # Display sample predictions\n",
        "            print(\"\\nSample Predictions:\")\n",
        "            print(\"Features | True Label | Predicted Label\")\n",
        "            print(\"-\" * 30)\n",
        "            for i in range(min(5, len(X_test))):\n",
        "                print(f\"{X_test[i]} | {y_test_classes[i]} | {y_pred_classes[i]}\")\n",
        "\n",
        "            # Output evaluation metrics\n",
        "            print(f\"\\nResults for batch_size={batch_size}, learning_rate={learning_rate}, epochs={epochs}\")\n",
        "            print(f\"Accuracy: {accuracy:.4f}\")\n",
        "            print(f\"F1 Score: {f1:.4f}\")\n"
      ],
      "metadata": {
        "id": "CvgA92Ax_kmJ",
        "outputId": "75fc9bad-94b7-43ff-9b4d-9a2cacd4686d",
        "colab": {
          "base_uri": "https://localhost:8080/",
          "height": 263
        }
      },
      "execution_count": 11,
      "outputs": [
        {
          "output_type": "stream",
          "name": "stdout",
          "text": [
            "\n",
            "Training model with batch_size=2, learning_rate=0.001, epochs=1\n"
          ]
        },
        {
          "output_type": "error",
          "ename": "NameError",
          "evalue": "name 'X_train' is not defined",
          "traceback": [
            "\u001b[0;31m---------------------------------------------------------------------------\u001b[0m",
            "\u001b[0;31mNameError\u001b[0m                                 Traceback (most recent call last)",
            "\u001b[0;32m<ipython-input-11-8bf23979202c>\u001b[0m in \u001b[0;36m<cell line: 0>\u001b[0;34m()\u001b[0m\n\u001b[1;32m     33\u001b[0m \u001b[0;34m\u001b[0m\u001b[0m\n\u001b[1;32m     34\u001b[0m             \u001b[0;31m# Train the model\u001b[0m\u001b[0;34m\u001b[0m\u001b[0;34m\u001b[0m\u001b[0m\n\u001b[0;32m---> 35\u001b[0;31m             history = model.fit(X_train, y_train, epochs=epochs, batch_size=batch_size,\n\u001b[0m\u001b[1;32m     36\u001b[0m                                 verbose=1, validation_split=0.1)\n\u001b[1;32m     37\u001b[0m \u001b[0;34m\u001b[0m\u001b[0m\n",
            "\u001b[0;31mNameError\u001b[0m: name 'X_train' is not defined"
          ]
        }
      ]
    },
    {
      "cell_type": "code",
      "source": [
        "# Plot training and validation losses in a 2-row, 4-column grid\n",
        "num_plots = min(len(results), 8)  # Ensure we don't exceed subplot limit\n",
        "fig, axes = plt.subplots(nrows=2, ncols=4, figsize=(20, 10))\n",
        "axes = axes.flatten()\n",
        "\n",
        "for i in range(num_plots):\n",
        "    result = results[i]\n",
        "    ax = axes[i]\n",
        "    ax.scatter(range(len(result['train_loss'])), result['train_loss'], label='Training Loss', marker='o')\n",
        "    ax.plot(result['train_loss'], label='Training Loss', linestyle='dashed')\n",
        "    ax.scatter(range(len(result['val_loss'])), result['val_loss'], label='Validation Loss', marker='s')\n",
        "    ax.plot(result['val_loss'], label='Validation Loss', linestyle='solid')\n",
        "    ax.set_xlabel('Epoch')\n",
        "    ax.set_ylabel('Loss')\n",
        "    ax.set_title(f'Batch={result[\"batch_size\"]}, LR={result[\"learning_rate\"]}, Epochs={result[\"epochs\"]}')\n",
        "    ax.legend()\n",
        "    ax.grid(True)\n",
        "\n",
        "# Hide any unused subplots\n",
        "for j in range(num_plots, len(axes)):\n",
        "    fig.delaxes(axes[j])\n",
        "\n",
        "plt.tight_layout()\n",
        "plt.show()\n",
        "\n",
        "# Plot Confusion Matrices for all configurations\n",
        "plt.figure(figsize=(20, 15))\n",
        "for i, result in enumerate(results):\n",
        "    plt.subplot(3, 4, i + 1)  # 3 rows, 4 columns to accommodate all 12 configurations\n",
        "    cm = confusion_matrix(result['y_test_classes'], result['y_pred_classes'])\n",
        "    sns.heatmap(cm, annot=True, fmt='d', cmap='Blues')\n",
        "    plt.title(f'Batch:{result[\"batch_size\"]}, \\nLR:{result[\"learning_rate\"]}, Epochs:{result[\"epochs\"]}')\n",
        "    plt.xlabel('Predicted')\n",
        "    plt.ylabel('True')\n",
        "plt.tight_layout()\n",
        "plt.show()"
      ],
      "metadata": {
        "id": "PPQ-ATUDJQ4a"
      },
      "execution_count": null,
      "outputs": []
    },
    {
      "cell_type": "code",
      "source": [
        "pip install autogluon"
      ],
      "metadata": {
        "colab": {
          "base_uri": "https://localhost:8080/"
        },
        "id": "_B-aX6VqHL_h",
        "outputId": "be2948e2-e2c6-4fda-bc89-78079396427e"
      },
      "execution_count": 1,
      "outputs": [
        {
          "output_type": "stream",
          "name": "stdout",
          "text": [
            "Requirement already satisfied: autogluon in /usr/local/lib/python3.11/dist-packages (1.2)\n",
            "Requirement already satisfied: autogluon.core==1.2 in /usr/local/lib/python3.11/dist-packages (from autogluon.core[all]==1.2->autogluon) (1.2)\n",
            "Requirement already satisfied: autogluon.features==1.2 in /usr/local/lib/python3.11/dist-packages (from autogluon) (1.2)\n",
            "Requirement already satisfied: autogluon.tabular==1.2 in /usr/local/lib/python3.11/dist-packages (from autogluon.tabular[all]==1.2->autogluon) (1.2)\n",
            "Requirement already satisfied: autogluon.multimodal==1.2 in /usr/local/lib/python3.11/dist-packages (from autogluon) (1.2)\n",
            "Requirement already satisfied: autogluon.timeseries==1.2 in /usr/local/lib/python3.11/dist-packages (from autogluon.timeseries[all]==1.2->autogluon) (1.2)\n",
            "Requirement already satisfied: numpy<2.1.4,>=1.25.0 in /usr/local/lib/python3.11/dist-packages (from autogluon.core==1.2->autogluon.core[all]==1.2->autogluon) (1.26.4)\n",
            "Requirement already satisfied: scipy<1.16,>=1.5.4 in /usr/local/lib/python3.11/dist-packages (from autogluon.core==1.2->autogluon.core[all]==1.2->autogluon) (1.13.1)\n",
            "Requirement already satisfied: scikit-learn<1.5.3,>=1.4.0 in /usr/local/lib/python3.11/dist-packages (from autogluon.core==1.2->autogluon.core[all]==1.2->autogluon) (1.5.2)\n",
            "Requirement already satisfied: networkx<4,>=3.0 in /usr/local/lib/python3.11/dist-packages (from autogluon.core==1.2->autogluon.core[all]==1.2->autogluon) (3.4.2)\n",
            "Requirement already satisfied: pandas<2.3.0,>=2.0.0 in /usr/local/lib/python3.11/dist-packages (from autogluon.core==1.2->autogluon.core[all]==1.2->autogluon) (2.2.2)\n",
            "Requirement already satisfied: tqdm<5,>=4.38 in /usr/local/lib/python3.11/dist-packages (from autogluon.core==1.2->autogluon.core[all]==1.2->autogluon) (4.67.1)\n",
            "Requirement already satisfied: requests in /usr/local/lib/python3.11/dist-packages (from autogluon.core==1.2->autogluon.core[all]==1.2->autogluon) (2.32.3)\n",
            "Requirement already satisfied: matplotlib<3.11,>=3.7.0 in /usr/local/lib/python3.11/dist-packages (from autogluon.core==1.2->autogluon.core[all]==1.2->autogluon) (3.10.0)\n",
            "Requirement already satisfied: boto3<2,>=1.10 in /usr/local/lib/python3.11/dist-packages (from autogluon.core==1.2->autogluon.core[all]==1.2->autogluon) (1.37.1)\n",
            "Requirement already satisfied: autogluon.common==1.2 in /usr/local/lib/python3.11/dist-packages (from autogluon.core==1.2->autogluon.core[all]==1.2->autogluon) (1.2)\n",
            "Requirement already satisfied: ray<2.40,>=2.10.0 in /usr/local/lib/python3.11/dist-packages (from ray[default]<2.40,>=2.10.0; extra == \"all\"->autogluon.core[all]==1.2->autogluon) (2.39.0)\n",
            "Requirement already satisfied: pyarrow>=15.0.0 in /usr/local/lib/python3.11/dist-packages (from autogluon.core[all]==1.2->autogluon) (17.0.0)\n",
            "Requirement already satisfied: hyperopt<0.2.8,>=0.2.7 in /usr/local/lib/python3.11/dist-packages (from autogluon.core[all]==1.2->autogluon) (0.2.7)\n",
            "Requirement already satisfied: Pillow<12,>=10.0.1 in /usr/local/lib/python3.11/dist-packages (from autogluon.multimodal==1.2->autogluon) (11.1.0)\n",
            "Requirement already satisfied: torch<2.6,>=2.2 in /usr/local/lib/python3.11/dist-packages (from autogluon.multimodal==1.2->autogluon) (2.5.1+cu124)\n",
            "Requirement already satisfied: lightning<2.6,>=2.2 in /usr/local/lib/python3.11/dist-packages (from autogluon.multimodal==1.2->autogluon) (2.5.0.post0)\n",
            "Requirement already satisfied: transformers<5,>=4.38.0 in /usr/local/lib/python3.11/dist-packages (from transformers[sentencepiece]<5,>=4.38.0->autogluon.multimodal==1.2->autogluon) (4.48.3)\n",
            "Requirement already satisfied: accelerate<1.0,>=0.34.0 in /usr/local/lib/python3.11/dist-packages (from autogluon.multimodal==1.2->autogluon) (0.34.2)\n",
            "Requirement already satisfied: jsonschema<4.22,>=4.18 in /usr/local/lib/python3.11/dist-packages (from autogluon.multimodal==1.2->autogluon) (4.21.1)\n",
            "Requirement already satisfied: seqeval<1.3.0,>=1.2.2 in /usr/local/lib/python3.11/dist-packages (from autogluon.multimodal==1.2->autogluon) (1.2.2)\n",
            "Requirement already satisfied: evaluate<0.5.0,>=0.4.0 in /usr/local/lib/python3.11/dist-packages (from autogluon.multimodal==1.2->autogluon) (0.4.3)\n",
            "Requirement already satisfied: timm<1.0.7,>=0.9.5 in /usr/local/lib/python3.11/dist-packages (from autogluon.multimodal==1.2->autogluon) (1.0.3)\n",
            "Requirement already satisfied: torchvision<0.21.0,>=0.16.0 in /usr/local/lib/python3.11/dist-packages (from autogluon.multimodal==1.2->autogluon) (0.20.1+cu124)\n",
            "Requirement already satisfied: scikit-image<0.25.0,>=0.19.1 in /usr/local/lib/python3.11/dist-packages (from autogluon.multimodal==1.2->autogluon) (0.24.0)\n",
            "Requirement already satisfied: text-unidecode<1.4,>=1.3 in /usr/local/lib/python3.11/dist-packages (from autogluon.multimodal==1.2->autogluon) (1.3)\n",
            "Requirement already satisfied: torchmetrics<1.3.0,>=1.2.0 in /usr/local/lib/python3.11/dist-packages (from autogluon.multimodal==1.2->autogluon) (1.2.1)\n",
            "Requirement already satisfied: omegaconf<2.3.0,>=2.1.1 in /usr/local/lib/python3.11/dist-packages (from autogluon.multimodal==1.2->autogluon) (2.2.3)\n",
            "Requirement already satisfied: pytorch-metric-learning<2.4,>=1.3.0 in /usr/local/lib/python3.11/dist-packages (from autogluon.multimodal==1.2->autogluon) (2.3.0)\n",
            "Requirement already satisfied: nlpaug<1.2.0,>=1.1.10 in /usr/local/lib/python3.11/dist-packages (from autogluon.multimodal==1.2->autogluon) (1.1.11)\n",
            "Requirement already satisfied: nltk<3.9,>=3.4.5 in /usr/local/lib/python3.11/dist-packages (from autogluon.multimodal==1.2->autogluon) (3.8.1)\n",
            "Requirement already satisfied: openmim<0.4.0,>=0.3.7 in /usr/local/lib/python3.11/dist-packages (from autogluon.multimodal==1.2->autogluon) (0.3.9)\n",
            "Requirement already satisfied: defusedxml<0.7.2,>=0.7.1 in /usr/local/lib/python3.11/dist-packages (from autogluon.multimodal==1.2->autogluon) (0.7.1)\n",
            "Requirement already satisfied: jinja2<3.2,>=3.0.3 in /usr/local/lib/python3.11/dist-packages (from autogluon.multimodal==1.2->autogluon) (3.1.5)\n",
            "Requirement already satisfied: tensorboard<3,>=2.9 in /usr/local/lib/python3.11/dist-packages (from autogluon.multimodal==1.2->autogluon) (2.18.0)\n",
            "Requirement already satisfied: pytesseract<0.3.11,>=0.3.9 in /usr/local/lib/python3.11/dist-packages (from autogluon.multimodal==1.2->autogluon) (0.3.10)\n",
            "Requirement already satisfied: nvidia-ml-py3==7.352.0 in /usr/local/lib/python3.11/dist-packages (from autogluon.multimodal==1.2->autogluon) (7.352.0)\n",
            "Requirement already satisfied: pdf2image<1.19,>=1.17.0 in /usr/local/lib/python3.11/dist-packages (from autogluon.multimodal==1.2->autogluon) (1.17.0)\n",
            "Requirement already satisfied: catboost<1.3,>=1.2 in /usr/local/lib/python3.11/dist-packages (from autogluon.tabular[all]==1.2->autogluon) (1.2.7)\n",
            "Requirement already satisfied: spacy<3.8 in /usr/local/lib/python3.11/dist-packages (from autogluon.tabular[all]==1.2->autogluon) (3.7.5)\n",
            "Requirement already satisfied: lightgbm<4.6,>=4.0 in /usr/local/lib/python3.11/dist-packages (from autogluon.tabular[all]==1.2->autogluon) (4.5.0)\n",
            "Requirement already satisfied: einops<0.9,>=0.7 in /usr/local/lib/python3.11/dist-packages (from autogluon.tabular[all]==1.2->autogluon) (0.8.1)\n",
            "Requirement already satisfied: xgboost<2.2,>=1.6 in /usr/local/lib/python3.11/dist-packages (from autogluon.tabular[all]==1.2->autogluon) (2.1.4)\n",
            "Requirement already satisfied: fastai<2.8,>=2.3.1 in /usr/local/lib/python3.11/dist-packages (from autogluon.tabular[all]==1.2->autogluon) (2.7.18)\n",
            "Requirement already satisfied: huggingface-hub[torch] in /usr/local/lib/python3.11/dist-packages (from autogluon.tabular[all]==1.2->autogluon) (0.28.1)\n",
            "Requirement already satisfied: joblib<2,>=1.1 in /usr/local/lib/python3.11/dist-packages (from autogluon.timeseries==1.2->autogluon.timeseries[all]==1.2->autogluon) (1.4.2)\n",
            "Requirement already satisfied: pytorch-lightning in /usr/local/lib/python3.11/dist-packages (from autogluon.timeseries==1.2->autogluon.timeseries[all]==1.2->autogluon) (2.5.0.post0)\n",
            "Requirement already satisfied: gluonts<0.17,>=0.15.0 in /usr/local/lib/python3.11/dist-packages (from autogluon.timeseries==1.2->autogluon.timeseries[all]==1.2->autogluon) (0.16.0)\n",
            "Requirement already satisfied: statsforecast<1.8,>=1.7.0 in /usr/local/lib/python3.11/dist-packages (from autogluon.timeseries==1.2->autogluon.timeseries[all]==1.2->autogluon) (1.7.8)\n",
            "Requirement already satisfied: mlforecast==0.13.4 in /usr/local/lib/python3.11/dist-packages (from autogluon.timeseries==1.2->autogluon.timeseries[all]==1.2->autogluon) (0.13.4)\n",
            "Requirement already satisfied: utilsforecast<0.2.5,>=0.2.3 in /usr/local/lib/python3.11/dist-packages (from autogluon.timeseries==1.2->autogluon.timeseries[all]==1.2->autogluon) (0.2.4)\n",
            "Requirement already satisfied: coreforecast==0.0.12 in /usr/local/lib/python3.11/dist-packages (from autogluon.timeseries==1.2->autogluon.timeseries[all]==1.2->autogluon) (0.0.12)\n",
            "Requirement already satisfied: fugue>=0.9.0 in /usr/local/lib/python3.11/dist-packages (from autogluon.timeseries==1.2->autogluon.timeseries[all]==1.2->autogluon) (0.9.1)\n",
            "Requirement already satisfied: orjson~=3.9 in /usr/local/lib/python3.11/dist-packages (from autogluon.timeseries==1.2->autogluon.timeseries[all]==1.2->autogluon) (3.10.15)\n",
            "Requirement already satisfied: psutil<7.0.0,>=5.7.3 in /usr/local/lib/python3.11/dist-packages (from autogluon.common==1.2->autogluon.core==1.2->autogluon.core[all]==1.2->autogluon) (5.9.5)\n",
            "Requirement already satisfied: cloudpickle in /usr/local/lib/python3.11/dist-packages (from mlforecast==0.13.4->autogluon.timeseries==1.2->autogluon.timeseries[all]==1.2->autogluon) (3.1.1)\n",
            "Requirement already satisfied: fsspec in /usr/local/lib/python3.11/dist-packages (from mlforecast==0.13.4->autogluon.timeseries==1.2->autogluon.timeseries[all]==1.2->autogluon) (2024.10.0)\n",
            "Requirement already satisfied: numba in /usr/local/lib/python3.11/dist-packages (from mlforecast==0.13.4->autogluon.timeseries==1.2->autogluon.timeseries[all]==1.2->autogluon) (0.61.0)\n",
            "Requirement already satisfied: optuna in /usr/local/lib/python3.11/dist-packages (from mlforecast==0.13.4->autogluon.timeseries==1.2->autogluon.timeseries[all]==1.2->autogluon) (4.2.1)\n",
            "Requirement already satisfied: packaging in /usr/local/lib/python3.11/dist-packages (from mlforecast==0.13.4->autogluon.timeseries==1.2->autogluon.timeseries[all]==1.2->autogluon) (24.2)\n",
            "Requirement already satisfied: window-ops in /usr/local/lib/python3.11/dist-packages (from mlforecast==0.13.4->autogluon.timeseries==1.2->autogluon.timeseries[all]==1.2->autogluon) (0.0.15)\n",
            "Requirement already satisfied: pyyaml in /usr/local/lib/python3.11/dist-packages (from accelerate<1.0,>=0.34.0->autogluon.multimodal==1.2->autogluon) (6.0.2)\n",
            "Requirement already satisfied: safetensors>=0.4.3 in /usr/local/lib/python3.11/dist-packages (from accelerate<1.0,>=0.34.0->autogluon.multimodal==1.2->autogluon) (0.5.2)\n",
            "Requirement already satisfied: botocore<1.38.0,>=1.37.1 in /usr/local/lib/python3.11/dist-packages (from boto3<2,>=1.10->autogluon.core==1.2->autogluon.core[all]==1.2->autogluon) (1.37.1)\n",
            "Requirement already satisfied: jmespath<2.0.0,>=0.7.1 in /usr/local/lib/python3.11/dist-packages (from boto3<2,>=1.10->autogluon.core==1.2->autogluon.core[all]==1.2->autogluon) (1.0.1)\n",
            "Requirement already satisfied: s3transfer<0.12.0,>=0.11.0 in /usr/local/lib/python3.11/dist-packages (from boto3<2,>=1.10->autogluon.core==1.2->autogluon.core[all]==1.2->autogluon) (0.11.2)\n",
            "Requirement already satisfied: graphviz in /usr/local/lib/python3.11/dist-packages (from catboost<1.3,>=1.2->autogluon.tabular[all]==1.2->autogluon) (0.20.3)\n",
            "Requirement already satisfied: plotly in /usr/local/lib/python3.11/dist-packages (from catboost<1.3,>=1.2->autogluon.tabular[all]==1.2->autogluon) (5.24.1)\n",
            "Requirement already satisfied: six in /usr/local/lib/python3.11/dist-packages (from catboost<1.3,>=1.2->autogluon.tabular[all]==1.2->autogluon) (1.17.0)\n",
            "Requirement already satisfied: datasets>=2.0.0 in /usr/local/lib/python3.11/dist-packages (from evaluate<0.5.0,>=0.4.0->autogluon.multimodal==1.2->autogluon) (3.3.2)\n",
            "Requirement already satisfied: dill in /usr/local/lib/python3.11/dist-packages (from evaluate<0.5.0,>=0.4.0->autogluon.multimodal==1.2->autogluon) (0.3.8)\n",
            "Requirement already satisfied: xxhash in /usr/local/lib/python3.11/dist-packages (from evaluate<0.5.0,>=0.4.0->autogluon.multimodal==1.2->autogluon) (3.5.0)\n",
            "Requirement already satisfied: multiprocess in /usr/local/lib/python3.11/dist-packages (from evaluate<0.5.0,>=0.4.0->autogluon.multimodal==1.2->autogluon) (0.70.16)\n",
            "Requirement already satisfied: pip in /usr/local/lib/python3.11/dist-packages (from fastai<2.8,>=2.3.1->autogluon.tabular[all]==1.2->autogluon) (24.1.2)\n",
            "Requirement already satisfied: fastdownload<2,>=0.0.5 in /usr/local/lib/python3.11/dist-packages (from fastai<2.8,>=2.3.1->autogluon.tabular[all]==1.2->autogluon) (0.0.7)\n",
            "Requirement already satisfied: fastcore<1.8,>=1.5.29 in /usr/local/lib/python3.11/dist-packages (from fastai<2.8,>=2.3.1->autogluon.tabular[all]==1.2->autogluon) (1.7.29)\n",
            "Requirement already satisfied: fastprogress>=0.2.4 in /usr/local/lib/python3.11/dist-packages (from fastai<2.8,>=2.3.1->autogluon.tabular[all]==1.2->autogluon) (1.0.3)\n",
            "Requirement already satisfied: triad>=0.9.7 in /usr/local/lib/python3.11/dist-packages (from fugue>=0.9.0->autogluon.timeseries==1.2->autogluon.timeseries[all]==1.2->autogluon) (0.9.8)\n",
            "Requirement already satisfied: adagio>=0.2.4 in /usr/local/lib/python3.11/dist-packages (from fugue>=0.9.0->autogluon.timeseries==1.2->autogluon.timeseries[all]==1.2->autogluon) (0.2.6)\n",
            "Requirement already satisfied: pydantic<3,>=1.7 in /usr/local/lib/python3.11/dist-packages (from gluonts<0.17,>=0.15.0->autogluon.timeseries==1.2->autogluon.timeseries[all]==1.2->autogluon) (2.10.6)\n",
            "Requirement already satisfied: toolz~=0.10 in /usr/local/lib/python3.11/dist-packages (from gluonts<0.17,>=0.15.0->autogluon.timeseries==1.2->autogluon.timeseries[all]==1.2->autogluon) (0.12.1)\n",
            "Requirement already satisfied: typing-extensions~=4.0 in /usr/local/lib/python3.11/dist-packages (from gluonts<0.17,>=0.15.0->autogluon.timeseries==1.2->autogluon.timeseries[all]==1.2->autogluon) (4.12.2)\n",
            "Requirement already satisfied: future in /usr/local/lib/python3.11/dist-packages (from hyperopt<0.2.8,>=0.2.7->autogluon.core[all]==1.2->autogluon) (1.0.0)\n",
            "Requirement already satisfied: py4j in /usr/local/lib/python3.11/dist-packages (from hyperopt<0.2.8,>=0.2.7->autogluon.core[all]==1.2->autogluon) (0.10.9.7)\n",
            "Requirement already satisfied: MarkupSafe>=2.0 in /usr/local/lib/python3.11/dist-packages (from jinja2<3.2,>=3.0.3->autogluon.multimodal==1.2->autogluon) (3.0.2)\n",
            "Requirement already satisfied: attrs>=22.2.0 in /usr/local/lib/python3.11/dist-packages (from jsonschema<4.22,>=4.18->autogluon.multimodal==1.2->autogluon) (25.1.0)\n",
            "Requirement already satisfied: jsonschema-specifications>=2023.03.6 in /usr/local/lib/python3.11/dist-packages (from jsonschema<4.22,>=4.18->autogluon.multimodal==1.2->autogluon) (2024.10.1)\n",
            "Requirement already satisfied: referencing>=0.28.4 in /usr/local/lib/python3.11/dist-packages (from jsonschema<4.22,>=4.18->autogluon.multimodal==1.2->autogluon) (0.36.2)\n",
            "Requirement already satisfied: rpds-py>=0.7.1 in /usr/local/lib/python3.11/dist-packages (from jsonschema<4.22,>=4.18->autogluon.multimodal==1.2->autogluon) (0.22.3)\n",
            "Requirement already satisfied: lightning-utilities<2.0,>=0.10.0 in /usr/local/lib/python3.11/dist-packages (from lightning<2.6,>=2.2->autogluon.multimodal==1.2->autogluon) (0.12.0)\n",
            "Requirement already satisfied: contourpy>=1.0.1 in /usr/local/lib/python3.11/dist-packages (from matplotlib<3.11,>=3.7.0->autogluon.core==1.2->autogluon.core[all]==1.2->autogluon) (1.3.1)\n",
            "Requirement already satisfied: cycler>=0.10 in /usr/local/lib/python3.11/dist-packages (from matplotlib<3.11,>=3.7.0->autogluon.core==1.2->autogluon.core[all]==1.2->autogluon) (0.12.1)\n",
            "Requirement already satisfied: fonttools>=4.22.0 in /usr/local/lib/python3.11/dist-packages (from matplotlib<3.11,>=3.7.0->autogluon.core==1.2->autogluon.core[all]==1.2->autogluon) (4.56.0)\n",
            "Requirement already satisfied: kiwisolver>=1.3.1 in /usr/local/lib/python3.11/dist-packages (from matplotlib<3.11,>=3.7.0->autogluon.core==1.2->autogluon.core[all]==1.2->autogluon) (1.4.8)\n",
            "Requirement already satisfied: pyparsing>=2.3.1 in /usr/local/lib/python3.11/dist-packages (from matplotlib<3.11,>=3.7.0->autogluon.core==1.2->autogluon.core[all]==1.2->autogluon) (3.2.1)\n",
            "Requirement already satisfied: python-dateutil>=2.7 in /usr/local/lib/python3.11/dist-packages (from matplotlib<3.11,>=3.7.0->autogluon.core==1.2->autogluon.core[all]==1.2->autogluon) (2.8.2)\n",
            "Requirement already satisfied: gdown>=4.0.0 in /usr/local/lib/python3.11/dist-packages (from nlpaug<1.2.0,>=1.1.10->autogluon.multimodal==1.2->autogluon) (5.2.0)\n",
            "Requirement already satisfied: click in /usr/local/lib/python3.11/dist-packages (from nltk<3.9,>=3.4.5->autogluon.multimodal==1.2->autogluon) (8.1.8)\n",
            "Requirement already satisfied: regex>=2021.8.3 in /usr/local/lib/python3.11/dist-packages (from nltk<3.9,>=3.4.5->autogluon.multimodal==1.2->autogluon) (2024.11.6)\n",
            "Requirement already satisfied: antlr4-python3-runtime==4.9.* in /usr/local/lib/python3.11/dist-packages (from omegaconf<2.3.0,>=2.1.1->autogluon.multimodal==1.2->autogluon) (4.9.3)\n",
            "Requirement already satisfied: colorama in /usr/local/lib/python3.11/dist-packages (from openmim<0.4.0,>=0.3.7->autogluon.multimodal==1.2->autogluon) (0.4.6)\n",
            "Requirement already satisfied: model-index in /usr/local/lib/python3.11/dist-packages (from openmim<0.4.0,>=0.3.7->autogluon.multimodal==1.2->autogluon) (0.1.11)\n",
            "Requirement already satisfied: opendatalab in /usr/local/lib/python3.11/dist-packages (from openmim<0.4.0,>=0.3.7->autogluon.multimodal==1.2->autogluon) (0.0.10)\n",
            "Requirement already satisfied: rich in /usr/local/lib/python3.11/dist-packages (from openmim<0.4.0,>=0.3.7->autogluon.multimodal==1.2->autogluon) (13.9.4)\n",
            "Requirement already satisfied: tabulate in /usr/local/lib/python3.11/dist-packages (from openmim<0.4.0,>=0.3.7->autogluon.multimodal==1.2->autogluon) (0.9.0)\n",
            "Requirement already satisfied: pytz>=2020.1 in /usr/local/lib/python3.11/dist-packages (from pandas<2.3.0,>=2.0.0->autogluon.core==1.2->autogluon.core[all]==1.2->autogluon) (2025.1)\n",
            "Requirement already satisfied: tzdata>=2022.7 in /usr/local/lib/python3.11/dist-packages (from pandas<2.3.0,>=2.0.0->autogluon.core==1.2->autogluon.core[all]==1.2->autogluon) (2025.1)\n",
            "Requirement already satisfied: filelock in /usr/local/lib/python3.11/dist-packages (from ray<2.40,>=2.10.0->ray[default]<2.40,>=2.10.0; extra == \"all\"->autogluon.core[all]==1.2->autogluon) (3.17.0)\n",
            "Requirement already satisfied: msgpack<2.0.0,>=1.0.0 in /usr/local/lib/python3.11/dist-packages (from ray<2.40,>=2.10.0->ray[default]<2.40,>=2.10.0; extra == \"all\"->autogluon.core[all]==1.2->autogluon) (1.1.0)\n",
            "Requirement already satisfied: protobuf!=3.19.5,>=3.15.3 in /usr/local/lib/python3.11/dist-packages (from ray<2.40,>=2.10.0->ray[default]<2.40,>=2.10.0; extra == \"all\"->autogluon.core[all]==1.2->autogluon) (4.25.6)\n",
            "Requirement already satisfied: aiosignal in /usr/local/lib/python3.11/dist-packages (from ray<2.40,>=2.10.0->ray[default]<2.40,>=2.10.0; extra == \"all\"->autogluon.core[all]==1.2->autogluon) (1.3.2)\n",
            "Requirement already satisfied: frozenlist in /usr/local/lib/python3.11/dist-packages (from ray<2.40,>=2.10.0->ray[default]<2.40,>=2.10.0; extra == \"all\"->autogluon.core[all]==1.2->autogluon) (1.5.0)\n",
            "Requirement already satisfied: aiohttp>=3.7 in /usr/local/lib/python3.11/dist-packages (from ray[default,tune]<2.40,>=2.10.0; extra == \"all\"->autogluon.core[all]==1.2->autogluon) (3.11.12)\n",
            "Requirement already satisfied: aiohttp-cors in /usr/local/lib/python3.11/dist-packages (from ray[default,tune]<2.40,>=2.10.0; extra == \"all\"->autogluon.core[all]==1.2->autogluon) (0.7.0)\n",
            "Requirement already satisfied: colorful in /usr/local/lib/python3.11/dist-packages (from ray[default,tune]<2.40,>=2.10.0; extra == \"all\"->autogluon.core[all]==1.2->autogluon) (0.5.6)\n",
            "Requirement already satisfied: py-spy>=0.2.0 in /usr/local/lib/python3.11/dist-packages (from ray[default,tune]<2.40,>=2.10.0; extra == \"all\"->autogluon.core[all]==1.2->autogluon) (0.4.0)\n",
            "Requirement already satisfied: opencensus in /usr/local/lib/python3.11/dist-packages (from ray[default,tune]<2.40,>=2.10.0; extra == \"all\"->autogluon.core[all]==1.2->autogluon) (0.11.4)\n",
            "Requirement already satisfied: prometheus-client>=0.7.1 in /usr/local/lib/python3.11/dist-packages (from ray[default,tune]<2.40,>=2.10.0; extra == \"all\"->autogluon.core[all]==1.2->autogluon) (0.21.1)\n",
            "Requirement already satisfied: smart-open in /usr/local/lib/python3.11/dist-packages (from ray[default,tune]<2.40,>=2.10.0; extra == \"all\"->autogluon.core[all]==1.2->autogluon) (7.1.0)\n",
            "Requirement already satisfied: virtualenv!=20.21.1,>=20.0.24 in /usr/local/lib/python3.11/dist-packages (from ray[default,tune]<2.40,>=2.10.0; extra == \"all\"->autogluon.core[all]==1.2->autogluon) (20.29.2)\n",
            "Requirement already satisfied: grpcio>=1.42.0 in /usr/local/lib/python3.11/dist-packages (from ray[default,tune]<2.40,>=2.10.0; extra == \"all\"->autogluon.core[all]==1.2->autogluon) (1.70.0)\n",
            "Requirement already satisfied: memray in /usr/local/lib/python3.11/dist-packages (from ray[default,tune]<2.40,>=2.10.0; extra == \"all\"->autogluon.core[all]==1.2->autogluon) (1.15.0)\n",
            "Requirement already satisfied: tensorboardX>=1.9 in /usr/local/lib/python3.11/dist-packages (from ray[default,tune]<2.40,>=2.10.0; extra == \"all\"->autogluon.core[all]==1.2->autogluon) (2.6.2.2)\n",
            "Requirement already satisfied: charset-normalizer<4,>=2 in /usr/local/lib/python3.11/dist-packages (from requests->autogluon.core==1.2->autogluon.core[all]==1.2->autogluon) (3.4.1)\n",
            "Requirement already satisfied: idna<4,>=2.5 in /usr/local/lib/python3.11/dist-packages (from requests->autogluon.core==1.2->autogluon.core[all]==1.2->autogluon) (3.10)\n",
            "Requirement already satisfied: urllib3<3,>=1.21.1 in /usr/local/lib/python3.11/dist-packages (from requests->autogluon.core==1.2->autogluon.core[all]==1.2->autogluon) (2.3.0)\n",
            "Requirement already satisfied: certifi>=2017.4.17 in /usr/local/lib/python3.11/dist-packages (from requests->autogluon.core==1.2->autogluon.core[all]==1.2->autogluon) (2025.1.31)\n",
            "Requirement already satisfied: imageio>=2.33 in /usr/local/lib/python3.11/dist-packages (from scikit-image<0.25.0,>=0.19.1->autogluon.multimodal==1.2->autogluon) (2.37.0)\n",
            "Requirement already satisfied: tifffile>=2022.8.12 in /usr/local/lib/python3.11/dist-packages (from scikit-image<0.25.0,>=0.19.1->autogluon.multimodal==1.2->autogluon) (2025.2.18)\n",
            "Requirement already satisfied: lazy-loader>=0.4 in /usr/local/lib/python3.11/dist-packages (from scikit-image<0.25.0,>=0.19.1->autogluon.multimodal==1.2->autogluon) (0.4)\n",
            "Requirement already satisfied: threadpoolctl>=3.1.0 in /usr/local/lib/python3.11/dist-packages (from scikit-learn<1.5.3,>=1.4.0->autogluon.core==1.2->autogluon.core[all]==1.2->autogluon) (3.5.0)\n",
            "Requirement already satisfied: spacy-legacy<3.1.0,>=3.0.11 in /usr/local/lib/python3.11/dist-packages (from spacy<3.8->autogluon.tabular[all]==1.2->autogluon) (3.0.12)\n",
            "Requirement already satisfied: spacy-loggers<2.0.0,>=1.0.0 in /usr/local/lib/python3.11/dist-packages (from spacy<3.8->autogluon.tabular[all]==1.2->autogluon) (1.0.5)\n",
            "Requirement already satisfied: murmurhash<1.1.0,>=0.28.0 in /usr/local/lib/python3.11/dist-packages (from spacy<3.8->autogluon.tabular[all]==1.2->autogluon) (1.0.12)\n",
            "Requirement already satisfied: cymem<2.1.0,>=2.0.2 in /usr/local/lib/python3.11/dist-packages (from spacy<3.8->autogluon.tabular[all]==1.2->autogluon) (2.0.11)\n",
            "Requirement already satisfied: preshed<3.1.0,>=3.0.2 in /usr/local/lib/python3.11/dist-packages (from spacy<3.8->autogluon.tabular[all]==1.2->autogluon) (3.0.9)\n",
            "Requirement already satisfied: thinc<8.3.0,>=8.2.2 in /usr/local/lib/python3.11/dist-packages (from spacy<3.8->autogluon.tabular[all]==1.2->autogluon) (8.2.5)\n",
            "Requirement already satisfied: wasabi<1.2.0,>=0.9.1 in /usr/local/lib/python3.11/dist-packages (from spacy<3.8->autogluon.tabular[all]==1.2->autogluon) (1.1.3)\n",
            "Requirement already satisfied: srsly<3.0.0,>=2.4.3 in /usr/local/lib/python3.11/dist-packages (from spacy<3.8->autogluon.tabular[all]==1.2->autogluon) (2.5.1)\n",
            "Requirement already satisfied: catalogue<2.1.0,>=2.0.6 in /usr/local/lib/python3.11/dist-packages (from spacy<3.8->autogluon.tabular[all]==1.2->autogluon) (2.0.10)\n",
            "Requirement already satisfied: weasel<0.5.0,>=0.1.0 in /usr/local/lib/python3.11/dist-packages (from spacy<3.8->autogluon.tabular[all]==1.2->autogluon) (0.4.1)\n",
            "Requirement already satisfied: typer<1.0.0,>=0.3.0 in /usr/local/lib/python3.11/dist-packages (from spacy<3.8->autogluon.tabular[all]==1.2->autogluon) (0.15.1)\n",
            "Requirement already satisfied: setuptools in /usr/local/lib/python3.11/dist-packages (from spacy<3.8->autogluon.tabular[all]==1.2->autogluon) (75.1.0)\n",
            "Requirement already satisfied: langcodes<4.0.0,>=3.2.0 in /usr/local/lib/python3.11/dist-packages (from spacy<3.8->autogluon.tabular[all]==1.2->autogluon) (3.5.0)\n",
            "Requirement already satisfied: statsmodels>=0.13.2 in /usr/local/lib/python3.11/dist-packages (from statsforecast<1.8,>=1.7.0->autogluon.timeseries==1.2->autogluon.timeseries[all]==1.2->autogluon) (0.14.4)\n",
            "Requirement already satisfied: absl-py>=0.4 in /usr/local/lib/python3.11/dist-packages (from tensorboard<3,>=2.9->autogluon.multimodal==1.2->autogluon) (1.4.0)\n",
            "Requirement already satisfied: markdown>=2.6.8 in /usr/local/lib/python3.11/dist-packages (from tensorboard<3,>=2.9->autogluon.multimodal==1.2->autogluon) (3.7)\n",
            "Requirement already satisfied: tensorboard-data-server<0.8.0,>=0.7.0 in /usr/local/lib/python3.11/dist-packages (from tensorboard<3,>=2.9->autogluon.multimodal==1.2->autogluon) (0.7.2)\n",
            "Requirement already satisfied: werkzeug>=1.0.1 in /usr/local/lib/python3.11/dist-packages (from tensorboard<3,>=2.9->autogluon.multimodal==1.2->autogluon) (3.1.3)\n",
            "Requirement already satisfied: nvidia-cuda-nvrtc-cu12==12.4.127 in /usr/local/lib/python3.11/dist-packages (from torch<2.6,>=2.2->autogluon.multimodal==1.2->autogluon) (12.4.127)\n",
            "Requirement already satisfied: nvidia-cuda-runtime-cu12==12.4.127 in /usr/local/lib/python3.11/dist-packages (from torch<2.6,>=2.2->autogluon.multimodal==1.2->autogluon) (12.4.127)\n",
            "Requirement already satisfied: nvidia-cuda-cupti-cu12==12.4.127 in /usr/local/lib/python3.11/dist-packages (from torch<2.6,>=2.2->autogluon.multimodal==1.2->autogluon) (12.4.127)\n",
            "Requirement already satisfied: nvidia-cudnn-cu12==9.1.0.70 in /usr/local/lib/python3.11/dist-packages (from torch<2.6,>=2.2->autogluon.multimodal==1.2->autogluon) (9.1.0.70)\n",
            "Requirement already satisfied: nvidia-cublas-cu12==12.4.5.8 in /usr/local/lib/python3.11/dist-packages (from torch<2.6,>=2.2->autogluon.multimodal==1.2->autogluon) (12.4.5.8)\n",
            "Requirement already satisfied: nvidia-cufft-cu12==11.2.1.3 in /usr/local/lib/python3.11/dist-packages (from torch<2.6,>=2.2->autogluon.multimodal==1.2->autogluon) (11.2.1.3)\n",
            "Requirement already satisfied: nvidia-curand-cu12==10.3.5.147 in /usr/local/lib/python3.11/dist-packages (from torch<2.6,>=2.2->autogluon.multimodal==1.2->autogluon) (10.3.5.147)\n",
            "Requirement already satisfied: nvidia-cusolver-cu12==11.6.1.9 in /usr/local/lib/python3.11/dist-packages (from torch<2.6,>=2.2->autogluon.multimodal==1.2->autogluon) (11.6.1.9)\n",
            "Requirement already satisfied: nvidia-cusparse-cu12==12.3.1.170 in /usr/local/lib/python3.11/dist-packages (from torch<2.6,>=2.2->autogluon.multimodal==1.2->autogluon) (12.3.1.170)\n",
            "Requirement already satisfied: nvidia-nccl-cu12==2.21.5 in /usr/local/lib/python3.11/dist-packages (from torch<2.6,>=2.2->autogluon.multimodal==1.2->autogluon) (2.21.5)\n",
            "Requirement already satisfied: nvidia-nvtx-cu12==12.4.127 in /usr/local/lib/python3.11/dist-packages (from torch<2.6,>=2.2->autogluon.multimodal==1.2->autogluon) (12.4.127)\n",
            "Requirement already satisfied: nvidia-nvjitlink-cu12==12.4.127 in /usr/local/lib/python3.11/dist-packages (from torch<2.6,>=2.2->autogluon.multimodal==1.2->autogluon) (12.4.127)\n",
            "Requirement already satisfied: triton==3.1.0 in /usr/local/lib/python3.11/dist-packages (from torch<2.6,>=2.2->autogluon.multimodal==1.2->autogluon) (3.1.0)\n",
            "Requirement already satisfied: sympy==1.13.1 in /usr/local/lib/python3.11/dist-packages (from torch<2.6,>=2.2->autogluon.multimodal==1.2->autogluon) (1.13.1)\n",
            "Requirement already satisfied: mpmath<1.4,>=1.1.0 in /usr/local/lib/python3.11/dist-packages (from sympy==1.13.1->torch<2.6,>=2.2->autogluon.multimodal==1.2->autogluon) (1.3.0)\n",
            "Requirement already satisfied: tokenizers<0.22,>=0.21 in /usr/local/lib/python3.11/dist-packages (from transformers<5,>=4.38.0->transformers[sentencepiece]<5,>=4.38.0->autogluon.multimodal==1.2->autogluon) (0.21.0)\n",
            "Requirement already satisfied: sentencepiece!=0.1.92,>=0.1.91 in /usr/local/lib/python3.11/dist-packages (from transformers[sentencepiece]<5,>=4.38.0->autogluon.multimodal==1.2->autogluon) (0.2.0)\n",
            "Requirement already satisfied: aiohappyeyeballs>=2.3.0 in /usr/local/lib/python3.11/dist-packages (from aiohttp>=3.7->ray[default,tune]<2.40,>=2.10.0; extra == \"all\"->autogluon.core[all]==1.2->autogluon) (2.4.6)\n",
            "Requirement already satisfied: multidict<7.0,>=4.5 in /usr/local/lib/python3.11/dist-packages (from aiohttp>=3.7->ray[default,tune]<2.40,>=2.10.0; extra == \"all\"->autogluon.core[all]==1.2->autogluon) (6.1.0)\n",
            "Requirement already satisfied: propcache>=0.2.0 in /usr/local/lib/python3.11/dist-packages (from aiohttp>=3.7->ray[default,tune]<2.40,>=2.10.0; extra == \"all\"->autogluon.core[all]==1.2->autogluon) (0.2.1)\n",
            "Requirement already satisfied: yarl<2.0,>=1.17.0 in /usr/local/lib/python3.11/dist-packages (from aiohttp>=3.7->ray[default,tune]<2.40,>=2.10.0; extra == \"all\"->autogluon.core[all]==1.2->autogluon) (1.18.3)\n",
            "Requirement already satisfied: beautifulsoup4 in /usr/local/lib/python3.11/dist-packages (from gdown>=4.0.0->nlpaug<1.2.0,>=1.1.10->autogluon.multimodal==1.2->autogluon) (4.13.3)\n",
            "Requirement already satisfied: language-data>=1.2 in /usr/local/lib/python3.11/dist-packages (from langcodes<4.0.0,>=3.2.0->spacy<3.8->autogluon.tabular[all]==1.2->autogluon) (1.3.0)\n",
            "Requirement already satisfied: llvmlite<0.45,>=0.44.0dev0 in /usr/local/lib/python3.11/dist-packages (from numba->mlforecast==0.13.4->autogluon.timeseries==1.2->autogluon.timeseries[all]==1.2->autogluon) (0.44.0)\n",
            "Requirement already satisfied: annotated-types>=0.6.0 in /usr/local/lib/python3.11/dist-packages (from pydantic<3,>=1.7->gluonts<0.17,>=0.15.0->autogluon.timeseries==1.2->autogluon.timeseries[all]==1.2->autogluon) (0.7.0)\n",
            "Requirement already satisfied: pydantic-core==2.27.2 in /usr/local/lib/python3.11/dist-packages (from pydantic<3,>=1.7->gluonts<0.17,>=0.15.0->autogluon.timeseries==1.2->autogluon.timeseries[all]==1.2->autogluon) (2.27.2)\n",
            "Requirement already satisfied: patsy>=0.5.6 in /usr/local/lib/python3.11/dist-packages (from statsmodels>=0.13.2->statsforecast<1.8,>=1.7.0->autogluon.timeseries==1.2->autogluon.timeseries[all]==1.2->autogluon) (1.0.1)\n",
            "Requirement already satisfied: blis<0.8.0,>=0.7.8 in /usr/local/lib/python3.11/dist-packages (from thinc<8.3.0,>=8.2.2->spacy<3.8->autogluon.tabular[all]==1.2->autogluon) (0.7.11)\n",
            "Requirement already satisfied: confection<1.0.0,>=0.0.1 in /usr/local/lib/python3.11/dist-packages (from thinc<8.3.0,>=8.2.2->spacy<3.8->autogluon.tabular[all]==1.2->autogluon) (0.1.5)\n",
            "Requirement already satisfied: fs in /usr/local/lib/python3.11/dist-packages (from triad>=0.9.7->fugue>=0.9.0->autogluon.timeseries==1.2->autogluon.timeseries[all]==1.2->autogluon) (2.4.16)\n",
            "Requirement already satisfied: shellingham>=1.3.0 in /usr/local/lib/python3.11/dist-packages (from typer<1.0.0,>=0.3.0->spacy<3.8->autogluon.tabular[all]==1.2->autogluon) (1.5.4)\n",
            "Requirement already satisfied: markdown-it-py>=2.2.0 in /usr/local/lib/python3.11/dist-packages (from rich->openmim<0.4.0,>=0.3.7->autogluon.multimodal==1.2->autogluon) (3.0.0)\n",
            "Requirement already satisfied: pygments<3.0.0,>=2.13.0 in /usr/local/lib/python3.11/dist-packages (from rich->openmim<0.4.0,>=0.3.7->autogluon.multimodal==1.2->autogluon) (2.18.0)\n",
            "Requirement already satisfied: distlib<1,>=0.3.7 in /usr/local/lib/python3.11/dist-packages (from virtualenv!=20.21.1,>=20.0.24->ray[default,tune]<2.40,>=2.10.0; extra == \"all\"->autogluon.core[all]==1.2->autogluon) (0.3.9)\n",
            "Requirement already satisfied: platformdirs<5,>=3.9.1 in /usr/local/lib/python3.11/dist-packages (from virtualenv!=20.21.1,>=20.0.24->ray[default,tune]<2.40,>=2.10.0; extra == \"all\"->autogluon.core[all]==1.2->autogluon) (4.3.6)\n",
            "Requirement already satisfied: cloudpathlib<1.0.0,>=0.7.0 in /usr/local/lib/python3.11/dist-packages (from weasel<0.5.0,>=0.1.0->spacy<3.8->autogluon.tabular[all]==1.2->autogluon) (0.20.0)\n",
            "Requirement already satisfied: wrapt in /usr/local/lib/python3.11/dist-packages (from smart-open->ray[default,tune]<2.40,>=2.10.0; extra == \"all\"->autogluon.core[all]==1.2->autogluon) (1.17.2)\n",
            "Requirement already satisfied: textual>=0.41.0 in /usr/local/lib/python3.11/dist-packages (from memray->ray[default,tune]<2.40,>=2.10.0; extra == \"all\"->autogluon.core[all]==1.2->autogluon) (2.1.1)\n",
            "Requirement already satisfied: ordered-set in /usr/local/lib/python3.11/dist-packages (from model-index->openmim<0.4.0,>=0.3.7->autogluon.multimodal==1.2->autogluon) (4.1.0)\n",
            "Requirement already satisfied: opencensus-context>=0.1.3 in /usr/local/lib/python3.11/dist-packages (from opencensus->ray[default,tune]<2.40,>=2.10.0; extra == \"all\"->autogluon.core[all]==1.2->autogluon) (0.1.3)\n",
            "Requirement already satisfied: google-api-core<3.0.0,>=1.0.0 in /usr/local/lib/python3.11/dist-packages (from opencensus->ray[default,tune]<2.40,>=2.10.0; extra == \"all\"->autogluon.core[all]==1.2->autogluon) (2.24.1)\n",
            "Requirement already satisfied: pycryptodome in /usr/local/lib/python3.11/dist-packages (from opendatalab->openmim<0.4.0,>=0.3.7->autogluon.multimodal==1.2->autogluon) (3.21.0)\n",
            "Requirement already satisfied: openxlab in /usr/local/lib/python3.11/dist-packages (from opendatalab->openmim<0.4.0,>=0.3.7->autogluon.multimodal==1.2->autogluon) (0.0.11)\n",
            "Requirement already satisfied: alembic>=1.5.0 in /usr/local/lib/python3.11/dist-packages (from optuna->mlforecast==0.13.4->autogluon.timeseries==1.2->autogluon.timeseries[all]==1.2->autogluon) (1.14.1)\n",
            "Requirement already satisfied: colorlog in /usr/local/lib/python3.11/dist-packages (from optuna->mlforecast==0.13.4->autogluon.timeseries==1.2->autogluon.timeseries[all]==1.2->autogluon) (6.9.0)\n",
            "Requirement already satisfied: sqlalchemy>=1.4.2 in /usr/local/lib/python3.11/dist-packages (from optuna->mlforecast==0.13.4->autogluon.timeseries==1.2->autogluon.timeseries[all]==1.2->autogluon) (2.0.38)\n",
            "Requirement already satisfied: tenacity>=6.2.0 in /usr/local/lib/python3.11/dist-packages (from plotly->catboost<1.3,>=1.2->autogluon.tabular[all]==1.2->autogluon) (9.0.0)\n",
            "Requirement already satisfied: Mako in /usr/local/lib/python3.11/dist-packages (from alembic>=1.5.0->optuna->mlforecast==0.13.4->autogluon.timeseries==1.2->autogluon.timeseries[all]==1.2->autogluon) (1.3.9)\n",
            "Requirement already satisfied: googleapis-common-protos<2.0.dev0,>=1.56.2 in /usr/local/lib/python3.11/dist-packages (from google-api-core<3.0.0,>=1.0.0->opencensus->ray[default,tune]<2.40,>=2.10.0; extra == \"all\"->autogluon.core[all]==1.2->autogluon) (1.67.0)\n",
            "Requirement already satisfied: proto-plus<2.0.0dev,>=1.22.3 in /usr/local/lib/python3.11/dist-packages (from google-api-core<3.0.0,>=1.0.0->opencensus->ray[default,tune]<2.40,>=2.10.0; extra == \"all\"->autogluon.core[all]==1.2->autogluon) (1.26.0)\n",
            "Requirement already satisfied: google-auth<3.0.dev0,>=2.14.1 in /usr/local/lib/python3.11/dist-packages (from google-api-core<3.0.0,>=1.0.0->opencensus->ray[default,tune]<2.40,>=2.10.0; extra == \"all\"->autogluon.core[all]==1.2->autogluon) (2.27.0)\n",
            "Requirement already satisfied: marisa-trie>=1.1.0 in /usr/local/lib/python3.11/dist-packages (from language-data>=1.2->langcodes<4.0.0,>=3.2.0->spacy<3.8->autogluon.tabular[all]==1.2->autogluon) (1.2.1)\n",
            "Requirement already satisfied: mdurl~=0.1 in /usr/local/lib/python3.11/dist-packages (from markdown-it-py>=2.2.0->rich->openmim<0.4.0,>=0.3.7->autogluon.multimodal==1.2->autogluon) (0.1.2)\n",
            "Requirement already satisfied: greenlet!=0.4.17 in /usr/local/lib/python3.11/dist-packages (from sqlalchemy>=1.4.2->optuna->mlforecast==0.13.4->autogluon.timeseries==1.2->autogluon.timeseries[all]==1.2->autogluon) (3.1.1)\n",
            "Requirement already satisfied: soupsieve>1.2 in /usr/local/lib/python3.11/dist-packages (from beautifulsoup4->gdown>=4.0.0->nlpaug<1.2.0,>=1.1.10->autogluon.multimodal==1.2->autogluon) (2.6)\n",
            "Requirement already satisfied: appdirs~=1.4.3 in /usr/local/lib/python3.11/dist-packages (from fs->triad>=0.9.7->fugue>=0.9.0->autogluon.timeseries==1.2->autogluon.timeseries[all]==1.2->autogluon) (1.4.4)\n",
            "Requirement already satisfied: PySocks!=1.5.7,>=1.5.6 in /usr/local/lib/python3.11/dist-packages (from requests[socks]->gdown>=4.0.0->nlpaug<1.2.0,>=1.1.10->autogluon.multimodal==1.2->autogluon) (1.7.1)\n",
            "Requirement already satisfied: cachetools<6.0,>=2.0.0 in /usr/local/lib/python3.11/dist-packages (from google-auth<3.0.dev0,>=2.14.1->google-api-core<3.0.0,>=1.0.0->opencensus->ray[default,tune]<2.40,>=2.10.0; extra == \"all\"->autogluon.core[all]==1.2->autogluon) (5.5.1)\n",
            "Requirement already satisfied: pyasn1-modules>=0.2.1 in /usr/local/lib/python3.11/dist-packages (from google-auth<3.0.dev0,>=2.14.1->google-api-core<3.0.0,>=1.0.0->opencensus->ray[default,tune]<2.40,>=2.10.0; extra == \"all\"->autogluon.core[all]==1.2->autogluon) (0.4.1)\n",
            "Requirement already satisfied: rsa<5,>=3.1.4 in /usr/local/lib/python3.11/dist-packages (from google-auth<3.0.dev0,>=2.14.1->google-api-core<3.0.0,>=1.0.0->opencensus->ray[default,tune]<2.40,>=2.10.0; extra == \"all\"->autogluon.core[all]==1.2->autogluon) (4.9)\n",
            "Requirement already satisfied: linkify-it-py<3,>=1 in /usr/local/lib/python3.11/dist-packages (from markdown-it-py[linkify,plugins]>=2.1.0->textual>=0.41.0->memray->ray[default,tune]<2.40,>=2.10.0; extra == \"all\"->autogluon.core[all]==1.2->autogluon) (2.0.3)\n",
            "Requirement already satisfied: mdit-py-plugins in /usr/local/lib/python3.11/dist-packages (from markdown-it-py[linkify,plugins]>=2.1.0->textual>=0.41.0->memray->ray[default,tune]<2.40,>=2.10.0; extra == \"all\"->autogluon.core[all]==1.2->autogluon) (0.4.2)\n",
            "Requirement already satisfied: uc-micro-py in /usr/local/lib/python3.11/dist-packages (from linkify-it-py<3,>=1->markdown-it-py[linkify,plugins]>=2.1.0->textual>=0.41.0->memray->ray[default,tune]<2.40,>=2.10.0; extra == \"all\"->autogluon.core[all]==1.2->autogluon) (1.0.3)\n",
            "Requirement already satisfied: pyasn1<0.7.0,>=0.4.6 in /usr/local/lib/python3.11/dist-packages (from pyasn1-modules>=0.2.1->google-auth<3.0.dev0,>=2.14.1->google-api-core<3.0.0,>=1.0.0->opencensus->ray[default,tune]<2.40,>=2.10.0; extra == \"all\"->autogluon.core[all]==1.2->autogluon) (0.6.1)\n"
          ]
        }
      ]
    },
    {
      "cell_type": "code",
      "source": [
        "import autogluon.common as ag\n",
        "from autogluon.tabular import TabularPredictor\n",
        "from sklearn.datasets import load_iris\n",
        "from sklearn.model_selection import train_test_split\n",
        "from sklearn.metrics import accuracy_score, f1_score\n",
        "import pandas as pd\n",
        "\n",
        "# Load the iris dataset\n",
        "iris = load_iris()\n",
        "data = pd.DataFrame(iris.data, columns=iris.feature_names)\n",
        "data['target'] = iris.target\n",
        "\n",
        "# Stratified splitting\n",
        "train_test, holdout = train_test_split(data, test_size=0.1, stratify=data['target'], random_state=42)\n",
        "train, test = train_test_split(train_test, test_size=0.2/0.9, stratify=train_test['target'], random_state=42)\n",
        "\n",
        "# Define neural network hyperparameter search space\n",
        "nn_hyperparameters = {\n",
        "    'NN_TORCH': {\n",
        "        'num_epochs': ag.space.Categorical(10, 20, 50),  # More training time\n",
        "        'learning_rate': ag.space.Real(1e-3, 1e-1, log=True),  # Search in log-scale\n",
        "        'batch_size': ag.space.Categorical(16, 32),  # Larger batch sizes\n",
        "        'num_layers': ag.space.Categorical(1, 2),  # More layers\n",
        "        'hidden_size': ag.space.Categorical(16, 32, 64),  # More neurons\n",
        "        'activation': ag.space.Categorical('relu', 'tanh')\n",
        "    }\n",
        "}\n",
        "\n",
        "# Include other models to avoid failure if NN_TORCH is unstable\n",
        "hyperparameters = {\n",
        "    'NN_TORCH': nn_hyperparameters['NN_TORCH'],\n",
        "    'GBM': {},  # Gradient Boosting Machine\n",
        "    'RF': {},   # Random Forest\n",
        "    'XT': {}    # Extra Trees\n",
        "}\n",
        "\n",
        "# Train the AutoGluon predictor with hyperparameter tuning\n",
        "predictor = TabularPredictor(label='target', problem_type='multiclass', eval_metric='accuracy').fit(\n",
        "    train_data=train,\n",
        "    tuning_data=holdout,\n",
        "    hyperparameters=hyperparameters,\n",
        "    num_bag_folds=0,  # Disable bagging\n",
        "    num_stack_levels=0,\n",
        "    hyperparameter_tune_kwargs={\n",
        "        'num_trials': 10,\n",
        "        'scheduler': 'local',\n",
        "        'searcher': 'random'\n",
        "    },\n",
        "    time_limit=600,\n",
        "    verbosity=3  # Increase verbosity for debugging\n",
        ")\n",
        "\n",
        "# Evaluate performance on the test data\n",
        "y_test = test['target']\n",
        "y_pred = predictor.predict(test.drop(columns=['target']))\n",
        "print(f\"Test Accuracy: {accuracy_score(y_test, y_pred):.4f}\")\n",
        "print(f\"Test F1: {f1_score(y_test, y_pred, average='weighted'):.4f}\")\n",
        "\n",
        "# Get leaderboard\n",
        "leaderboard = predictor.leaderboard(test, extra_info=True)\n",
        "print(leaderboard)\n"
      ],
      "metadata": {
        "colab": {
          "base_uri": "https://localhost:8080/",
          "height": 1000,
          "referenced_widgets": [
            "63766b1a71e94395ac05c45ae2e8106d",
            "2563d59dc7c54948a3bf487d80693e44",
            "62029c71f4d4406a9158ca821ded2852",
            "ed7f90a6bdde46858f3169cfff0e3f84",
            "95e958882d0d4d05b9220b47d20fc451",
            "698c77f7d5e3452d9b7184dc523eedcc",
            "c9aa5acf65ee496887110c9e137723d4",
            "4179468bee994173bd766cac9bee61db",
            "13f12a56f18e40ffaa8342c77f133c53",
            "784528e2a7c04f9687a58f314e506f57",
            "27d89410d8fb4997b989332a27d2bb7d"
          ]
        },
        "id": "9Nkm66lvH7yy",
        "outputId": "b7adab4a-b8f8-40be-93c6-7116aa652952"
      },
      "execution_count": 7,
      "outputs": [
        {
          "output_type": "stream",
          "name": "stderr",
          "text": [
            "No path specified. Models will be saved in: \"AutogluonModels/ag-20250226_165852\"\n",
            "Verbosity: 3 (Detailed Logging)\n",
            "=================== System Info ===================\n",
            "AutoGluon Version:  1.2\n",
            "Python Version:     3.11.11\n",
            "Operating System:   Linux\n",
            "Platform Machine:   x86_64\n",
            "Platform Version:   #1 SMP PREEMPT_DYNAMIC Thu Jun 27 21:05:47 UTC 2024\n",
            "CPU Count:          2\n",
            "GPU Count:          0\n",
            "Memory Avail:       10.13 GB / 12.67 GB (80.0%)\n",
            "Disk Space Avail:   73.49 GB / 107.72 GB (68.2%)\n",
            "===================================================\n",
            "No presets specified! To achieve strong results with AutoGluon, it is recommended to use the available presets. Defaulting to `'medium'`...\n",
            "\tRecommended Presets (For more details refer to https://auto.gluon.ai/stable/tutorials/tabular/tabular-essentials.html#presets):\n",
            "\tpresets='experimental' : New in v1.2: Pre-trained foundation model + parallel fits. The absolute best accuracy without consideration for inference speed. Does not support GPU.\n",
            "\tpresets='best'         : Maximize accuracy. Recommended for most users. Use in competitions and benchmarks.\n",
            "\tpresets='high'         : Strong accuracy with fast inference speed.\n",
            "\tpresets='good'         : Good accuracy with very fast inference speed.\n",
            "\tpresets='medium'       : Fast training time, ideal for initial prototyping.\n",
            "============ fit kwarg info ============\n",
            "User Specified kwargs:\n",
            "{'hyperparameter_tune_kwargs': {'num_trials': 10,\n",
            "                                'scheduler': 'local',\n",
            "                                'searcher': 'random'},\n",
            " 'num_bag_folds': 0,\n",
            " 'num_stack_levels': 0,\n",
            " 'verbosity': 3}\n",
            "Full kwargs:\n",
            "{'_feature_generator_kwargs': None,\n",
            " '_save_bag_folds': None,\n",
            " 'ag_args': None,\n",
            " 'ag_args_ensemble': None,\n",
            " 'ag_args_fit': None,\n",
            " 'auto_stack': False,\n",
            " 'calibrate': 'auto',\n",
            " 'delay_bag_sets': False,\n",
            " 'ds_args': {'clean_up_fits': True,\n",
            "             'detection_time_frac': 0.25,\n",
            "             'enable_callbacks': False,\n",
            "             'enable_ray_logging': True,\n",
            "             'holdout_data': None,\n",
            "             'holdout_frac': 0.1111111111111111,\n",
            "             'memory_safe_fits': True,\n",
            "             'n_folds': 2,\n",
            "             'n_repeats': 1,\n",
            "             'validation_procedure': 'holdout'},\n",
            " 'excluded_model_types': None,\n",
            " 'feature_generator': 'auto',\n",
            " 'feature_prune_kwargs': None,\n",
            " 'holdout_frac': None,\n",
            " 'hyperparameter_tune_kwargs': {'num_trials': 10,\n",
            "                                'scheduler': 'local',\n",
            "                                'searcher': 'random'},\n",
            " 'included_model_types': None,\n",
            " 'keep_only_best': False,\n",
            " 'learning_curves': False,\n",
            " 'name_suffix': None,\n",
            " 'num_bag_folds': 0,\n",
            " 'num_bag_sets': None,\n",
            " 'num_stack_levels': 0,\n",
            " 'pseudo_data': None,\n",
            " 'raise_on_no_models_fitted': True,\n",
            " 'refit_full': False,\n",
            " 'save_bag_folds': None,\n",
            " 'save_space': False,\n",
            " 'set_best_to_refit_full': False,\n",
            " 'test_data': None,\n",
            " 'unlabeled_data': None,\n",
            " 'use_bag_holdout': False,\n",
            " 'verbosity': 3}\n",
            "========================================\n",
            "Warning: hyperparameter tuning is currently experimental and may cause the process to hang.\n",
            "Saving /content/AutogluonModels/ag-20250226_165852/learner.pkl\n",
            "Saving /content/AutogluonModels/ag-20250226_165852/predictor.pkl\n",
            "Beginning AutoGluon training ... Time limit = 600s\n",
            "AutoGluon will save models to \"/content/AutogluonModels/ag-20250226_165852\"\n",
            "Train Data Rows:    104\n",
            "Train Data Columns: 4\n",
            "Tuning Data Rows:    15\n",
            "Tuning Data Columns: 4\n",
            "Label Column:       target\n",
            "Problem Type:       multiclass\n",
            "Preprocessing data ...\n",
            "Train Data Class Count: 3\n",
            "Using Feature Generators to preprocess the data ...\n",
            "Fitting AutoMLPipelineFeatureGenerator...\n",
            "\tAvailable Memory:                    10377.58 MB\n",
            "\tTrain Data (Original)  Memory Usage: 0.00 MB (0.0% of available memory)\n",
            "\tInferring data type of each feature based on column values. Set feature_metadata_in to manually specify special dtypes of the features.\n",
            "\tStage 1 Generators:\n",
            "\t\tFitting AsTypeFeatureGenerator...\n",
            "\t\t\tOriginal Features (exact raw dtype, raw dtype):\n",
            "\t\t\t\t('float64', 'float') : 4 | ['sepal length (cm)', 'sepal width (cm)', 'petal length (cm)', 'petal width (cm)']\n",
            "\t\t\tTypes of features in original data (raw dtype, special dtypes):\n",
            "\t\t\t\t('float', []) : 4 | ['sepal length (cm)', 'sepal width (cm)', 'petal length (cm)', 'petal width (cm)']\n",
            "\t\t\tTypes of features in processed data (raw dtype, special dtypes):\n",
            "\t\t\t\t('float', []) : 4 | ['sepal length (cm)', 'sepal width (cm)', 'petal length (cm)', 'petal width (cm)']\n",
            "\t\t\t0.0s = Fit runtime\n",
            "\t\t\t4 features in original data used to generate 4 features in processed data.\n",
            "\tStage 2 Generators:\n",
            "\t\tFitting FillNaFeatureGenerator...\n",
            "\t\t\tTypes of features in original data (raw dtype, special dtypes):\n",
            "\t\t\t\t('float', []) : 4 | ['sepal length (cm)', 'sepal width (cm)', 'petal length (cm)', 'petal width (cm)']\n",
            "\t\t\tTypes of features in processed data (raw dtype, special dtypes):\n",
            "\t\t\t\t('float', []) : 4 | ['sepal length (cm)', 'sepal width (cm)', 'petal length (cm)', 'petal width (cm)']\n",
            "\t\t\t0.0s = Fit runtime\n",
            "\t\t\t4 features in original data used to generate 4 features in processed data.\n",
            "\tStage 3 Generators:\n",
            "\t\tFitting IdentityFeatureGenerator...\n",
            "\t\t\tTypes of features in original data (raw dtype, special dtypes):\n",
            "\t\t\t\t('float', []) : 4 | ['sepal length (cm)', 'sepal width (cm)', 'petal length (cm)', 'petal width (cm)']\n",
            "\t\t\tTypes of features in processed data (raw dtype, special dtypes):\n",
            "\t\t\t\t('float', []) : 4 | ['sepal length (cm)', 'sepal width (cm)', 'petal length (cm)', 'petal width (cm)']\n",
            "\t\t\t0.0s = Fit runtime\n",
            "\t\t\t4 features in original data used to generate 4 features in processed data.\n",
            "\t\tSkipping CategoryFeatureGenerator: No input feature with required dtypes.\n",
            "\t\tSkipping DatetimeFeatureGenerator: No input feature with required dtypes.\n",
            "\t\tSkipping TextSpecialFeatureGenerator: No input feature with required dtypes.\n",
            "\t\tSkipping TextNgramFeatureGenerator: No input feature with required dtypes.\n",
            "\t\tSkipping IdentityFeatureGenerator: No input feature with required dtypes.\n",
            "\t\tSkipping IsNanFeatureGenerator: No input feature with required dtypes.\n",
            "\tStage 4 Generators:\n",
            "\t\tFitting DropUniqueFeatureGenerator...\n",
            "\t\t\tTypes of features in original data (raw dtype, special dtypes):\n",
            "\t\t\t\t('float', []) : 4 | ['sepal length (cm)', 'sepal width (cm)', 'petal length (cm)', 'petal width (cm)']\n",
            "\t\t\tTypes of features in processed data (raw dtype, special dtypes):\n",
            "\t\t\t\t('float', []) : 4 | ['sepal length (cm)', 'sepal width (cm)', 'petal length (cm)', 'petal width (cm)']\n",
            "\t\t\t0.0s = Fit runtime\n",
            "\t\t\t4 features in original data used to generate 4 features in processed data.\n",
            "\tStage 5 Generators:\n",
            "\t\tFitting DropDuplicatesFeatureGenerator...\n",
            "\t\t\tTypes of features in original data (raw dtype, special dtypes):\n",
            "\t\t\t\t('float', []) : 4 | ['sepal length (cm)', 'sepal width (cm)', 'petal length (cm)', 'petal width (cm)']\n",
            "\t\t\tTypes of features in processed data (raw dtype, special dtypes):\n",
            "\t\t\t\t('float', []) : 4 | ['sepal length (cm)', 'sepal width (cm)', 'petal length (cm)', 'petal width (cm)']\n",
            "\t\t\t0.0s = Fit runtime\n",
            "\t\t\t4 features in original data used to generate 4 features in processed data.\n",
            "\tTypes of features in original data (exact raw dtype, raw dtype):\n",
            "\t\t('float64', 'float') : 4 | ['sepal length (cm)', 'sepal width (cm)', 'petal length (cm)', 'petal width (cm)']\n",
            "\tTypes of features in original data (raw dtype, special dtypes):\n",
            "\t\t('float', []) : 4 | ['sepal length (cm)', 'sepal width (cm)', 'petal length (cm)', 'petal width (cm)']\n",
            "\tTypes of features in processed data (exact raw dtype, raw dtype):\n",
            "\t\t('float64', 'float') : 4 | ['sepal length (cm)', 'sepal width (cm)', 'petal length (cm)', 'petal width (cm)']\n",
            "\tTypes of features in processed data (raw dtype, special dtypes):\n",
            "\t\t('float', []) : 4 | ['sepal length (cm)', 'sepal width (cm)', 'petal length (cm)', 'petal width (cm)']\n",
            "\t0.1s = Fit runtime\n",
            "\t4 features in original data used to generate 4 features in processed data.\n",
            "\tTrain Data (Processed) Memory Usage: 0.00 MB (0.0% of available memory)\n",
            "Data preprocessing and feature engineering runtime = 0.12s ...\n",
            "AutoGluon will gauge predictive performance using evaluation metric: 'accuracy'\n",
            "\tTo change this, specify the eval_metric parameter of Predictor()\n",
            "Saving /content/AutogluonModels/ag-20250226_165852/learner.pkl\n",
            "User-specified model hyperparameters to be fit:\n",
            "{\n",
            "\t'NN_TORCH': [{'num_epochs': Categorical[10, 20, 50], 'learning_rate': Real: lower=0.001, upper=0.1, 'batch_size': Categorical[16, 32], 'num_layers': Categorical[1, 2], 'hidden_size': Categorical[16, 32, 64], 'activation': Categorical['relu', 'tanh']}],\n",
            "\t'GBM': [{}],\n",
            "\t'RF': [{}],\n",
            "\t'XT': [{}],\n",
            "}\n",
            "Saving /content/AutogluonModels/ag-20250226_165852/utils/data/X.pkl\n",
            "Saving /content/AutogluonModels/ag-20250226_165852/utils/data/y.pkl\n",
            "Saving /content/AutogluonModels/ag-20250226_165852/utils/data/X_val.pkl\n",
            "Saving /content/AutogluonModels/ag-20250226_165852/utils/data/y_val.pkl\n",
            "Model configs that will be trained (in order):\n",
            "\tLightGBM: \t{'ag_args': {'hyperparameter_tune_kwargs': {'num_trials': 10, 'scheduler': 'local', 'searcher': 'random'}, 'model_type': <class 'autogluon.tabular.models.lgb.lgb_model.LGBModel'>, 'priority': 90}}\n",
            "\tRandomForest: \t{'ag_args': {'hyperparameter_tune_kwargs': {'num_trials': 10, 'scheduler': 'local', 'searcher': 'random'}, 'model_type': <class 'autogluon.tabular.models.rf.rf_model.RFModel'>, 'priority': 80}, 'ag_args_ensemble': {'use_child_oof': True}}\n",
            "\tExtraTrees: \t{'ag_args': {'hyperparameter_tune_kwargs': {'num_trials': 10, 'scheduler': 'local', 'searcher': 'random'}, 'model_type': <class 'autogluon.tabular.models.xt.xt_model.XTModel'>, 'priority': 60}, 'ag_args_ensemble': {'use_child_oof': True}}\n",
            "\tNeuralNetTorch: \t{'num_epochs': Categorical[10, 20, 50], 'learning_rate': Real: lower=0.001, upper=0.1, 'batch_size': Categorical[16, 32], 'num_layers': Categorical[1, 2], 'hidden_size': Categorical[16, 32, 64], 'activation': Categorical['relu', 'tanh'], 'ag_args': {'hyperparameter_tune_kwargs': {'num_trials': 10, 'scheduler': 'local', 'searcher': 'random'}, 'model_type': <class 'autogluon.tabular.models.tabular_nn.torch.tabular_nn_torch.TabularNeuralNetTorchModel'>, 'priority': 25}}\n",
            "Fitting 4 L1 models, fit_strategy=\"sequential\" ...\n",
            "Hyperparameter tuning model: LightGBM ... Tuning model for up to 134.97s of the 599.87s of remaining time.\n",
            "\tFitting LightGBM with 'num_gpus': 0, 'num_cpus': 1\n",
            "Starting generic AbstractModel hyperparameter tuning for LightGBM model...\n",
            "\tHyperparameter search space for LightGBM: \n",
            "learning_rate:   Real: lower=0.005, upper=0.2\n",
            "feature_fraction:   Real: lower=0.75, upper=1.0\n",
            "min_data_in_leaf:   Int: lower=2, upper=60\n",
            "num_leaves:   Int: lower=16, upper=96\n"
          ]
        },
        {
          "output_type": "display_data",
          "data": {
            "text/plain": [
              "  0%|          | 0/10 [00:00<?, ?it/s]"
            ],
            "application/vnd.jupyter.widget-view+json": {
              "version_major": 2,
              "version_minor": 0,
              "model_id": "63766b1a71e94395ac05c45ae2e8106d"
            }
          },
          "metadata": {}
        },
        {
          "output_type": "stream",
          "name": "stderr",
          "text": [
            "Loading: /content/AutogluonModels/ag-20250226_165852/models/LightGBM/dataset_train.pkl\n",
            "Loading: /content/AutogluonModels/ag-20250226_165852/models/LightGBM/dataset_val.pkl\n",
            "/usr/local/lib/python3.11/dist-packages/dask/dataframe/__init__.py:42: FutureWarning: \n",
            "Dask dataframe query planning is disabled because dask-expr is not installed.\n",
            "\n",
            "You can install it with `pip install dask[dataframe]` or `conda install dask`.\n",
            "This will raise in a future version.\n",
            "\n",
            "  warnings.warn(msg, FutureWarning)\n",
            "\tFitting 10000 rounds... Hyperparameters: {'learning_rate': 0.05, 'feature_fraction': 1.0, 'min_data_in_leaf': 20, 'num_leaves': 31}\n",
            "Saving /content/AutogluonModels/ag-20250226_165852/models/LightGBM/T1/model.pkl\n",
            "Loading: /content/AutogluonModels/ag-20250226_165852/models/LightGBM/dataset_train.pkl\n",
            "Loading: /content/AutogluonModels/ag-20250226_165852/models/LightGBM/dataset_val.pkl\n",
            "\tFitting 10000 rounds... Hyperparameters: {'learning_rate': 0.06994332504138302, 'feature_fraction': 0.8872033759818312, 'min_data_in_leaf': 5, 'num_leaves': 83}\n",
            "Saving /content/AutogluonModels/ag-20250226_165852/models/LightGBM/T2/model.pkl\n",
            "Loading: /content/AutogluonModels/ag-20250226_165852/models/LightGBM/dataset_train.pkl\n",
            "Loading: /content/AutogluonModels/ag-20250226_165852/models/LightGBM/dataset_val.pkl\n",
            "\tFitting 10000 rounds... Hyperparameters: {'learning_rate': 0.049883446878335284, 'feature_fraction': 0.9618129346960314, 'min_data_in_leaf': 52, 'num_leaves': 52}\n",
            "Saving /content/AutogluonModels/ag-20250226_165852/models/LightGBM/T3/model.pkl\n",
            "Loading: /content/AutogluonModels/ag-20250226_165852/models/LightGBM/dataset_train.pkl\n",
            "Loading: /content/AutogluonModels/ag-20250226_165852/models/LightGBM/dataset_val.pkl\n",
            "\tFitting 10000 rounds... Hyperparameters: {'learning_rate': 0.006163502781172818, 'feature_fraction': 0.824383651636118, 'min_data_in_leaf': 14, 'num_leaves': 74}\n",
            "Saving /content/AutogluonModels/ag-20250226_165852/models/LightGBM/T4/model.pkl\n",
            "Loading: /content/AutogluonModels/ag-20250226_165852/models/LightGBM/dataset_train.pkl\n",
            "Loading: /content/AutogluonModels/ag-20250226_165852/models/LightGBM/dataset_val.pkl\n",
            "\tFitting 10000 rounds... Hyperparameters: {'learning_rate': 0.1000260297171191, 'feature_fraction': 0.8694162793303375, 'min_data_in_leaf': 48, 'num_leaves': 53}\n",
            "Saving /content/AutogluonModels/ag-20250226_165852/models/LightGBM/T5/model.pkl\n",
            "Loading: /content/AutogluonModels/ag-20250226_165852/models/LightGBM/dataset_train.pkl\n",
            "Loading: /content/AutogluonModels/ag-20250226_165852/models/LightGBM/dataset_val.pkl\n",
            "\tFitting 10000 rounds... Hyperparameters: {'learning_rate': 0.017357968430552234, 'feature_fraction': 0.9590196908843444, 'min_data_in_leaf': 22, 'num_leaves': 96}\n",
            "Saving /content/AutogluonModels/ag-20250226_165852/models/LightGBM/T6/model.pkl\n",
            "Loading: /content/AutogluonModels/ag-20250226_165852/models/LightGBM/dataset_train.pkl\n",
            "Loading: /content/AutogluonModels/ag-20250226_165852/models/LightGBM/dataset_val.pkl\n",
            "\tFitting 10000 rounds... Hyperparameters: {'learning_rate': 0.08823152832086026, 'feature_fraction': 0.9581549613869845, 'min_data_in_leaf': 49, 'num_leaves': 80}\n",
            "Saving /content/AutogluonModels/ag-20250226_165852/models/LightGBM/T7/model.pkl\n",
            "Loading: /content/AutogluonModels/ag-20250226_165852/models/LightGBM/dataset_train.pkl\n",
            "Loading: /content/AutogluonModels/ag-20250226_165852/models/LightGBM/dataset_val.pkl\n",
            "\tFitting 10000 rounds... Hyperparameters: {'learning_rate': 0.09533886267453753, 'feature_fraction': 0.994654585558191, 'min_data_in_leaf': 53, 'num_leaves': 45}\n",
            "Saving /content/AutogluonModels/ag-20250226_165852/models/LightGBM/T8/model.pkl\n",
            "Loading: /content/AutogluonModels/ag-20250226_165852/models/LightGBM/dataset_train.pkl\n",
            "Loading: /content/AutogluonModels/ag-20250226_165852/models/LightGBM/dataset_val.pkl\n",
            "\tFitting 10000 rounds... Hyperparameters: {'learning_rate': 0.0077348648548282535, 'feature_fraction': 0.9451322940716138, 'min_data_in_leaf': 34, 'num_leaves': 81}\n",
            "Saving /content/AutogluonModels/ag-20250226_165852/models/LightGBM/T9/model.pkl\n",
            "Loading: /content/AutogluonModels/ag-20250226_165852/models/LightGBM/dataset_train.pkl\n",
            "Loading: /content/AutogluonModels/ag-20250226_165852/models/LightGBM/dataset_val.pkl\n",
            "\tFitting 10000 rounds... Hyperparameters: {'learning_rate': 0.16307458477834605, 'feature_fraction': 0.7858383218522615, 'min_data_in_leaf': 33, 'num_leaves': 90}\n",
            "Saving /content/AutogluonModels/ag-20250226_165852/models/LightGBM/T10/model.pkl\n",
            "Time for LightGBM model HPO: 8.59702444076538\n",
            "Best hyperparameter configuration for LightGBM model: \n",
            "{'learning_rate': 0.05, 'feature_fraction': 1.0, 'min_data_in_leaf': 20, 'num_leaves': 31}\n",
            "Loading: /content/AutogluonModels/ag-20250226_165852/models/LightGBM/T1/model.pkl\n",
            "Fitted model: LightGBM/T1 ...\n",
            "\t0.9333\t = Validation score   (accuracy)\n",
            "\t5.59s\t = Training   runtime\n",
            "\t0.0s\t = Validation runtime\n",
            "\t9295.9\t = Inference  throughput (rows/s | 15 batch size)\n",
            "Loading: /content/AutogluonModels/ag-20250226_165852/models/LightGBM/T2/model.pkl\n",
            "Fitted model: LightGBM/T2 ...\n",
            "\t0.9333\t = Validation score   (accuracy)\n",
            "\t0.74s\t = Training   runtime\n",
            "\t0.0s\t = Validation runtime\n",
            "\t6375.6\t = Inference  throughput (rows/s | 15 batch size)\n",
            "Loading: /content/AutogluonModels/ag-20250226_165852/models/LightGBM/T3/model.pkl\n",
            "Fitted model: LightGBM/T3 ...\n",
            "\t0.3333\t = Validation score   (accuracy)\n",
            "\t0.34s\t = Training   runtime\n",
            "\t0.0s\t = Validation runtime\n",
            "\t14716.9\t = Inference  throughput (rows/s | 15 batch size)\n",
            "Loading: /content/AutogluonModels/ag-20250226_165852/models/LightGBM/T4/model.pkl\n",
            "Fitted model: LightGBM/T4 ...\n",
            "\t0.9333\t = Validation score   (accuracy)\n",
            "\t0.29s\t = Training   runtime\n",
            "\t0.0s\t = Validation runtime\n",
            "\t11614.3\t = Inference  throughput (rows/s | 15 batch size)\n",
            "Loading: /content/AutogluonModels/ag-20250226_165852/models/LightGBM/T5/model.pkl\n",
            "Fitted model: LightGBM/T5 ...\n",
            "\t0.9333\t = Validation score   (accuracy)\n",
            "\t0.23s\t = Training   runtime\n",
            "\t0.0s\t = Validation runtime\n",
            "\t14824.4\t = Inference  throughput (rows/s | 15 batch size)\n",
            "Loading: /content/AutogluonModels/ag-20250226_165852/models/LightGBM/T6/model.pkl\n",
            "Fitted model: LightGBM/T6 ...\n",
            "\t0.9333\t = Validation score   (accuracy)\n",
            "\t0.24s\t = Training   runtime\n",
            "\t0.0s\t = Validation runtime\n",
            "\t14540.0\t = Inference  throughput (rows/s | 15 batch size)\n",
            "Loading: /content/AutogluonModels/ag-20250226_165852/models/LightGBM/T7/model.pkl\n",
            "Fitted model: LightGBM/T7 ...\n",
            "\t0.9333\t = Validation score   (accuracy)\n",
            "\t0.24s\t = Training   runtime\n",
            "\t0.0s\t = Validation runtime\n",
            "\t16119.5\t = Inference  throughput (rows/s | 15 batch size)\n",
            "Loading: /content/AutogluonModels/ag-20250226_165852/models/LightGBM/T8/model.pkl\n",
            "Fitted model: LightGBM/T8 ...\n",
            "\t0.3333\t = Validation score   (accuracy)\n",
            "\t0.22s\t = Training   runtime\n",
            "\t0.0s\t = Validation runtime\n",
            "\t13521.3\t = Inference  throughput (rows/s | 15 batch size)\n",
            "Loading: /content/AutogluonModels/ag-20250226_165852/models/LightGBM/T9/model.pkl\n",
            "Fitted model: LightGBM/T9 ...\n",
            "\t0.9333\t = Validation score   (accuracy)\n",
            "\t0.23s\t = Training   runtime\n",
            "\t0.0s\t = Validation runtime\n",
            "\t16578.3\t = Inference  throughput (rows/s | 15 batch size)\n",
            "Loading: /content/AutogluonModels/ag-20250226_165852/models/LightGBM/T10/model.pkl\n",
            "Fitted model: LightGBM/T10 ...\n",
            "\t0.9333\t = Validation score   (accuracy)\n",
            "\t0.22s\t = Training   runtime\n",
            "\t0.0s\t = Validation runtime\n",
            "\t15923.7\t = Inference  throughput (rows/s | 15 batch size)\n",
            "Saving /content/AutogluonModels/ag-20250226_165852/models/trainer.pkl\n",
            "Hyperparameter tuning model: RandomForest ... Tuning model for up to 134.97s of the 591.2s of remaining time.\n",
            "\tFitting RandomForest with 'num_gpus': 0, 'num_cpus': 2\n",
            "Starting generic AbstractModel hyperparameter tuning for RandomForest model...\n",
            "\tNo hyperparameter search space specified for RandomForest. Skipping HPO. Will train one model based on the provided hyperparameters.\n",
            "Saving /content/AutogluonModels/ag-20250226_165852/models/RandomForest/model.pkl\n",
            "Loading: /content/AutogluonModels/ag-20250226_165852/models/RandomForest/model.pkl\n",
            "Fitted model: RandomForest ...\n",
            "\t0.9615\t = Validation score   (accuracy)\n",
            "\t0.58s\t = Training   runtime\n",
            "\t0.07s\t = Validation runtime\n",
            "Saving /content/AutogluonModels/ag-20250226_165852/models/trainer.pkl\n",
            "Hyperparameter tuning model: ExtraTrees ... Tuning model for up to 134.97s of the 590.52s of remaining time.\n",
            "\tFitting ExtraTrees with 'num_gpus': 0, 'num_cpus': 2\n",
            "Starting generic AbstractModel hyperparameter tuning for ExtraTrees model...\n",
            "\tNo hyperparameter search space specified for ExtraTrees. Skipping HPO. Will train one model based on the provided hyperparameters.\n",
            "Saving /content/AutogluonModels/ag-20250226_165852/models/ExtraTrees/model.pkl\n",
            "Loading: /content/AutogluonModels/ag-20250226_165852/models/ExtraTrees/model.pkl\n",
            "Fitted model: ExtraTrees ...\n",
            "\t0.9712\t = Validation score   (accuracy)\n",
            "\t0.43s\t = Training   runtime\n",
            "\t0.08s\t = Validation runtime\n",
            "Saving /content/AutogluonModels/ag-20250226_165852/models/trainer.pkl\n",
            "Hyperparameter tuning model: NeuralNetTorch ... Tuning model for up to 134.97s of the 589.98s of remaining time.\n",
            "\tFitting NeuralNetTorch with 'num_gpus': 0, 'num_cpus': 2\n",
            "Starting generic AbstractModel hyperparameter tuning for NeuralNetTorch model...\n",
            "\tHyperparameter search space for NeuralNetTorch: \n",
            "num_epochs:   Categorical[10, 20, 50]\n",
            "activation:   Categorical['relu', 'tanh']\n",
            "embedding_size_factor:   Categorical[1.0, 0.5, 1.5, 0.7, 0.6, 0.8, 0.9, 1.1, 1.2, 1.3, 1.4]\n",
            "dropout_prob:   Categorical[0.1, 0.0, 0.5, 0.2, 0.3, 0.4]\n",
            "learning_rate:   Real: lower=0.001, upper=0.1\n",
            "weight_decay:   Real: lower=1e-12, upper=0.1\n",
            "proc.embed_min_categories:   Categorical[4, 3, 10, 100, 1000]\n",
            "proc.impute_strategy:   Categorical['median', 'mean', 'most_frequent']\n",
            "proc.max_category_levels:   Categorical[100, 10, 20, 200, 300, 400, 500, 1000, 10000]\n",
            "proc.skew_threshold:   Categorical[0.99, 0.2, 0.3, 0.5, 0.8, 0.9, 0.999, 1.0, 10.0, 100.0]\n",
            "num_layers:   Categorical[1, 2]\n",
            "hidden_size:   Categorical[16, 32, 64]\n",
            "use_batchnorm:   Categorical[False, True]\n",
            "batch_size:   Categorical[16, 32]\n"
          ]
        },
        {
          "output_type": "stream",
          "name": "stdout",
          "text": [
            "+--------------------------------------------------------+\n",
            "| Configuration for experiment     NeuralNetTorch        |\n",
            "+--------------------------------------------------------+\n",
            "| Search algorithm                 BasicVariantGenerator |\n",
            "| Scheduler                        FIFOScheduler         |\n",
            "| Number of trials                 10                    |\n",
            "+--------------------------------------------------------+\n",
            "\n",
            "View detailed results here: /content/AutogluonModels/ag-20250226_165852/models/NeuralNetTorch\n"
          ]
        },
        {
          "output_type": "stream",
          "name": "stderr",
          "text": [
            "Loading: /content/AutogluonModels/ag-20250226_165852/models/NeuralNetTorch/fb100_00000/model.pkl\n",
            "Fitted model: NeuralNetTorch/fb100_00000 ...\n",
            "\t0.6\t = Validation score   (accuracy)\n",
            "\t6.32s\t = Training   runtime\n",
            "\t0.0s\t = Validation runtime\n",
            "\t3524.6\t = Inference  throughput (rows/s | 15 batch size)\n",
            "Loading: /content/AutogluonModels/ag-20250226_165852/models/NeuralNetTorch/fb100_00001/model.pkl\n",
            "Fitted model: NeuralNetTorch/fb100_00001 ...\n",
            "\t0.9333\t = Validation score   (accuracy)\n",
            "\t6.38s\t = Training   runtime\n",
            "\t0.0s\t = Validation runtime\n",
            "\t4149.8\t = Inference  throughput (rows/s | 15 batch size)\n",
            "Loading: /content/AutogluonModels/ag-20250226_165852/models/NeuralNetTorch/fb100_00002/model.pkl\n",
            "Fitted model: NeuralNetTorch/fb100_00002 ...\n",
            "\t0.8667\t = Validation score   (accuracy)\n",
            "\t3.99s\t = Training   runtime\n",
            "\t0.01s\t = Validation runtime\n",
            "\t2336.6\t = Inference  throughput (rows/s | 15 batch size)\n",
            "Loading: /content/AutogluonModels/ag-20250226_165852/models/NeuralNetTorch/fb100_00003/model.pkl\n",
            "Fitted model: NeuralNetTorch/fb100_00003 ...\n",
            "\t0.9333\t = Validation score   (accuracy)\n",
            "\t3.95s\t = Training   runtime\n",
            "\t0.0s\t = Validation runtime\n",
            "\t4083.0\t = Inference  throughput (rows/s | 15 batch size)\n",
            "Loading: /content/AutogluonModels/ag-20250226_165852/models/NeuralNetTorch/fb100_00004/model.pkl\n",
            "Fitted model: NeuralNetTorch/fb100_00004 ...\n",
            "\t0.8667\t = Validation score   (accuracy)\n",
            "\t3.79s\t = Training   runtime\n",
            "\t0.0s\t = Validation runtime\n",
            "\t3506.6\t = Inference  throughput (rows/s | 15 batch size)\n",
            "Loading: /content/AutogluonModels/ag-20250226_165852/models/NeuralNetTorch/fb100_00005/model.pkl\n",
            "Fitted model: NeuralNetTorch/fb100_00005 ...\n",
            "\t0.9333\t = Validation score   (accuracy)\n",
            "\t3.9s\t = Training   runtime\n",
            "\t0.01s\t = Validation runtime\n",
            "\t2747.6\t = Inference  throughput (rows/s | 15 batch size)\n",
            "Loading: /content/AutogluonModels/ag-20250226_165852/models/NeuralNetTorch/fb100_00006/model.pkl\n",
            "Fitted model: NeuralNetTorch/fb100_00006 ...\n",
            "\t0.9333\t = Validation score   (accuracy)\n",
            "\t3.85s\t = Training   runtime\n",
            "\t0.0s\t = Validation runtime\n",
            "\t4348.5\t = Inference  throughput (rows/s | 15 batch size)\n",
            "Loading: /content/AutogluonModels/ag-20250226_165852/models/NeuralNetTorch/fb100_00007/model.pkl\n",
            "Fitted model: NeuralNetTorch/fb100_00007 ...\n",
            "\t0.7333\t = Validation score   (accuracy)\n",
            "\t3.7s\t = Training   runtime\n",
            "\t0.0s\t = Validation runtime\n",
            "\t3333.6\t = Inference  throughput (rows/s | 15 batch size)\n",
            "Loading: /content/AutogluonModels/ag-20250226_165852/models/NeuralNetTorch/fb100_00008/model.pkl\n",
            "Fitted model: NeuralNetTorch/fb100_00008 ...\n",
            "\t0.8\t = Validation score   (accuracy)\n",
            "\t4.98s\t = Training   runtime\n",
            "\t0.01s\t = Validation runtime\n",
            "\t2616.8\t = Inference  throughput (rows/s | 15 batch size)\n",
            "Loading: /content/AutogluonModels/ag-20250226_165852/models/NeuralNetTorch/fb100_00009/model.pkl\n",
            "Fitted model: NeuralNetTorch/fb100_00009 ...\n",
            "\t0.8667\t = Validation score   (accuracy)\n",
            "\t4.84s\t = Training   runtime\n",
            "\t0.01s\t = Validation runtime\n",
            "\t2075.0\t = Inference  throughput (rows/s | 15 batch size)\n",
            "Saving /content/AutogluonModels/ag-20250226_165852/models/trainer.pkl\n",
            "Loading: /content/AutogluonModels/ag-20250226_165852/models/LightGBM/T1/model.pkl\n",
            "Loading: /content/AutogluonModels/ag-20250226_165852/models/LightGBM/T2/model.pkl\n",
            "Loading: /content/AutogluonModels/ag-20250226_165852/models/LightGBM/T3/model.pkl\n",
            "Loading: /content/AutogluonModels/ag-20250226_165852/models/LightGBM/T4/model.pkl\n",
            "Loading: /content/AutogluonModels/ag-20250226_165852/models/LightGBM/T5/model.pkl\n",
            "Loading: /content/AutogluonModels/ag-20250226_165852/models/LightGBM/T6/model.pkl\n",
            "Loading: /content/AutogluonModels/ag-20250226_165852/models/LightGBM/T7/model.pkl\n",
            "Loading: /content/AutogluonModels/ag-20250226_165852/models/LightGBM/T8/model.pkl\n",
            "Loading: /content/AutogluonModels/ag-20250226_165852/models/LightGBM/T9/model.pkl\n",
            "Loading: /content/AutogluonModels/ag-20250226_165852/models/LightGBM/T10/model.pkl\n",
            "Loading: /content/AutogluonModels/ag-20250226_165852/models/RandomForest/model.pkl\n"
          ]
        },
        {
          "output_type": "stream",
          "name": "stdout",
          "text": [
            "\n"
          ]
        },
        {
          "output_type": "stream",
          "name": "stderr",
          "text": [
            "Loading: /content/AutogluonModels/ag-20250226_165852/models/ExtraTrees/model.pkl\n",
            "Loading: /content/AutogluonModels/ag-20250226_165852/models/NeuralNetTorch/fb100_00000/model.pkl\n",
            "Loading: /content/AutogluonModels/ag-20250226_165852/models/NeuralNetTorch/fb100_00001/model.pkl\n",
            "Loading: /content/AutogluonModels/ag-20250226_165852/models/NeuralNetTorch/fb100_00002/model.pkl\n",
            "Loading: /content/AutogluonModels/ag-20250226_165852/models/NeuralNetTorch/fb100_00003/model.pkl\n",
            "Loading: /content/AutogluonModels/ag-20250226_165852/models/NeuralNetTorch/fb100_00004/model.pkl\n",
            "Loading: /content/AutogluonModels/ag-20250226_165852/models/NeuralNetTorch/fb100_00005/model.pkl\n",
            "Loading: /content/AutogluonModels/ag-20250226_165852/models/NeuralNetTorch/fb100_00006/model.pkl\n",
            "Loading: /content/AutogluonModels/ag-20250226_165852/models/NeuralNetTorch/fb100_00007/model.pkl\n",
            "Loading: /content/AutogluonModels/ag-20250226_165852/models/NeuralNetTorch/fb100_00008/model.pkl\n",
            "Loading: /content/AutogluonModels/ag-20250226_165852/models/NeuralNetTorch/fb100_00009/model.pkl\n",
            "Model configs that will be trained (in order):\n",
            "\tWeightedEnsemble_L2: \t{'ag_args': {'valid_base': False, 'name_bag_suffix': '', 'model_type': <class 'autogluon.core.models.greedy_ensemble.greedy_weighted_ensemble_model.GreedyWeightedEnsembleModel'>, 'priority': 0}, 'ag_args_ensemble': {'save_bag_folds': True}}\n",
            "Fitting model: WeightedEnsemble_L2 ... Training model for up to 360.00s of the 539.49s of remaining time.\n",
            "\tFitting WeightedEnsemble_L2 with 'num_gpus': 0, 'num_cpus': 2\n",
            "Saving /content/AutogluonModels/ag-20250226_165852/models/WeightedEnsemble_L2/utils/model_template.pkl\n",
            "Loading: /content/AutogluonModels/ag-20250226_165852/models/WeightedEnsemble_L2/utils/model_template.pkl\n",
            "Ensemble size: 1\n",
            "Ensemble weights: \n",
            "[1. 0. 0. 0.]\n",
            "Saving /content/AutogluonModels/ag-20250226_165852/models/WeightedEnsemble_L2/utils/oof.pkl\n",
            "Saving /content/AutogluonModels/ag-20250226_165852/models/WeightedEnsemble_L2/model.pkl\n",
            "\tEnsemble Weights: {'LightGBM/T1': 1.0}\n",
            "\t0.9333\t = Validation score   (accuracy)\n",
            "\t0.04s\t = Training   runtime\n",
            "\t0.0s\t = Validation runtime\n",
            "\t5867.3\t = Inference  throughput (rows/s | 15 batch size)\n",
            "Saving /content/AutogluonModels/ag-20250226_165852/models/trainer.pkl\n",
            "Saving /content/AutogluonModels/ag-20250226_165852/models/trainer.pkl\n",
            "Saving /content/AutogluonModels/ag-20250226_165852/models/trainer.pkl\n",
            "AutoGluon training complete, total runtime = 60.58s ... Best model: WeightedEnsemble_L2 | Estimated inference throughput: 5867.3 rows/s (15 batch size)\n",
            "Loading: /content/AutogluonModels/ag-20250226_165852/models/trainer.pkl\n",
            "Saving /content/AutogluonModels/ag-20250226_165852/models/trainer.pkl\n",
            "Saving /content/AutogluonModels/ag-20250226_165852/learner.pkl\n",
            "Saving /content/AutogluonModels/ag-20250226_165852/predictor.pkl\n",
            "Saving /content/AutogluonModels/ag-20250226_165852/version.txt with contents \"1.2\"\n",
            "Saving /content/AutogluonModels/ag-20250226_165852/metadata.json\n",
            "TabularPredictor saved. To load, use: predictor = TabularPredictor.load(\"/content/AutogluonModels/ag-20250226_165852\")\n",
            "Loading: /content/AutogluonModels/ag-20250226_165852/models/LightGBM/T1/model.pkl\n",
            "Loading: /content/AutogluonModels/ag-20250226_165852/models/WeightedEnsemble_L2/model.pkl\n",
            "Loading: /content/AutogluonModels/ag-20250226_165852/models/LightGBM/T1/info.pkl\n",
            "Loading: /content/AutogluonModels/ag-20250226_165852/models/LightGBM/T1/model.pkl\n",
            "Loading: /content/AutogluonModels/ag-20250226_165852/models/LightGBM/T2/info.pkl\n",
            "Loading: /content/AutogluonModels/ag-20250226_165852/models/LightGBM/T2/model.pkl\n"
          ]
        },
        {
          "output_type": "stream",
          "name": "stdout",
          "text": [
            "Test Accuracy: 0.9032\n",
            "Test F1: 0.9019\n"
          ]
        },
        {
          "output_type": "stream",
          "name": "stderr",
          "text": [
            "Loading: /content/AutogluonModels/ag-20250226_165852/models/LightGBM/T3/info.pkl\n",
            "Loading: /content/AutogluonModels/ag-20250226_165852/models/LightGBM/T3/model.pkl\n",
            "Loading: /content/AutogluonModels/ag-20250226_165852/models/LightGBM/T4/info.pkl\n",
            "Loading: /content/AutogluonModels/ag-20250226_165852/models/LightGBM/T4/model.pkl\n",
            "Loading: /content/AutogluonModels/ag-20250226_165852/models/LightGBM/T5/info.pkl\n",
            "Loading: /content/AutogluonModels/ag-20250226_165852/models/LightGBM/T5/model.pkl\n",
            "Loading: /content/AutogluonModels/ag-20250226_165852/models/LightGBM/T6/info.pkl\n",
            "Loading: /content/AutogluonModels/ag-20250226_165852/models/LightGBM/T6/model.pkl\n",
            "Loading: /content/AutogluonModels/ag-20250226_165852/models/LightGBM/T7/info.pkl\n",
            "Loading: /content/AutogluonModels/ag-20250226_165852/models/LightGBM/T7/model.pkl\n",
            "Loading: /content/AutogluonModels/ag-20250226_165852/models/LightGBM/T8/info.pkl\n",
            "Loading: /content/AutogluonModels/ag-20250226_165852/models/LightGBM/T8/model.pkl\n",
            "Loading: /content/AutogluonModels/ag-20250226_165852/models/LightGBM/T9/info.pkl\n",
            "Loading: /content/AutogluonModels/ag-20250226_165852/models/LightGBM/T9/model.pkl\n",
            "Loading: /content/AutogluonModels/ag-20250226_165852/models/LightGBM/T10/info.pkl\n",
            "Loading: /content/AutogluonModels/ag-20250226_165852/models/LightGBM/T10/model.pkl\n",
            "Loading: /content/AutogluonModels/ag-20250226_165852/models/RandomForest/info.pkl\n",
            "Loading: /content/AutogluonModels/ag-20250226_165852/models/RandomForest/model.pkl\n",
            "Loading: /content/AutogluonModels/ag-20250226_165852/models/ExtraTrees/info.pkl\n",
            "Loading: /content/AutogluonModels/ag-20250226_165852/models/ExtraTrees/model.pkl\n",
            "Loading: /content/AutogluonModels/ag-20250226_165852/models/NeuralNetTorch/fb100_00000/info.pkl\n",
            "Loading: /content/AutogluonModels/ag-20250226_165852/models/NeuralNetTorch/fb100_00000/model.pkl\n",
            "Loading: /content/AutogluonModels/ag-20250226_165852/models/NeuralNetTorch/fb100_00001/info.pkl\n",
            "Loading: /content/AutogluonModels/ag-20250226_165852/models/NeuralNetTorch/fb100_00001/model.pkl\n",
            "Loading: /content/AutogluonModels/ag-20250226_165852/models/NeuralNetTorch/fb100_00002/info.pkl\n",
            "Loading: /content/AutogluonModels/ag-20250226_165852/models/NeuralNetTorch/fb100_00002/model.pkl\n",
            "Loading: /content/AutogluonModels/ag-20250226_165852/models/NeuralNetTorch/fb100_00003/info.pkl\n",
            "Loading: /content/AutogluonModels/ag-20250226_165852/models/NeuralNetTorch/fb100_00003/model.pkl\n",
            "Loading: /content/AutogluonModels/ag-20250226_165852/models/NeuralNetTorch/fb100_00004/info.pkl\n",
            "Loading: /content/AutogluonModels/ag-20250226_165852/models/NeuralNetTorch/fb100_00004/model.pkl\n",
            "Loading: /content/AutogluonModels/ag-20250226_165852/models/NeuralNetTorch/fb100_00005/info.pkl\n",
            "Loading: /content/AutogluonModels/ag-20250226_165852/models/NeuralNetTorch/fb100_00005/model.pkl\n",
            "Loading: /content/AutogluonModels/ag-20250226_165852/models/NeuralNetTorch/fb100_00006/info.pkl\n",
            "Loading: /content/AutogluonModels/ag-20250226_165852/models/NeuralNetTorch/fb100_00006/model.pkl\n",
            "Loading: /content/AutogluonModels/ag-20250226_165852/models/NeuralNetTorch/fb100_00007/info.pkl\n",
            "Loading: /content/AutogluonModels/ag-20250226_165852/models/NeuralNetTorch/fb100_00007/model.pkl\n",
            "Loading: /content/AutogluonModels/ag-20250226_165852/models/NeuralNetTorch/fb100_00008/info.pkl\n",
            "Loading: /content/AutogluonModels/ag-20250226_165852/models/NeuralNetTorch/fb100_00008/model.pkl\n",
            "Loading: /content/AutogluonModels/ag-20250226_165852/models/NeuralNetTorch/fb100_00009/info.pkl\n",
            "Loading: /content/AutogluonModels/ag-20250226_165852/models/NeuralNetTorch/fb100_00009/model.pkl\n",
            "Loading: /content/AutogluonModels/ag-20250226_165852/models/WeightedEnsemble_L2/info.pkl\n",
            "Loading: /content/AutogluonModels/ag-20250226_165852/models/WeightedEnsemble_L2/model.pkl\n",
            "Loading: /content/AutogluonModels/ag-20250226_165852/models/LightGBM/T1/model.pkl\n",
            "Loading: /content/AutogluonModels/ag-20250226_165852/models/LightGBM/T2/model.pkl\n",
            "Loading: /content/AutogluonModels/ag-20250226_165852/models/LightGBM/T3/model.pkl\n",
            "Loading: /content/AutogluonModels/ag-20250226_165852/models/LightGBM/T4/model.pkl\n",
            "Loading: /content/AutogluonModels/ag-20250226_165852/models/LightGBM/T5/model.pkl\n",
            "Loading: /content/AutogluonModels/ag-20250226_165852/models/LightGBM/T6/model.pkl\n",
            "Loading: /content/AutogluonModels/ag-20250226_165852/models/LightGBM/T7/model.pkl\n",
            "Loading: /content/AutogluonModels/ag-20250226_165852/models/LightGBM/T8/model.pkl\n",
            "Loading: /content/AutogluonModels/ag-20250226_165852/models/LightGBM/T9/model.pkl\n",
            "Loading: /content/AutogluonModels/ag-20250226_165852/models/LightGBM/T10/model.pkl\n",
            "Loading: /content/AutogluonModels/ag-20250226_165852/models/RandomForest/model.pkl\n",
            "Loading: /content/AutogluonModels/ag-20250226_165852/models/ExtraTrees/model.pkl\n",
            "Loading: /content/AutogluonModels/ag-20250226_165852/models/NeuralNetTorch/fb100_00000/model.pkl\n",
            "Loading: /content/AutogluonModels/ag-20250226_165852/models/NeuralNetTorch/fb100_00001/model.pkl\n",
            "Loading: /content/AutogluonModels/ag-20250226_165852/models/NeuralNetTorch/fb100_00002/model.pkl\n",
            "Loading: /content/AutogluonModels/ag-20250226_165852/models/NeuralNetTorch/fb100_00003/model.pkl\n",
            "Loading: /content/AutogluonModels/ag-20250226_165852/models/NeuralNetTorch/fb100_00004/model.pkl\n",
            "Loading: /content/AutogluonModels/ag-20250226_165852/models/NeuralNetTorch/fb100_00005/model.pkl\n",
            "Loading: /content/AutogluonModels/ag-20250226_165852/models/NeuralNetTorch/fb100_00006/model.pkl\n",
            "Loading: /content/AutogluonModels/ag-20250226_165852/models/NeuralNetTorch/fb100_00007/model.pkl\n",
            "Loading: /content/AutogluonModels/ag-20250226_165852/models/NeuralNetTorch/fb100_00008/model.pkl\n",
            "Loading: /content/AutogluonModels/ag-20250226_165852/models/NeuralNetTorch/fb100_00009/model.pkl\n",
            "Loading: /content/AutogluonModels/ag-20250226_165852/models/WeightedEnsemble_L2/model.pkl\n"
          ]
        },
        {
          "output_type": "stream",
          "name": "stdout",
          "text": [
            "                         model  score_test  score_val eval_metric  \\\n",
            "0   NeuralNetTorch/fb100_00003    0.967742   0.933333    accuracy   \n",
            "1                 LightGBM/T10    0.935484   0.933333    accuracy   \n",
            "2                  LightGBM/T2    0.935484   0.933333    accuracy   \n",
            "3   NeuralNetTorch/fb100_00006    0.935484   0.933333    accuracy   \n",
            "4                   ExtraTrees    0.935484   0.971154    accuracy   \n",
            "5                  LightGBM/T6    0.903226   0.933333    accuracy   \n",
            "6                  LightGBM/T1    0.903226   0.933333    accuracy   \n",
            "7                  LightGBM/T9    0.903226   0.933333    accuracy   \n",
            "8          WeightedEnsemble_L2    0.903226   0.933333    accuracy   \n",
            "9   NeuralNetTorch/fb100_00001    0.903226   0.933333    accuracy   \n",
            "10  NeuralNetTorch/fb100_00009    0.903226   0.866667    accuracy   \n",
            "11  NeuralNetTorch/fb100_00007    0.903226   0.733333    accuracy   \n",
            "12  NeuralNetTorch/fb100_00005    0.903226   0.933333    accuracy   \n",
            "13                RandomForest    0.903226   0.961538    accuracy   \n",
            "14                 LightGBM/T4    0.870968   0.933333    accuracy   \n",
            "15                 LightGBM/T5    0.870968   0.933333    accuracy   \n",
            "16  NeuralNetTorch/fb100_00002    0.838710   0.866667    accuracy   \n",
            "17  NeuralNetTorch/fb100_00008    0.838710   0.800000    accuracy   \n",
            "18                 LightGBM/T7    0.806452   0.933333    accuracy   \n",
            "19  NeuralNetTorch/fb100_00004    0.741935   0.866667    accuracy   \n",
            "20  NeuralNetTorch/fb100_00000    0.677419   0.600000    accuracy   \n",
            "21                 LightGBM/T8    0.322581   0.333333    accuracy   \n",
            "22                 LightGBM/T3    0.322581   0.333333    accuracy   \n",
            "\n",
            "    pred_time_test  pred_time_val  fit_time  pred_time_test_marginal  \\\n",
            "0         0.009431       0.003674  3.947337                 0.009431   \n",
            "1         0.001456       0.000942  0.222753                 0.001456   \n",
            "2         0.001472       0.002353  0.738467                 0.001472   \n",
            "3         0.006480       0.003449  3.852125                 0.006480   \n",
            "4         0.051288       0.079244  0.432055                 0.051288   \n",
            "5         0.001453       0.001032  0.237300                 0.001453   \n",
            "6         0.001805       0.001614  5.594965                 0.001805   \n",
            "7         0.002599       0.000905  0.226938                 0.002599   \n",
            "8         0.004498       0.002557  5.632436                 0.002694   \n",
            "9         0.006749       0.003615  6.383553                 0.006749   \n",
            "10        0.007556       0.007229  4.841116                 0.007556   \n",
            "11        0.008193       0.004500  3.700256                 0.008193   \n",
            "12        0.011277       0.005459  3.900159                 0.011277   \n",
            "13        0.055864       0.070930  0.582223                 0.055864   \n",
            "14        0.001543       0.001292  0.285529                 0.001543   \n",
            "15        0.001743       0.001012  0.226008                 0.001743   \n",
            "16        0.007796       0.006420  3.990474                 0.007796   \n",
            "17        0.008135       0.005732  4.975971                 0.008135   \n",
            "18        0.001625       0.000931  0.244525                 0.001625   \n",
            "19        0.007585       0.004278  3.785801                 0.007585   \n",
            "20        0.006714       0.004256  6.322496                 0.006714   \n",
            "21        0.001394       0.001109  0.215112                 0.001394   \n",
            "22        0.001398       0.001019  0.339822                 0.001398   \n",
            "\n",
            "    pred_time_val_marginal  fit_time_marginal  ...  \\\n",
            "0                 0.003674           3.947337  ...   \n",
            "1                 0.000942           0.222753  ...   \n",
            "2                 0.002353           0.738467  ...   \n",
            "3                 0.003449           3.852125  ...   \n",
            "4                 0.079244           0.432055  ...   \n",
            "5                 0.001032           0.237300  ...   \n",
            "6                 0.001614           5.594965  ...   \n",
            "7                 0.000905           0.226938  ...   \n",
            "8                 0.000943           0.037471  ...   \n",
            "9                 0.003615           6.383553  ...   \n",
            "10                0.007229           4.841116  ...   \n",
            "11                0.004500           3.700256  ...   \n",
            "12                0.005459           3.900159  ...   \n",
            "13                0.070930           0.582223  ...   \n",
            "14                0.001292           0.285529  ...   \n",
            "15                0.001012           0.226008  ...   \n",
            "16                0.006420           3.990474  ...   \n",
            "17                0.005732           4.975971  ...   \n",
            "18                0.000931           0.244525  ...   \n",
            "19                0.004278           3.785801  ...   \n",
            "20                0.004256           6.322496  ...   \n",
            "21                0.001109           0.215112  ...   \n",
            "22                0.001019           0.339822  ...   \n",
            "\n",
            "                                      hyperparameters  \\\n",
            "0   {'num_epochs': 10, 'epochs_wo_improve': None, ...   \n",
            "1   {'learning_rate': 0.16307458477834605, 'featur...   \n",
            "2   {'learning_rate': 0.06994332504138302, 'featur...   \n",
            "3   {'num_epochs': 50, 'epochs_wo_improve': None, ...   \n",
            "4   {'n_estimators': 300, 'max_leaf_nodes': 15000,...   \n",
            "5   {'learning_rate': 0.017357968430552234, 'featu...   \n",
            "6   {'learning_rate': 0.05, 'feature_fraction': 1....   \n",
            "7   {'learning_rate': 0.0077348648548282535, 'feat...   \n",
            "8   {'use_orig_features': False, 'valid_stacker': ...   \n",
            "9   {'num_epochs': 10, 'epochs_wo_improve': None, ...   \n",
            "10  {'num_epochs': 20, 'epochs_wo_improve': None, ...   \n",
            "11  {'num_epochs': 10, 'epochs_wo_improve': None, ...   \n",
            "12  {'num_epochs': 50, 'epochs_wo_improve': None, ...   \n",
            "13  {'n_estimators': 300, 'max_leaf_nodes': 15000,...   \n",
            "14  {'learning_rate': 0.006163502781172818, 'featu...   \n",
            "15  {'learning_rate': 0.1000260297171191, 'feature...   \n",
            "16  {'num_epochs': 10, 'epochs_wo_improve': None, ...   \n",
            "17  {'num_epochs': 20, 'epochs_wo_improve': None, ...   \n",
            "18  {'learning_rate': 0.08823152832086026, 'featur...   \n",
            "19  {'num_epochs': 10, 'epochs_wo_improve': None, ...   \n",
            "20  {'num_epochs': 10, 'epochs_wo_improve': None, ...   \n",
            "21  {'learning_rate': 0.09533886267453753, 'featur...   \n",
            "22  {'learning_rate': 0.049883446878335284, 'featu...   \n",
            "\n",
            "                     hyperparameters_fit  \\\n",
            "0   {'batch_size': 32, 'num_epochs': 10}   \n",
            "1                 {'num_boost_round': 1}   \n",
            "2                 {'num_boost_round': 1}   \n",
            "3   {'batch_size': 32, 'num_epochs': 21}   \n",
            "4                  {'n_estimators': 300}   \n",
            "5                 {'num_boost_round': 1}   \n",
            "6                 {'num_boost_round': 1}   \n",
            "7                {'num_boost_round': 45}   \n",
            "8                                     {}   \n",
            "9   {'batch_size': 16, 'num_epochs': 10}   \n",
            "10  {'batch_size': 32, 'num_epochs': 20}   \n",
            "11  {'batch_size': 32, 'num_epochs': 10}   \n",
            "12  {'batch_size': 32, 'num_epochs': 24}   \n",
            "13                 {'n_estimators': 300}   \n",
            "14                {'num_boost_round': 4}   \n",
            "15               {'num_boost_round': 11}   \n",
            "16   {'batch_size': 32, 'num_epochs': 2}   \n",
            "17  {'batch_size': 16, 'num_epochs': 20}   \n",
            "18               {'num_boost_round': 10}   \n",
            "19   {'batch_size': 32, 'num_epochs': 3}   \n",
            "20  {'batch_size': 16, 'num_epochs': 10}   \n",
            "21                {'num_boost_round': 1}   \n",
            "22                {'num_boost_round': 1}   \n",
            "\n",
            "                                          ag_args_fit  \\\n",
            "0   {'max_memory_usage_ratio': 1.0, 'max_time_limi...   \n",
            "1   {'max_memory_usage_ratio': 1.0, 'max_time_limi...   \n",
            "2   {'max_memory_usage_ratio': 1.0, 'max_time_limi...   \n",
            "3   {'max_memory_usage_ratio': 1.0, 'max_time_limi...   \n",
            "4   {'max_memory_usage_ratio': 1.0, 'max_time_limi...   \n",
            "5   {'max_memory_usage_ratio': 1.0, 'max_time_limi...   \n",
            "6   {'max_memory_usage_ratio': 1.0, 'max_time_limi...   \n",
            "7   {'max_memory_usage_ratio': 1.0, 'max_time_limi...   \n",
            "8   {'max_memory_usage_ratio': 1.0, 'max_time_limi...   \n",
            "9   {'max_memory_usage_ratio': 1.0, 'max_time_limi...   \n",
            "10  {'max_memory_usage_ratio': 1.0, 'max_time_limi...   \n",
            "11  {'max_memory_usage_ratio': 1.0, 'max_time_limi...   \n",
            "12  {'max_memory_usage_ratio': 1.0, 'max_time_limi...   \n",
            "13  {'max_memory_usage_ratio': 1.0, 'max_time_limi...   \n",
            "14  {'max_memory_usage_ratio': 1.0, 'max_time_limi...   \n",
            "15  {'max_memory_usage_ratio': 1.0, 'max_time_limi...   \n",
            "16  {'max_memory_usage_ratio': 1.0, 'max_time_limi...   \n",
            "17  {'max_memory_usage_ratio': 1.0, 'max_time_limi...   \n",
            "18  {'max_memory_usage_ratio': 1.0, 'max_time_limi...   \n",
            "19  {'max_memory_usage_ratio': 1.0, 'max_time_limi...   \n",
            "20  {'max_memory_usage_ratio': 1.0, 'max_time_limi...   \n",
            "21  {'max_memory_usage_ratio': 1.0, 'max_time_limi...   \n",
            "22  {'max_memory_usage_ratio': 1.0, 'max_time_limi...   \n",
            "\n",
            "                                             features  compile_time  \\\n",
            "0   [sepal length (cm), sepal width (cm), petal le...          None   \n",
            "1   [sepal length (cm), sepal width (cm), petal le...          None   \n",
            "2   [sepal length (cm), sepal width (cm), petal le...          None   \n",
            "3   [sepal length (cm), sepal width (cm), petal le...          None   \n",
            "4   [sepal length (cm), sepal width (cm), petal le...          None   \n",
            "5   [sepal length (cm), sepal width (cm), petal le...          None   \n",
            "6   [sepal length (cm), sepal width (cm), petal le...          None   \n",
            "7   [sepal length (cm), sepal width (cm), petal le...          None   \n",
            "8       [LightGBM/T1_1, LightGBM/T1_2, LightGBM/T1_0]          None   \n",
            "9   [sepal length (cm), sepal width (cm), petal le...          None   \n",
            "10  [sepal length (cm), sepal width (cm), petal le...          None   \n",
            "11  [sepal length (cm), sepal width (cm), petal le...          None   \n",
            "12  [sepal length (cm), sepal width (cm), petal le...          None   \n",
            "13  [sepal length (cm), sepal width (cm), petal le...          None   \n",
            "14  [sepal length (cm), sepal width (cm), petal le...          None   \n",
            "15  [sepal length (cm), sepal width (cm), petal le...          None   \n",
            "16  [sepal length (cm), sepal width (cm), petal le...          None   \n",
            "17  [sepal length (cm), sepal width (cm), petal le...          None   \n",
            "18  [sepal length (cm), sepal width (cm), petal le...          None   \n",
            "19  [sepal length (cm), sepal width (cm), petal le...          None   \n",
            "20  [sepal length (cm), sepal width (cm), petal le...          None   \n",
            "21  [sepal length (cm), sepal width (cm), petal le...          None   \n",
            "22  [sepal length (cm), sepal width (cm), petal le...          None   \n",
            "\n",
            "                               child_hyperparameters  \\\n",
            "0                                               None   \n",
            "1                                               None   \n",
            "2                                               None   \n",
            "3                                               None   \n",
            "4                                               None   \n",
            "5                                               None   \n",
            "6                                               None   \n",
            "7                                               None   \n",
            "8   {'ensemble_size': 25, 'subsample_size': 1000000}   \n",
            "9                                               None   \n",
            "10                                              None   \n",
            "11                                              None   \n",
            "12                                              None   \n",
            "13                                              None   \n",
            "14                                              None   \n",
            "15                                              None   \n",
            "16                                              None   \n",
            "17                                              None   \n",
            "18                                              None   \n",
            "19                                              None   \n",
            "20                                              None   \n",
            "21                                              None   \n",
            "22                                              None   \n",
            "\n",
            "    child_hyperparameters_fit  \\\n",
            "0                        None   \n",
            "1                        None   \n",
            "2                        None   \n",
            "3                        None   \n",
            "4                        None   \n",
            "5                        None   \n",
            "6                        None   \n",
            "7                        None   \n",
            "8        {'ensemble_size': 1}   \n",
            "9                        None   \n",
            "10                       None   \n",
            "11                       None   \n",
            "12                       None   \n",
            "13                       None   \n",
            "14                       None   \n",
            "15                       None   \n",
            "16                       None   \n",
            "17                       None   \n",
            "18                       None   \n",
            "19                       None   \n",
            "20                       None   \n",
            "21                       None   \n",
            "22                       None   \n",
            "\n",
            "                                    child_ag_args_fit      ancestors  \\\n",
            "0                                                None             []   \n",
            "1                                                None             []   \n",
            "2                                                None             []   \n",
            "3                                                None             []   \n",
            "4                                                None             []   \n",
            "5                                                None             []   \n",
            "6                                                None             []   \n",
            "7                                                None             []   \n",
            "8   {'max_memory_usage_ratio': 1.0, 'max_time_limi...  [LightGBM/T1]   \n",
            "9                                                None             []   \n",
            "10                                               None             []   \n",
            "11                                               None             []   \n",
            "12                                               None             []   \n",
            "13                                               None             []   \n",
            "14                                               None             []   \n",
            "15                                               None             []   \n",
            "16                                               None             []   \n",
            "17                                               None             []   \n",
            "18                                               None             []   \n",
            "19                                               None             []   \n",
            "20                                               None             []   \n",
            "21                                               None             []   \n",
            "22                                               None             []   \n",
            "\n",
            "              descendants  \n",
            "0                      []  \n",
            "1                      []  \n",
            "2                      []  \n",
            "3                      []  \n",
            "4                      []  \n",
            "5                      []  \n",
            "6   [WeightedEnsemble_L2]  \n",
            "7                      []  \n",
            "8                      []  \n",
            "9                      []  \n",
            "10                     []  \n",
            "11                     []  \n",
            "12                     []  \n",
            "13                     []  \n",
            "14                     []  \n",
            "15                     []  \n",
            "16                     []  \n",
            "17                     []  \n",
            "18                     []  \n",
            "19                     []  \n",
            "20                     []  \n",
            "21                     []  \n",
            "22                     []  \n",
            "\n",
            "[23 rows x 35 columns]\n"
          ]
        }
      ]
    },
    {
      "cell_type": "code",
      "source": [
        "config_table = []\n",
        "for _, model_row in leaderboard.iterrows():\n",
        "    if 'NeuralNetTorch' in model_row['model']:\n",
        "        # We'll use the model's predictions and performance metrics\n",
        "        # Since we can't directly access hyperparameters, we'll extract what we can from model name\n",
        "        model_preds = predictor.predict(test_data.drop(columns=['target']), model=model_row['model'])\n",
        "        f1 = f1_score(y_test, model_preds, average='weighted')\n",
        "\n",
        "        # Create entry with available information\n",
        "        config_table.append({\n",
        "            'Model': model_row['model'],\n",
        "            'Accuracy': model_row['score_test'],\n",
        "            'F1': f1,\n",
        "        })\n",
        "\n",
        "# Display the configuration table\n",
        "config_df = pd.DataFrame(config_table)\n",
        "print(\"\\nConfiguration Performance Table:\")\n",
        "print(config_df[['Model', 'Accuracy', 'F1']])"
      ],
      "metadata": {
        "colab": {
          "base_uri": "https://localhost:8080/"
        },
        "id": "fngsw13bLodM",
        "outputId": "1941506b-3dd1-48b1-bbf3-a781cc34272a"
      },
      "execution_count": 8,
      "outputs": [
        {
          "output_type": "stream",
          "name": "stderr",
          "text": [
            "Loading: /content/AutogluonModels/ag-20250226_165852/models/NeuralNetTorch/fb100_00003/model.pkl\n",
            "Loading: /content/AutogluonModels/ag-20250226_165852/models/NeuralNetTorch/fb100_00006/model.pkl\n",
            "Loading: /content/AutogluonModels/ag-20250226_165852/models/NeuralNetTorch/fb100_00001/model.pkl\n",
            "Loading: /content/AutogluonModels/ag-20250226_165852/models/NeuralNetTorch/fb100_00009/model.pkl\n",
            "Loading: /content/AutogluonModels/ag-20250226_165852/models/NeuralNetTorch/fb100_00007/model.pkl\n",
            "Loading: /content/AutogluonModels/ag-20250226_165852/models/NeuralNetTorch/fb100_00005/model.pkl\n",
            "Loading: /content/AutogluonModels/ag-20250226_165852/models/NeuralNetTorch/fb100_00002/model.pkl\n",
            "Loading: /content/AutogluonModels/ag-20250226_165852/models/NeuralNetTorch/fb100_00008/model.pkl\n",
            "Loading: /content/AutogluonModels/ag-20250226_165852/models/NeuralNetTorch/fb100_00004/model.pkl\n",
            "Loading: /content/AutogluonModels/ag-20250226_165852/models/NeuralNetTorch/fb100_00000/model.pkl\n"
          ]
        },
        {
          "output_type": "stream",
          "name": "stdout",
          "text": [
            "\n",
            "Configuration Performance Table:\n",
            "                        Model  Accuracy        F1\n",
            "0  NeuralNetTorch/fb100_00003  0.967742  0.967594\n",
            "1  NeuralNetTorch/fb100_00006  0.935484  0.935191\n",
            "2  NeuralNetTorch/fb100_00001  0.903226  0.903226\n",
            "3  NeuralNetTorch/fb100_00009  0.903226  0.903226\n",
            "4  NeuralNetTorch/fb100_00007  0.903226  0.903226\n",
            "5  NeuralNetTorch/fb100_00005  0.903226  0.903226\n",
            "6  NeuralNetTorch/fb100_00002  0.838710  0.833026\n",
            "7  NeuralNetTorch/fb100_00008  0.838710  0.836495\n",
            "8  NeuralNetTorch/fb100_00004  0.741935  0.720430\n",
            "9  NeuralNetTorch/fb100_00000  0.677419  0.561880\n"
          ]
        }
      ]
    },
    {
      "cell_type": "code",
      "source": [
        "# Split with stratification (70% train, 20% test, 10% holdout for bagging)\n",
        "train_test, holdout = train_test_split(data, test_size=0.1, stratify=data['target'], random_state=42)\n",
        "train, test = train_test_split(train_test, test_size=0.2/0.9, stratify=train_test['target'], random_state=42)\n",
        "\n",
        "# Convert to AutoGluon datasets\n",
        "train_data = TabularDataset(train)\n",
        "test_data = TabularDataset(test)\n",
        "holdout_data = TabularDataset(holdout)\n",
        "\n",
        "# Configure neural network search space\n",
        "nn_hyperparameters = {\n",
        "    'NN_TORCH': {\n",
        "        'num_epochs': ag.space.Categorical(1,3, 5),\n",
        "        'learning_rate': ag.space.Categorical(1e-3, 1e-5),\n",
        "        'batch_size': ag.space.Categorical(2, 4),\n",
        "        'num_layers': 1,  # Number of hidden layers\n",
        "        'hidden_size': 16,  # Neurons in hidden layer\n",
        "        'activation': 'relu'\n",
        "    }\n",
        "}\n",
        "\n",
        "# Initialize predictor with bagged mode configuration\n",
        "predictor = TabularPredictor(label='target', problem_type='multiclass', eval_metric='accuracy').fit(\n",
        "    train_data=train_data,\n",
        "    tuning_data=holdout_data,  # Required for use_bag_holdout\n",
        "    hyperparameters=nn_hyperparameters,\n",
        "    num_bag_folds=5,  # Enable bagging\n",
        "    num_stack_levels=0,  # Disable stacking\n",
        "    use_bag_holdout=True,  # Critical parameter\n",
        "    hyperparameter_tune_kwargs={\n",
        "        'num_trials': 10,\n",
        "        'scheduler': 'local',\n",
        "        'searcher': 'bayes'\n",
        "    },\n",
        "    time_limit=600 # Maximum time to spend on tuning\n",
        ")\n",
        "\n",
        "# Evaluate performance\n",
        "y_test = test_data['target']\n",
        "y_pred = predictor.predict(test_data.drop(columns=['target']))\n",
        "print(f\"Test Accuracy: {accuracy_score(y_test, y_pred):.4f}\")\n",
        "print(f\"Test F1: {f1_score(y_test, y_pred, average='weighted'):.4f}\")\n",
        "\n",
        "# View search results\n",
        "leaderboard = predictor.leaderboard(test_data)\n",
        "print(leaderboard[['model', 'score_test', 'fit_time']])"
      ],
      "metadata": {
        "colab": {
          "base_uri": "https://localhost:8080/",
          "height": 1000
        },
        "id": "doPlrtTMLpIg",
        "outputId": "44b505df-b8fb-4573-8a5a-d87bd2befb2e"
      },
      "execution_count": 9,
      "outputs": [
        {
          "output_type": "stream",
          "name": "stderr",
          "text": [
            "No path specified. Models will be saved in: \"AutogluonModels/ag-20250226_170108\"\n",
            "Verbosity: 2 (Standard Logging)\n",
            "=================== System Info ===================\n",
            "AutoGluon Version:  1.2\n",
            "Python Version:     3.11.11\n",
            "Operating System:   Linux\n",
            "Platform Machine:   x86_64\n",
            "Platform Version:   #1 SMP PREEMPT_DYNAMIC Thu Jun 27 21:05:47 UTC 2024\n",
            "CPU Count:          2\n",
            "Memory Avail:       10.16 GB / 12.67 GB (80.2%)\n",
            "Disk Space Avail:   73.48 GB / 107.72 GB (68.2%)\n",
            "===================================================\n",
            "No presets specified! To achieve strong results with AutoGluon, it is recommended to use the available presets. Defaulting to `'medium'`...\n",
            "\tRecommended Presets (For more details refer to https://auto.gluon.ai/stable/tutorials/tabular/tabular-essentials.html#presets):\n",
            "\tpresets='experimental' : New in v1.2: Pre-trained foundation model + parallel fits. The absolute best accuracy without consideration for inference speed. Does not support GPU.\n",
            "\tpresets='best'         : Maximize accuracy. Recommended for most users. Use in competitions and benchmarks.\n",
            "\tpresets='high'         : Strong accuracy with fast inference speed.\n",
            "\tpresets='good'         : Good accuracy with very fast inference speed.\n",
            "\tpresets='medium'       : Fast training time, ideal for initial prototyping.\n",
            "Warning: hyperparameter tuning is currently experimental and may cause the process to hang.\n",
            "Beginning AutoGluon training ... Time limit = 600s\n",
            "AutoGluon will save models to \"/content/AutogluonModels/ag-20250226_170108\"\n",
            "Train Data Rows:    104\n",
            "Train Data Columns: 4\n",
            "Tuning Data Rows:    15\n",
            "Tuning Data Columns: 4\n",
            "Label Column:       target\n",
            "Problem Type:       multiclass\n",
            "Preprocessing data ...\n",
            "Train Data Class Count: 3\n",
            "Using Feature Generators to preprocess the data ...\n",
            "Fitting AutoMLPipelineFeatureGenerator...\n",
            "\tAvailable Memory:                    10407.61 MB\n",
            "\tTrain Data (Original)  Memory Usage: 0.00 MB (0.0% of available memory)\n",
            "\tInferring data type of each feature based on column values. Set feature_metadata_in to manually specify special dtypes of the features.\n",
            "\tStage 1 Generators:\n",
            "\t\tFitting AsTypeFeatureGenerator...\n",
            "\tStage 2 Generators:\n",
            "\t\tFitting FillNaFeatureGenerator...\n",
            "\tStage 3 Generators:\n",
            "\t\tFitting IdentityFeatureGenerator...\n",
            "\tStage 4 Generators:\n",
            "\t\tFitting DropUniqueFeatureGenerator...\n",
            "\tStage 5 Generators:\n",
            "\t\tFitting DropDuplicatesFeatureGenerator...\n",
            "\tTypes of features in original data (raw dtype, special dtypes):\n",
            "\t\t('float', []) : 4 | ['sepal length (cm)', 'sepal width (cm)', 'petal length (cm)', 'petal width (cm)']\n",
            "\tTypes of features in processed data (raw dtype, special dtypes):\n",
            "\t\t('float', []) : 4 | ['sepal length (cm)', 'sepal width (cm)', 'petal length (cm)', 'petal width (cm)']\n",
            "\t0.0s = Fit runtime\n",
            "\t4 features in original data used to generate 4 features in processed data.\n",
            "\tTrain Data (Processed) Memory Usage: 0.00 MB (0.0% of available memory)\n",
            "Data preprocessing and feature engineering runtime = 0.05s ...\n",
            "AutoGluon will gauge predictive performance using evaluation metric: 'accuracy'\n",
            "\tTo change this, specify the eval_metric parameter of Predictor()\n",
            "use_bag_holdout=True, will use tuning_data as holdout (will not be used for early stopping).\n",
            "User-specified model hyperparameters to be fit:\n",
            "{\n",
            "\t'NN_TORCH': [{'num_epochs': Categorical[1, 3, 5], 'learning_rate': Categorical[0.001, 1e-05], 'batch_size': Categorical[2, 4], 'num_layers': 1, 'hidden_size': 16, 'activation': 'relu'}],\n",
            "}\n",
            "Fitting 1 L1 models, fit_strategy=\"sequential\" ...\n",
            "Hyperparameter tuning model: NeuralNetTorch_BAG_L1 ... Tuning model for up to 539.95s of the 599.94s of remaining time.\n"
          ]
        },
        {
          "output_type": "stream",
          "name": "stdout",
          "text": [
            "+----------------------------------------------------------+\n",
            "| Configuration for experiment     NeuralNetTorch_BAG_L1   |\n",
            "+----------------------------------------------------------+\n",
            "| Search algorithm                 SearchGenerator         |\n",
            "| Scheduler                        FIFOScheduler           |\n",
            "| Number of trials                 10                      |\n",
            "+----------------------------------------------------------+\n",
            "\n",
            "View detailed results here: /content/AutogluonModels/ag-20250226_170108/models/NeuralNetTorch_BAG_L1\n"
          ]
        },
        {
          "output_type": "error",
          "ename": "KeyboardInterrupt",
          "evalue": "",
          "traceback": [
            "\u001b[0;31m---------------------------------------------------------------------------\u001b[0m",
            "\u001b[0;31mKeyboardInterrupt\u001b[0m                         Traceback (most recent call last)",
            "\u001b[0;32m<ipython-input-9-2040a5183a9d>\u001b[0m in \u001b[0;36m<cell line: 0>\u001b[0;34m()\u001b[0m\n\u001b[1;32m     21\u001b[0m \u001b[0;34m\u001b[0m\u001b[0m\n\u001b[1;32m     22\u001b[0m \u001b[0;31m# Initialize predictor with bagged mode configuration\u001b[0m\u001b[0;34m\u001b[0m\u001b[0;34m\u001b[0m\u001b[0m\n\u001b[0;32m---> 23\u001b[0;31m predictor = TabularPredictor(label='target', problem_type='multiclass', eval_metric='accuracy').fit(\n\u001b[0m\u001b[1;32m     24\u001b[0m     \u001b[0mtrain_data\u001b[0m\u001b[0;34m=\u001b[0m\u001b[0mtrain_data\u001b[0m\u001b[0;34m,\u001b[0m\u001b[0;34m\u001b[0m\u001b[0;34m\u001b[0m\u001b[0m\n\u001b[1;32m     25\u001b[0m     \u001b[0mtuning_data\u001b[0m\u001b[0;34m=\u001b[0m\u001b[0mholdout_data\u001b[0m\u001b[0;34m,\u001b[0m  \u001b[0;31m# Required for use_bag_holdout\u001b[0m\u001b[0;34m\u001b[0m\u001b[0;34m\u001b[0m\u001b[0m\n",
            "\u001b[0;32m/usr/local/lib/python3.11/dist-packages/autogluon/core/utils/decorators.py\u001b[0m in \u001b[0;36m_call\u001b[0;34m(*args, **kwargs)\u001b[0m\n\u001b[1;32m     29\u001b[0m         \u001b[0;32mdef\u001b[0m \u001b[0m_call\u001b[0m\u001b[0;34m(\u001b[0m\u001b[0;34m*\u001b[0m\u001b[0margs\u001b[0m\u001b[0;34m,\u001b[0m \u001b[0;34m**\u001b[0m\u001b[0mkwargs\u001b[0m\u001b[0;34m)\u001b[0m\u001b[0;34m:\u001b[0m\u001b[0;34m\u001b[0m\u001b[0;34m\u001b[0m\u001b[0m\n\u001b[1;32m     30\u001b[0m             \u001b[0mgargs\u001b[0m\u001b[0;34m,\u001b[0m \u001b[0mgkwargs\u001b[0m \u001b[0;34m=\u001b[0m \u001b[0mg\u001b[0m\u001b[0;34m(\u001b[0m\u001b[0;34m*\u001b[0m\u001b[0mother_args\u001b[0m\u001b[0;34m,\u001b[0m \u001b[0;34m*\u001b[0m\u001b[0margs\u001b[0m\u001b[0;34m,\u001b[0m \u001b[0;34m**\u001b[0m\u001b[0mkwargs\u001b[0m\u001b[0;34m)\u001b[0m\u001b[0;34m\u001b[0m\u001b[0;34m\u001b[0m\u001b[0m\n\u001b[0;32m---> 31\u001b[0;31m             \u001b[0;32mreturn\u001b[0m \u001b[0mf\u001b[0m\u001b[0;34m(\u001b[0m\u001b[0;34m*\u001b[0m\u001b[0mgargs\u001b[0m\u001b[0;34m,\u001b[0m \u001b[0;34m**\u001b[0m\u001b[0mgkwargs\u001b[0m\u001b[0;34m)\u001b[0m\u001b[0;34m\u001b[0m\u001b[0;34m\u001b[0m\u001b[0m\n\u001b[0m\u001b[1;32m     32\u001b[0m \u001b[0;34m\u001b[0m\u001b[0m\n\u001b[1;32m     33\u001b[0m         \u001b[0;32mreturn\u001b[0m \u001b[0m_call\u001b[0m\u001b[0;34m\u001b[0m\u001b[0;34m\u001b[0m\u001b[0m\n",
            "\u001b[0;32m/usr/local/lib/python3.11/dist-packages/autogluon/tabular/predictor/predictor.py\u001b[0m in \u001b[0;36mfit\u001b[0;34m(self, train_data, tuning_data, time_limit, presets, hyperparameters, feature_metadata, infer_limit, infer_limit_batch_size, fit_weighted_ensemble, fit_full_last_level_weighted_ensemble, full_weighted_ensemble_additionally, dynamic_stacking, calibrate_decision_threshold, num_cpus, num_gpus, fit_strategy, memory_limit, callbacks, **kwargs)\u001b[0m\n\u001b[1;32m   1297\u001b[0m         \u001b[0mself\u001b[0m\u001b[0;34m.\u001b[0m\u001b[0m_fit_strategy\u001b[0m \u001b[0;34m=\u001b[0m \u001b[0mfit_strategy\u001b[0m\u001b[0;34m\u001b[0m\u001b[0;34m\u001b[0m\u001b[0m\n\u001b[1;32m   1298\u001b[0m \u001b[0;34m\u001b[0m\u001b[0m\n\u001b[0;32m-> 1299\u001b[0;31m         \u001b[0mself\u001b[0m\u001b[0;34m.\u001b[0m\u001b[0m_fit\u001b[0m\u001b[0;34m(\u001b[0m\u001b[0mag_fit_kwargs\u001b[0m\u001b[0;34m=\u001b[0m\u001b[0mag_fit_kwargs\u001b[0m\u001b[0;34m,\u001b[0m \u001b[0mag_post_fit_kwargs\u001b[0m\u001b[0;34m=\u001b[0m\u001b[0mag_post_fit_kwargs\u001b[0m\u001b[0;34m)\u001b[0m\u001b[0;34m\u001b[0m\u001b[0;34m\u001b[0m\u001b[0m\n\u001b[0m\u001b[1;32m   1300\u001b[0m \u001b[0;34m\u001b[0m\u001b[0m\n\u001b[1;32m   1301\u001b[0m         \u001b[0;32mreturn\u001b[0m \u001b[0mself\u001b[0m\u001b[0;34m\u001b[0m\u001b[0;34m\u001b[0m\u001b[0m\n",
            "\u001b[0;32m/usr/local/lib/python3.11/dist-packages/autogluon/tabular/predictor/predictor.py\u001b[0m in \u001b[0;36m_fit\u001b[0;34m(self, ag_fit_kwargs, ag_post_fit_kwargs)\u001b[0m\n\u001b[1;32m   1303\u001b[0m     \u001b[0;32mdef\u001b[0m \u001b[0m_fit\u001b[0m\u001b[0;34m(\u001b[0m\u001b[0mself\u001b[0m\u001b[0;34m,\u001b[0m \u001b[0mag_fit_kwargs\u001b[0m\u001b[0;34m:\u001b[0m \u001b[0mdict\u001b[0m\u001b[0;34m,\u001b[0m \u001b[0mag_post_fit_kwargs\u001b[0m\u001b[0;34m:\u001b[0m \u001b[0mdict\u001b[0m\u001b[0;34m)\u001b[0m\u001b[0;34m:\u001b[0m\u001b[0;34m\u001b[0m\u001b[0;34m\u001b[0m\u001b[0m\n\u001b[1;32m   1304\u001b[0m         \u001b[0mself\u001b[0m\u001b[0;34m.\u001b[0m\u001b[0msave\u001b[0m\u001b[0;34m(\u001b[0m\u001b[0msilent\u001b[0m\u001b[0;34m=\u001b[0m\u001b[0;32mTrue\u001b[0m\u001b[0;34m)\u001b[0m  \u001b[0;31m# Save predictor to disk to enable prediction and training after interrupt\u001b[0m\u001b[0;34m\u001b[0m\u001b[0;34m\u001b[0m\u001b[0m\n\u001b[0;32m-> 1305\u001b[0;31m         \u001b[0mself\u001b[0m\u001b[0;34m.\u001b[0m\u001b[0m_learner\u001b[0m\u001b[0;34m.\u001b[0m\u001b[0mfit\u001b[0m\u001b[0;34m(\u001b[0m\u001b[0;34m**\u001b[0m\u001b[0mag_fit_kwargs\u001b[0m\u001b[0;34m)\u001b[0m\u001b[0;34m\u001b[0m\u001b[0;34m\u001b[0m\u001b[0m\n\u001b[0m\u001b[1;32m   1306\u001b[0m         \u001b[0mself\u001b[0m\u001b[0;34m.\u001b[0m\u001b[0m_set_post_fit_vars\u001b[0m\u001b[0;34m(\u001b[0m\u001b[0;34m)\u001b[0m\u001b[0;34m\u001b[0m\u001b[0;34m\u001b[0m\u001b[0m\n\u001b[1;32m   1307\u001b[0m         \u001b[0mself\u001b[0m\u001b[0;34m.\u001b[0m\u001b[0m_post_fit\u001b[0m\u001b[0;34m(\u001b[0m\u001b[0;34m**\u001b[0m\u001b[0mag_post_fit_kwargs\u001b[0m\u001b[0;34m)\u001b[0m\u001b[0;34m\u001b[0m\u001b[0;34m\u001b[0m\u001b[0m\n",
            "\u001b[0;32m/usr/local/lib/python3.11/dist-packages/autogluon/tabular/learner/abstract_learner.py\u001b[0m in \u001b[0;36mfit\u001b[0;34m(self, X, X_val, **kwargs)\u001b[0m\n\u001b[1;32m    157\u001b[0m             \u001b[0;32mraise\u001b[0m \u001b[0mAssertionError\u001b[0m\u001b[0;34m(\u001b[0m\u001b[0;34m\"Learner is already fit.\"\u001b[0m\u001b[0;34m)\u001b[0m\u001b[0;34m\u001b[0m\u001b[0;34m\u001b[0m\u001b[0m\n\u001b[1;32m    158\u001b[0m         \u001b[0mself\u001b[0m\u001b[0;34m.\u001b[0m\u001b[0m_validate_fit_input\u001b[0m\u001b[0;34m(\u001b[0m\u001b[0mX\u001b[0m\u001b[0;34m=\u001b[0m\u001b[0mX\u001b[0m\u001b[0;34m,\u001b[0m \u001b[0mX_val\u001b[0m\u001b[0;34m=\u001b[0m\u001b[0mX_val\u001b[0m\u001b[0;34m,\u001b[0m \u001b[0;34m**\u001b[0m\u001b[0mkwargs\u001b[0m\u001b[0;34m)\u001b[0m\u001b[0;34m\u001b[0m\u001b[0;34m\u001b[0m\u001b[0m\n\u001b[0;32m--> 159\u001b[0;31m         \u001b[0;32mreturn\u001b[0m \u001b[0mself\u001b[0m\u001b[0;34m.\u001b[0m\u001b[0m_fit\u001b[0m\u001b[0;34m(\u001b[0m\u001b[0mX\u001b[0m\u001b[0;34m=\u001b[0m\u001b[0mX\u001b[0m\u001b[0;34m,\u001b[0m \u001b[0mX_val\u001b[0m\u001b[0;34m=\u001b[0m\u001b[0mX_val\u001b[0m\u001b[0;34m,\u001b[0m \u001b[0;34m**\u001b[0m\u001b[0mkwargs\u001b[0m\u001b[0;34m)\u001b[0m\u001b[0;34m\u001b[0m\u001b[0;34m\u001b[0m\u001b[0m\n\u001b[0m\u001b[1;32m    160\u001b[0m \u001b[0;34m\u001b[0m\u001b[0m\n\u001b[1;32m    161\u001b[0m     def _fit(\n",
            "\u001b[0;32m/usr/local/lib/python3.11/dist-packages/autogluon/tabular/learner/default_learner.py\u001b[0m in \u001b[0;36m_fit\u001b[0;34m(self, X, X_val, X_test, X_unlabeled, holdout_frac, num_bag_folds, num_bag_sets, time_limit, infer_limit, infer_limit_batch_size, verbosity, **trainer_fit_kwargs)\u001b[0m\n\u001b[1;32m    129\u001b[0m \u001b[0;34m\u001b[0m\u001b[0m\n\u001b[1;32m    130\u001b[0m         \u001b[0mself\u001b[0m\u001b[0;34m.\u001b[0m\u001b[0msave\u001b[0m\u001b[0;34m(\u001b[0m\u001b[0;34m)\u001b[0m\u001b[0;34m\u001b[0m\u001b[0;34m\u001b[0m\u001b[0m\n\u001b[0;32m--> 131\u001b[0;31m         trainer.fit(\n\u001b[0m\u001b[1;32m    132\u001b[0m             \u001b[0mX\u001b[0m\u001b[0;34m=\u001b[0m\u001b[0mX\u001b[0m\u001b[0;34m,\u001b[0m\u001b[0;34m\u001b[0m\u001b[0;34m\u001b[0m\u001b[0m\n\u001b[1;32m    133\u001b[0m             \u001b[0my\u001b[0m\u001b[0;34m=\u001b[0m\u001b[0my\u001b[0m\u001b[0;34m,\u001b[0m\u001b[0;34m\u001b[0m\u001b[0;34m\u001b[0m\u001b[0m\n",
            "\u001b[0;32m/usr/local/lib/python3.11/dist-packages/autogluon/tabular/trainer/auto_trainer.py\u001b[0m in \u001b[0;36mfit\u001b[0;34m(self, X, y, hyperparameters, X_val, y_val, X_test, y_test, X_unlabeled, holdout_frac, num_stack_levels, core_kwargs, aux_kwargs, time_limit, infer_limit, infer_limit_batch_size, use_bag_holdout, groups, callbacks, **kwargs)\u001b[0m\n\u001b[1;32m    133\u001b[0m         \u001b[0mlogger\u001b[0m\u001b[0;34m.\u001b[0m\u001b[0mlog\u001b[0m\u001b[0;34m(\u001b[0m\u001b[0;36m20\u001b[0m\u001b[0;34m,\u001b[0m \u001b[0mlog_str\u001b[0m\u001b[0;34m)\u001b[0m\u001b[0;34m\u001b[0m\u001b[0;34m\u001b[0m\u001b[0m\n\u001b[1;32m    134\u001b[0m \u001b[0;34m\u001b[0m\u001b[0m\n\u001b[0;32m--> 135\u001b[0;31m         self._train_multi_and_ensemble(\n\u001b[0m\u001b[1;32m    136\u001b[0m             \u001b[0mX\u001b[0m\u001b[0;34m=\u001b[0m\u001b[0mX\u001b[0m\u001b[0;34m,\u001b[0m\u001b[0;34m\u001b[0m\u001b[0;34m\u001b[0m\u001b[0m\n\u001b[1;32m    137\u001b[0m             \u001b[0my\u001b[0m\u001b[0;34m=\u001b[0m\u001b[0my\u001b[0m\u001b[0;34m,\u001b[0m\u001b[0;34m\u001b[0m\u001b[0;34m\u001b[0m\u001b[0m\n",
            "\u001b[0;32m/usr/local/lib/python3.11/dist-packages/autogluon/core/trainer/abstract_trainer.py\u001b[0m in \u001b[0;36m_train_multi_and_ensemble\u001b[0;34m(self, X, y, X_val, y_val, X_test, y_test, hyperparameters, X_unlabeled, num_stack_levels, time_limit, groups, **kwargs)\u001b[0m\n\u001b[1;32m   3236\u001b[0m             \u001b[0mself\u001b[0m\u001b[0;34m.\u001b[0m\u001b[0m_num_rows_test\u001b[0m \u001b[0;34m=\u001b[0m \u001b[0mlen\u001b[0m\u001b[0;34m(\u001b[0m\u001b[0mX_test\u001b[0m\u001b[0;34m)\u001b[0m\u001b[0;34m\u001b[0m\u001b[0;34m\u001b[0m\u001b[0m\n\u001b[1;32m   3237\u001b[0m         \u001b[0mself\u001b[0m\u001b[0;34m.\u001b[0m\u001b[0m_num_cols_train\u001b[0m \u001b[0;34m=\u001b[0m \u001b[0mlen\u001b[0m\u001b[0;34m(\u001b[0m\u001b[0mlist\u001b[0m\u001b[0;34m(\u001b[0m\u001b[0mX\u001b[0m\u001b[0;34m.\u001b[0m\u001b[0mcolumns\u001b[0m\u001b[0;34m)\u001b[0m\u001b[0;34m)\u001b[0m\u001b[0;34m\u001b[0m\u001b[0;34m\u001b[0m\u001b[0m\n\u001b[0;32m-> 3238\u001b[0;31m         model_names_fit = self.train_multi_levels(\n\u001b[0m\u001b[1;32m   3239\u001b[0m             \u001b[0mX\u001b[0m\u001b[0;34m,\u001b[0m\u001b[0;34m\u001b[0m\u001b[0;34m\u001b[0m\u001b[0m\n\u001b[1;32m   3240\u001b[0m             \u001b[0my\u001b[0m\u001b[0;34m,\u001b[0m\u001b[0;34m\u001b[0m\u001b[0;34m\u001b[0m\u001b[0m\n",
            "\u001b[0;32m/usr/local/lib/python3.11/dist-packages/autogluon/core/trainer/abstract_trainer.py\u001b[0m in \u001b[0;36mtrain_multi_levels\u001b[0;34m(self, X, y, hyperparameters, X_val, y_val, X_test, y_test, X_unlabeled, base_model_names, core_kwargs, aux_kwargs, level_start, level_end, time_limit, name_suffix, relative_stack, level_time_modifier, infer_limit, infer_limit_batch_size, callbacks)\u001b[0m\n\u001b[1;32m    491\u001b[0m                 \u001b[0mcore_kwargs_level\u001b[0m\u001b[0;34m[\u001b[0m\u001b[0;34m\"time_limit\"\u001b[0m\u001b[0;34m]\u001b[0m \u001b[0;34m=\u001b[0m \u001b[0mcore_kwargs_level\u001b[0m\u001b[0;34m.\u001b[0m\u001b[0mget\u001b[0m\u001b[0;34m(\u001b[0m\u001b[0;34m\"time_limit\"\u001b[0m\u001b[0;34m,\u001b[0m \u001b[0mtime_limit_core\u001b[0m\u001b[0;34m)\u001b[0m\u001b[0;34m\u001b[0m\u001b[0;34m\u001b[0m\u001b[0m\n\u001b[1;32m    492\u001b[0m                 \u001b[0maux_kwargs_level\u001b[0m\u001b[0;34m[\u001b[0m\u001b[0;34m\"time_limit\"\u001b[0m\u001b[0;34m]\u001b[0m \u001b[0;34m=\u001b[0m \u001b[0maux_kwargs_level\u001b[0m\u001b[0;34m.\u001b[0m\u001b[0mget\u001b[0m\u001b[0;34m(\u001b[0m\u001b[0;34m\"time_limit\"\u001b[0m\u001b[0;34m,\u001b[0m \u001b[0mtime_limit_aux\u001b[0m\u001b[0;34m)\u001b[0m\u001b[0;34m\u001b[0m\u001b[0;34m\u001b[0m\u001b[0m\n\u001b[0;32m--> 493\u001b[0;31m             base_model_names, aux_models = self.stack_new_level(\n\u001b[0m\u001b[1;32m    494\u001b[0m                 \u001b[0mX\u001b[0m\u001b[0;34m=\u001b[0m\u001b[0mX\u001b[0m\u001b[0;34m,\u001b[0m\u001b[0;34m\u001b[0m\u001b[0;34m\u001b[0m\u001b[0m\n\u001b[1;32m    495\u001b[0m                 \u001b[0my\u001b[0m\u001b[0;34m=\u001b[0m\u001b[0my\u001b[0m\u001b[0;34m,\u001b[0m\u001b[0;34m\u001b[0m\u001b[0;34m\u001b[0m\u001b[0m\n",
            "\u001b[0;32m/usr/local/lib/python3.11/dist-packages/autogluon/core/trainer/abstract_trainer.py\u001b[0m in \u001b[0;36mstack_new_level\u001b[0;34m(self, X, y, models, X_val, y_val, X_test, y_test, X_unlabeled, level, base_model_names, core_kwargs, aux_kwargs, name_suffix, infer_limit, infer_limit_batch_size, full_weighted_ensemble, additional_full_weighted_ensemble)\u001b[0m\n\u001b[1;32m    686\u001b[0m             \u001b[0mcore_kwargs\u001b[0m\u001b[0;34m[\u001b[0m\u001b[0;34m\"name_suffix\"\u001b[0m\u001b[0;34m]\u001b[0m \u001b[0;34m=\u001b[0m \u001b[0mcore_kwargs\u001b[0m\u001b[0;34m.\u001b[0m\u001b[0mget\u001b[0m\u001b[0;34m(\u001b[0m\u001b[0;34m\"name_suffix\"\u001b[0m\u001b[0;34m,\u001b[0m \u001b[0;34m\"\"\u001b[0m\u001b[0;34m)\u001b[0m \u001b[0;34m+\u001b[0m \u001b[0mname_suffix\u001b[0m\u001b[0;34m\u001b[0m\u001b[0;34m\u001b[0m\u001b[0m\n\u001b[1;32m    687\u001b[0m             \u001b[0maux_kwargs\u001b[0m\u001b[0;34m[\u001b[0m\u001b[0;34m\"name_suffix\"\u001b[0m\u001b[0;34m]\u001b[0m \u001b[0;34m=\u001b[0m \u001b[0maux_kwargs\u001b[0m\u001b[0;34m.\u001b[0m\u001b[0mget\u001b[0m\u001b[0;34m(\u001b[0m\u001b[0;34m\"name_suffix\"\u001b[0m\u001b[0;34m,\u001b[0m \u001b[0;34m\"\"\u001b[0m\u001b[0;34m)\u001b[0m \u001b[0;34m+\u001b[0m \u001b[0mname_suffix\u001b[0m\u001b[0;34m\u001b[0m\u001b[0;34m\u001b[0m\u001b[0m\n\u001b[0;32m--> 688\u001b[0;31m         core_models = self.stack_new_level_core(\n\u001b[0m\u001b[1;32m    689\u001b[0m             \u001b[0mX\u001b[0m\u001b[0;34m=\u001b[0m\u001b[0mX\u001b[0m\u001b[0;34m,\u001b[0m\u001b[0;34m\u001b[0m\u001b[0;34m\u001b[0m\u001b[0m\n\u001b[1;32m    690\u001b[0m             \u001b[0my\u001b[0m\u001b[0;34m=\u001b[0m\u001b[0my\u001b[0m\u001b[0;34m,\u001b[0m\u001b[0;34m\u001b[0m\u001b[0;34m\u001b[0m\u001b[0m\n",
            "\u001b[0;32m/usr/local/lib/python3.11/dist-packages/autogluon/core/trainer/abstract_trainer.py\u001b[0m in \u001b[0;36mstack_new_level_core\u001b[0;34m(self, X, y, models, X_val, y_val, X_test, y_test, X_unlabeled, level, base_model_names, fit_strategy, stack_name, ag_args, ag_args_fit, ag_args_ensemble, included_model_types, excluded_model_types, ensemble_type, name_suffix, get_models_func, refit_full, infer_limit, infer_limit_batch_size, **kwargs)\u001b[0m\n\u001b[1;32m    833\u001b[0m \u001b[0;34m\u001b[0m\u001b[0m\n\u001b[1;32m    834\u001b[0m         \u001b[0;31m# FIXME: TODO: v0.1 X_unlabeled isn't cached so it won't be available during refit_full or fit_extra.\u001b[0m\u001b[0;34m\u001b[0m\u001b[0;34m\u001b[0m\u001b[0m\n\u001b[0;32m--> 835\u001b[0;31m         return self._train_multi(\n\u001b[0m\u001b[1;32m    836\u001b[0m             \u001b[0mX\u001b[0m\u001b[0;34m=\u001b[0m\u001b[0mX_init\u001b[0m\u001b[0;34m,\u001b[0m\u001b[0;34m\u001b[0m\u001b[0;34m\u001b[0m\u001b[0m\n\u001b[1;32m    837\u001b[0m             \u001b[0my\u001b[0m\u001b[0;34m=\u001b[0m\u001b[0my\u001b[0m\u001b[0;34m,\u001b[0m\u001b[0;34m\u001b[0m\u001b[0;34m\u001b[0m\u001b[0m\n",
            "\u001b[0;32m/usr/local/lib/python3.11/dist-packages/autogluon/core/trainer/abstract_trainer.py\u001b[0m in \u001b[0;36m_train_multi\u001b[0;34m(self, X, y, models, hyperparameter_tune_kwargs, feature_prune_kwargs, k_fold, n_repeats, n_repeat_start, time_limit, delay_bag_sets, **kwargs)\u001b[0m\n\u001b[1;32m   3168\u001b[0m         \u001b[0;32mif\u001b[0m \u001b[0mn_repeat_start\u001b[0m \u001b[0;34m==\u001b[0m \u001b[0;36m0\u001b[0m\u001b[0;34m:\u001b[0m\u001b[0;34m\u001b[0m\u001b[0;34m\u001b[0m\u001b[0m\n\u001b[1;32m   3169\u001b[0m             \u001b[0mtime_start\u001b[0m \u001b[0;34m=\u001b[0m \u001b[0mtime\u001b[0m\u001b[0;34m.\u001b[0m\u001b[0mtime\u001b[0m\u001b[0;34m(\u001b[0m\u001b[0;34m)\u001b[0m\u001b[0;34m\u001b[0m\u001b[0;34m\u001b[0m\u001b[0m\n\u001b[0;32m-> 3170\u001b[0;31m             model_names_trained = self._train_multi_initial(\n\u001b[0m\u001b[1;32m   3171\u001b[0m                 \u001b[0mX\u001b[0m\u001b[0;34m=\u001b[0m\u001b[0mX\u001b[0m\u001b[0;34m,\u001b[0m\u001b[0;34m\u001b[0m\u001b[0;34m\u001b[0m\u001b[0m\n\u001b[1;32m   3172\u001b[0m                 \u001b[0my\u001b[0m\u001b[0;34m=\u001b[0m\u001b[0my\u001b[0m\u001b[0;34m,\u001b[0m\u001b[0;34m\u001b[0m\u001b[0;34m\u001b[0m\u001b[0m\n",
            "\u001b[0;32m/usr/local/lib/python3.11/dist-packages/autogluon/core/trainer/abstract_trainer.py\u001b[0m in \u001b[0;36m_train_multi_initial\u001b[0;34m(self, X, y, models, k_fold, n_repeats, hyperparameter_tune_kwargs, time_limit, feature_prune_kwargs, **kwargs)\u001b[0m\n\u001b[1;32m   2763\u001b[0m         \u001b[0;32melse\u001b[0m\u001b[0;34m:\u001b[0m\u001b[0;34m\u001b[0m\u001b[0;34m\u001b[0m\u001b[0m\n\u001b[1;32m   2764\u001b[0m             \u001b[0mtime_ratio\u001b[0m \u001b[0;34m=\u001b[0m \u001b[0mhpo_time_ratio\u001b[0m \u001b[0;32mif\u001b[0m \u001b[0mhpo_enabled\u001b[0m \u001b[0;32melse\u001b[0m \u001b[0;36m1\u001b[0m\u001b[0;34m\u001b[0m\u001b[0;34m\u001b[0m\u001b[0m\n\u001b[0;32m-> 2765\u001b[0;31m             models = self._train_multi_fold(\n\u001b[0m\u001b[1;32m   2766\u001b[0m                 \u001b[0mmodels\u001b[0m\u001b[0;34m=\u001b[0m\u001b[0mmodels\u001b[0m\u001b[0;34m,\u001b[0m\u001b[0;34m\u001b[0m\u001b[0;34m\u001b[0m\u001b[0m\n\u001b[1;32m   2767\u001b[0m                 \u001b[0mhyperparameter_tune_kwargs\u001b[0m\u001b[0;34m=\u001b[0m\u001b[0mhyperparameter_tune_kwargs\u001b[0m\u001b[0;34m,\u001b[0m\u001b[0;34m\u001b[0m\u001b[0;34m\u001b[0m\u001b[0m\n",
            "\u001b[0;32m/usr/local/lib/python3.11/dist-packages/autogluon/core/trainer/abstract_trainer.py\u001b[0m in \u001b[0;36m_train_multi_fold\u001b[0;34m(self, X, y, models, time_limit, time_split, time_ratio, hyperparameter_tune_kwargs, fit_strategy, **kwargs)\u001b[0m\n\u001b[1;32m   2920\u001b[0m                     \u001b[0;32mreturn\u001b[0m \u001b[0mmodels_valid\u001b[0m\u001b[0;34m\u001b[0m\u001b[0;34m\u001b[0m\u001b[0m\n\u001b[1;32m   2921\u001b[0m \u001b[0;34m\u001b[0m\u001b[0m\n\u001b[0;32m-> 2922\u001b[0;31m                 models_valid += _detached_train_multi_fold(\n\u001b[0m\u001b[1;32m   2923\u001b[0m                     \u001b[0m_self\u001b[0m\u001b[0;34m=\u001b[0m\u001b[0mself\u001b[0m\u001b[0;34m,\u001b[0m\u001b[0;34m\u001b[0m\u001b[0;34m\u001b[0m\u001b[0m\n\u001b[1;32m   2924\u001b[0m                     \u001b[0mmodel\u001b[0m\u001b[0;34m=\u001b[0m\u001b[0mmodel\u001b[0m\u001b[0;34m,\u001b[0m\u001b[0;34m\u001b[0m\u001b[0;34m\u001b[0m\u001b[0m\n",
            "\u001b[0;32m/usr/local/lib/python3.11/dist-packages/autogluon/core/trainer/abstract_trainer.py\u001b[0m in \u001b[0;36m_detached_train_multi_fold\u001b[0;34m(_self, model, X, y, time_split, time_start, time_limit, time_limit_model_split, hyperparameter_tune_kwargs, is_ray_worker, kwargs)\u001b[0m\n\u001b[1;32m   4619\u001b[0m             \u001b[0mtime_left\u001b[0m\u001b[0;34m=\u001b[0m\u001b[0mtime_limit\u001b[0m\u001b[0;34m-\u001b[0m\u001b[0;34m(\u001b[0m\u001b[0mtime_start_model\u001b[0m\u001b[0;34m-\u001b[0m\u001b[0mtime_start\u001b[0m\u001b[0;34m)\u001b[0m\u001b[0;34m\u001b[0m\u001b[0;34m\u001b[0m\u001b[0m\n\u001b[1;32m   4620\u001b[0m \u001b[0;34m\u001b[0m\u001b[0m\n\u001b[0;32m-> 4621\u001b[0;31m     model_name_trained_lst = _self._train_single_full(\n\u001b[0m\u001b[1;32m   4622\u001b[0m         \u001b[0mX\u001b[0m\u001b[0;34m,\u001b[0m\u001b[0;34m\u001b[0m\u001b[0;34m\u001b[0m\u001b[0m\n\u001b[1;32m   4623\u001b[0m         \u001b[0my\u001b[0m\u001b[0;34m,\u001b[0m\u001b[0;34m\u001b[0m\u001b[0;34m\u001b[0m\u001b[0m\n",
            "\u001b[0;32m/usr/local/lib/python3.11/dist-packages/autogluon/core/trainer/abstract_trainer.py\u001b[0m in \u001b[0;36m_train_single_full\u001b[0;34m(self, X, y, model, X_unlabeled, X_val, y_val, X_test, y_test, X_pseudo, y_pseudo, feature_prune, hyperparameter_tune_kwargs, stack_name, k_fold, k_fold_start, k_fold_end, n_repeats, n_repeat_start, level, time_limit, fit_kwargs, compute_score, total_resources, errors, errors_ignore, errors_raise, is_ray_worker, **kwargs)\u001b[0m\n\u001b[1;32m   2480\u001b[0m                     )\n\u001b[1;32m   2481\u001b[0m                     \u001b[0mmodel_fit_kwargs\u001b[0m\u001b[0;34m.\u001b[0m\u001b[0mupdate\u001b[0m\u001b[0;34m(\u001b[0m\u001b[0mbagged_model_fit_kwargs\u001b[0m\u001b[0;34m)\u001b[0m\u001b[0;34m\u001b[0m\u001b[0;34m\u001b[0m\u001b[0m\n\u001b[0;32m-> 2482\u001b[0;31m                     hpo_models, hpo_results = model.hyperparameter_tune(\n\u001b[0m\u001b[1;32m   2483\u001b[0m                         \u001b[0mX\u001b[0m\u001b[0;34m=\u001b[0m\u001b[0mX\u001b[0m\u001b[0;34m,\u001b[0m\u001b[0;34m\u001b[0m\u001b[0;34m\u001b[0m\u001b[0m\n\u001b[1;32m   2484\u001b[0m                         \u001b[0my\u001b[0m\u001b[0;34m=\u001b[0m\u001b[0my\u001b[0m\u001b[0;34m,\u001b[0m\u001b[0;34m\u001b[0m\u001b[0;34m\u001b[0m\u001b[0m\n",
            "\u001b[0;32m/usr/local/lib/python3.11/dist-packages/autogluon/core/models/abstract/abstract_model.py\u001b[0m in \u001b[0;36mhyperparameter_tune\u001b[0;34m(self, hyperparameter_tune_kwargs, hpo_executor, time_limit, **kwargs)\u001b[0m\n\u001b[1;32m   1749\u001b[0m         \u001b[0mself\u001b[0m\u001b[0;34m.\u001b[0m\u001b[0mvalidate_fit_resources\u001b[0m\u001b[0;34m(\u001b[0m\u001b[0;34m**\u001b[0m\u001b[0mkwargs\u001b[0m\u001b[0;34m)\u001b[0m\u001b[0;34m\u001b[0m\u001b[0;34m\u001b[0m\u001b[0m\n\u001b[1;32m   1750\u001b[0m         \u001b[0mhpo_executor\u001b[0m\u001b[0;34m.\u001b[0m\u001b[0mregister_resources\u001b[0m\u001b[0;34m(\u001b[0m\u001b[0mself\u001b[0m\u001b[0;34m,\u001b[0m \u001b[0;34m**\u001b[0m\u001b[0mkwargs\u001b[0m\u001b[0;34m)\u001b[0m\u001b[0;34m\u001b[0m\u001b[0;34m\u001b[0m\u001b[0m\n\u001b[0;32m-> 1751\u001b[0;31m         \u001b[0;32mreturn\u001b[0m \u001b[0mself\u001b[0m\u001b[0;34m.\u001b[0m\u001b[0m_hyperparameter_tune\u001b[0m\u001b[0;34m(\u001b[0m\u001b[0mhpo_executor\u001b[0m\u001b[0;34m=\u001b[0m\u001b[0mhpo_executor\u001b[0m\u001b[0;34m,\u001b[0m \u001b[0;34m**\u001b[0m\u001b[0mkwargs\u001b[0m\u001b[0;34m)\u001b[0m\u001b[0;34m\u001b[0m\u001b[0;34m\u001b[0m\u001b[0m\n\u001b[0m\u001b[1;32m   1752\u001b[0m \u001b[0;34m\u001b[0m\u001b[0m\n\u001b[1;32m   1753\u001b[0m     def _hyperparameter_tune(\n",
            "\u001b[0;32m/usr/local/lib/python3.11/dist-packages/autogluon/core/models/ensemble/stacker_ensemble_model.py\u001b[0m in \u001b[0;36m_hyperparameter_tune\u001b[0;34m(self, X, y, k_fold, hpo_executor, compute_base_preds, **kwargs)\u001b[0m\n\u001b[1;32m    287\u001b[0m \u001b[0;34m\u001b[0m\u001b[0m\n\u001b[1;32m    288\u001b[0m         \u001b[0mpreprocess_kwargs\u001b[0m \u001b[0;34m=\u001b[0m \u001b[0;34m{\u001b[0m\u001b[0;34m\"compute_base_preds\"\u001b[0m\u001b[0;34m:\u001b[0m \u001b[0mcompute_base_preds\u001b[0m\u001b[0;34m}\u001b[0m\u001b[0;34m\u001b[0m\u001b[0;34m\u001b[0m\u001b[0m\n\u001b[0;32m--> 289\u001b[0;31m         \u001b[0;32mreturn\u001b[0m \u001b[0msuper\u001b[0m\u001b[0;34m(\u001b[0m\u001b[0;34m)\u001b[0m\u001b[0;34m.\u001b[0m\u001b[0m_hyperparameter_tune\u001b[0m\u001b[0;34m(\u001b[0m\u001b[0mX\u001b[0m\u001b[0;34m=\u001b[0m\u001b[0mX\u001b[0m\u001b[0;34m,\u001b[0m \u001b[0my\u001b[0m\u001b[0;34m=\u001b[0m\u001b[0my\u001b[0m\u001b[0;34m,\u001b[0m \u001b[0mk_fold\u001b[0m\u001b[0;34m=\u001b[0m\u001b[0mk_fold\u001b[0m\u001b[0;34m,\u001b[0m \u001b[0mhpo_executor\u001b[0m\u001b[0;34m=\u001b[0m\u001b[0mhpo_executor\u001b[0m\u001b[0;34m,\u001b[0m \u001b[0mpreprocess_kwargs\u001b[0m\u001b[0;34m=\u001b[0m\u001b[0mpreprocess_kwargs\u001b[0m\u001b[0;34m,\u001b[0m \u001b[0;34m**\u001b[0m\u001b[0mkwargs\u001b[0m\u001b[0;34m)\u001b[0m\u001b[0;34m\u001b[0m\u001b[0;34m\u001b[0m\u001b[0m\n\u001b[0m\u001b[1;32m    290\u001b[0m \u001b[0;34m\u001b[0m\u001b[0m\n\u001b[1;32m    291\u001b[0m     \u001b[0;32mdef\u001b[0m \u001b[0mget_params\u001b[0m\u001b[0;34m(\u001b[0m\u001b[0mself\u001b[0m\u001b[0;34m)\u001b[0m\u001b[0;34m:\u001b[0m\u001b[0;34m\u001b[0m\u001b[0;34m\u001b[0m\u001b[0m\n",
            "\u001b[0;32m/usr/local/lib/python3.11/dist-packages/autogluon/core/models/ensemble/bagged_ensemble_model.py\u001b[0m in \u001b[0;36m_hyperparameter_tune\u001b[0;34m(self, X, y, X_val, y_val, hpo_executor, k_fold, k_fold_end, **kwargs)\u001b[0m\n\u001b[1;32m   1450\u001b[0m         \u001b[0;31m# the original working directory.\u001b[0m\u001b[0;34m\u001b[0m\u001b[0;34m\u001b[0m\u001b[0m\n\u001b[1;32m   1451\u001b[0m         \u001b[0mos\u001b[0m\u001b[0;34m.\u001b[0m\u001b[0menviron\u001b[0m\u001b[0;34m[\u001b[0m\u001b[0;34m\"RAY_CHDIR_TO_TRIAL_DIR\"\u001b[0m\u001b[0;34m]\u001b[0m \u001b[0;34m=\u001b[0m \u001b[0;34m\"0\"\u001b[0m\u001b[0;34m\u001b[0m\u001b[0;34m\u001b[0m\u001b[0m\n\u001b[0;32m-> 1452\u001b[0;31m         hpo_executor.execute(\n\u001b[0m\u001b[1;32m   1453\u001b[0m             \u001b[0mmodel_trial\u001b[0m\u001b[0;34m=\u001b[0m\u001b[0mmodel_trial\u001b[0m\u001b[0;34m,\u001b[0m\u001b[0;34m\u001b[0m\u001b[0;34m\u001b[0m\u001b[0m\n\u001b[1;32m   1454\u001b[0m             \u001b[0mtrain_fn_kwargs\u001b[0m\u001b[0;34m=\u001b[0m\u001b[0mtrain_fn_kwargs\u001b[0m\u001b[0;34m,\u001b[0m\u001b[0;34m\u001b[0m\u001b[0;34m\u001b[0m\u001b[0m\n",
            "\u001b[0;32m/usr/local/lib/python3.11/dist-packages/autogluon/core/hpo/executors.py\u001b[0m in \u001b[0;36mexecute\u001b[0;34m(self, model_trial, train_fn_kwargs, directory, minimum_cpu_per_trial, minimum_gpu_per_trial, model_estimate_memory_usage, adapter_type, trainable_is_parallel, tune_config_kwargs, run_config_kwargs)\u001b[0m\n\u001b[1;32m    419\u001b[0m         \u001b[0;31m# TODO: remove this when ray tune fix ray tune pass tuple to hyperopt issue\u001b[0m\u001b[0;34m\u001b[0m\u001b[0;34m\u001b[0m\u001b[0m\n\u001b[1;32m    420\u001b[0m         \u001b[0mos\u001b[0m\u001b[0;34m.\u001b[0m\u001b[0menviron\u001b[0m\u001b[0;34m[\u001b[0m\u001b[0;34m\"TUNE_DISABLE_AUTO_CALLBACK_LOGGERS\"\u001b[0m\u001b[0;34m]\u001b[0m \u001b[0;34m=\u001b[0m \u001b[0;34m\"1\"\u001b[0m\u001b[0;34m\u001b[0m\u001b[0;34m\u001b[0m\u001b[0m\n\u001b[0;32m--> 421\u001b[0;31m         analysis = run(\n\u001b[0m\u001b[1;32m    422\u001b[0m             \u001b[0mtrainable\u001b[0m\u001b[0;34m=\u001b[0m\u001b[0mmodel_trial\u001b[0m\u001b[0;34m,\u001b[0m\u001b[0;34m\u001b[0m\u001b[0;34m\u001b[0m\u001b[0m\n\u001b[1;32m    423\u001b[0m             \u001b[0mtrainable_args\u001b[0m\u001b[0;34m=\u001b[0m\u001b[0mtrain_fn_kwargs\u001b[0m\u001b[0;34m,\u001b[0m\u001b[0;34m\u001b[0m\u001b[0;34m\u001b[0m\u001b[0m\n",
            "\u001b[0;32m/usr/local/lib/python3.11/dist-packages/autogluon/core/hpo/ray_hpo.py\u001b[0m in \u001b[0;36mrun\u001b[0;34m(trainable, trainable_args, search_space, hyperparameter_tune_kwargs, metric, mode, save_dir, ray_tune_adapter, trainable_is_parallel, total_resources, minimum_cpu_per_trial, minimum_gpu_per_trial, model_estimate_memory_usage, time_budget_s, verbose, tune_config_kwargs, run_config_kwargs)\u001b[0m\n\u001b[1;32m    279\u001b[0m         \u001b[0m_tuner_kwargs\u001b[0m\u001b[0;34m=\u001b[0m\u001b[0;34m{\u001b[0m\u001b[0;34m\"trial_name_creator\"\u001b[0m\u001b[0;34m:\u001b[0m \u001b[0m_trial_name_creator\u001b[0m\u001b[0;34m,\u001b[0m \u001b[0;34m\"trial_dirname_creator\"\u001b[0m\u001b[0;34m:\u001b[0m \u001b[0m_trial_dirname_creator\u001b[0m\u001b[0;34m}\u001b[0m\u001b[0;34m,\u001b[0m\u001b[0;34m\u001b[0m\u001b[0;34m\u001b[0m\u001b[0m\n\u001b[1;32m    280\u001b[0m     )\n\u001b[0;32m--> 281\u001b[0;31m     \u001b[0mresults\u001b[0m \u001b[0;34m=\u001b[0m \u001b[0mtuner\u001b[0m\u001b[0;34m.\u001b[0m\u001b[0mfit\u001b[0m\u001b[0;34m(\u001b[0m\u001b[0;34m)\u001b[0m\u001b[0;34m\u001b[0m\u001b[0;34m\u001b[0m\u001b[0m\n\u001b[0m\u001b[1;32m    282\u001b[0m \u001b[0;34m\u001b[0m\u001b[0m\n\u001b[1;32m    283\u001b[0m     \u001b[0mos\u001b[0m\u001b[0;34m.\u001b[0m\u001b[0mchdir\u001b[0m\u001b[0;34m(\u001b[0m\u001b[0moriginal_path\u001b[0m\u001b[0;34m)\u001b[0m  \u001b[0;31m# go back to the original directory to avoid relative path being broken\u001b[0m\u001b[0;34m\u001b[0m\u001b[0;34m\u001b[0m\u001b[0m\n",
            "\u001b[0;32m/usr/local/lib/python3.11/dist-packages/ray/tune/tuner.py\u001b[0m in \u001b[0;36mfit\u001b[0;34m(self)\u001b[0m\n\u001b[1;32m    375\u001b[0m \u001b[0;34m\u001b[0m\u001b[0m\n\u001b[1;32m    376\u001b[0m         \u001b[0;32mif\u001b[0m \u001b[0;32mnot\u001b[0m \u001b[0mself\u001b[0m\u001b[0;34m.\u001b[0m\u001b[0m_is_ray_client\u001b[0m\u001b[0;34m:\u001b[0m\u001b[0;34m\u001b[0m\u001b[0;34m\u001b[0m\u001b[0m\n\u001b[0;32m--> 377\u001b[0;31m             \u001b[0;32mreturn\u001b[0m \u001b[0mself\u001b[0m\u001b[0;34m.\u001b[0m\u001b[0m_local_tuner\u001b[0m\u001b[0;34m.\u001b[0m\u001b[0mfit\u001b[0m\u001b[0;34m(\u001b[0m\u001b[0;34m)\u001b[0m\u001b[0;34m\u001b[0m\u001b[0;34m\u001b[0m\u001b[0m\n\u001b[0m\u001b[1;32m    378\u001b[0m         \u001b[0;32melse\u001b[0m\u001b[0;34m:\u001b[0m\u001b[0;34m\u001b[0m\u001b[0;34m\u001b[0m\u001b[0m\n\u001b[1;32m    379\u001b[0m             (\n",
            "\u001b[0;32m/usr/local/lib/python3.11/dist-packages/ray/tune/impl/tuner_internal.py\u001b[0m in \u001b[0;36mfit\u001b[0;34m(self)\u001b[0m\n\u001b[1;32m    474\u001b[0m         \u001b[0mparam_space\u001b[0m \u001b[0;34m=\u001b[0m \u001b[0mcopy\u001b[0m\u001b[0;34m.\u001b[0m\u001b[0mdeepcopy\u001b[0m\u001b[0;34m(\u001b[0m\u001b[0mself\u001b[0m\u001b[0;34m.\u001b[0m\u001b[0mparam_space\u001b[0m\u001b[0;34m)\u001b[0m\u001b[0;34m\u001b[0m\u001b[0;34m\u001b[0m\u001b[0m\n\u001b[1;32m    475\u001b[0m         \u001b[0;32mif\u001b[0m \u001b[0;32mnot\u001b[0m \u001b[0mself\u001b[0m\u001b[0;34m.\u001b[0m\u001b[0m_is_restored\u001b[0m\u001b[0;34m:\u001b[0m\u001b[0;34m\u001b[0m\u001b[0;34m\u001b[0m\u001b[0m\n\u001b[0;32m--> 476\u001b[0;31m             \u001b[0manalysis\u001b[0m \u001b[0;34m=\u001b[0m \u001b[0mself\u001b[0m\u001b[0;34m.\u001b[0m\u001b[0m_fit_internal\u001b[0m\u001b[0;34m(\u001b[0m\u001b[0mtrainable\u001b[0m\u001b[0;34m,\u001b[0m \u001b[0mparam_space\u001b[0m\u001b[0;34m)\u001b[0m\u001b[0;34m\u001b[0m\u001b[0;34m\u001b[0m\u001b[0m\n\u001b[0m\u001b[1;32m    477\u001b[0m         \u001b[0;32melse\u001b[0m\u001b[0;34m:\u001b[0m\u001b[0;34m\u001b[0m\u001b[0;34m\u001b[0m\u001b[0m\n\u001b[1;32m    478\u001b[0m             \u001b[0manalysis\u001b[0m \u001b[0;34m=\u001b[0m \u001b[0mself\u001b[0m\u001b[0;34m.\u001b[0m\u001b[0m_fit_resume\u001b[0m\u001b[0;34m(\u001b[0m\u001b[0mtrainable\u001b[0m\u001b[0;34m,\u001b[0m \u001b[0mparam_space\u001b[0m\u001b[0;34m)\u001b[0m\u001b[0;34m\u001b[0m\u001b[0;34m\u001b[0m\u001b[0m\n",
            "\u001b[0;32m/usr/local/lib/python3.11/dist-packages/ray/tune/impl/tuner_internal.py\u001b[0m in \u001b[0;36m_fit_internal\u001b[0;34m(self, trainable, param_space)\u001b[0m\n\u001b[1;32m    590\u001b[0m             \u001b[0;34m**\u001b[0m\u001b[0mself\u001b[0m\u001b[0;34m.\u001b[0m\u001b[0m_tuner_kwargs\u001b[0m\u001b[0;34m,\u001b[0m\u001b[0;34m\u001b[0m\u001b[0;34m\u001b[0m\u001b[0m\n\u001b[1;32m    591\u001b[0m         }\n\u001b[0;32m--> 592\u001b[0;31m         analysis = run(\n\u001b[0m\u001b[1;32m    593\u001b[0m             \u001b[0;34m**\u001b[0m\u001b[0margs\u001b[0m\u001b[0;34m,\u001b[0m\u001b[0;34m\u001b[0m\u001b[0;34m\u001b[0m\u001b[0m\n\u001b[1;32m    594\u001b[0m         )\n",
            "\u001b[0;32m/usr/local/lib/python3.11/dist-packages/ray/tune/tune.py\u001b[0m in \u001b[0;36mrun\u001b[0;34m(run_or_experiment, name, metric, mode, stop, time_budget_s, config, resources_per_trial, num_samples, storage_path, storage_filesystem, search_alg, scheduler, checkpoint_config, verbose, progress_reporter, log_to_file, trial_name_creator, trial_dirname_creator, sync_config, export_formats, max_failures, fail_fast, restore, resume, resume_config, reuse_actors, raise_on_failed_trial, callbacks, max_concurrent_trials, keep_checkpoints_num, checkpoint_score_attr, checkpoint_freq, checkpoint_at_end, chdir_to_trial_dir, local_dir, _remote, _remote_string_queue, _entrypoint)\u001b[0m\n\u001b[1;32m   1024\u001b[0m     \u001b[0mall_trials\u001b[0m \u001b[0;34m=\u001b[0m \u001b[0mrunner\u001b[0m\u001b[0;34m.\u001b[0m\u001b[0mget_trials\u001b[0m\u001b[0;34m(\u001b[0m\u001b[0;34m)\u001b[0m\u001b[0;34m\u001b[0m\u001b[0;34m\u001b[0m\u001b[0m\n\u001b[1;32m   1025\u001b[0m \u001b[0;34m\u001b[0m\u001b[0m\n\u001b[0;32m-> 1026\u001b[0;31m     \u001b[0mrunner\u001b[0m\u001b[0;34m.\u001b[0m\u001b[0mcleanup\u001b[0m\u001b[0;34m(\u001b[0m\u001b[0;34m)\u001b[0m\u001b[0;34m\u001b[0m\u001b[0;34m\u001b[0m\u001b[0m\n\u001b[0m\u001b[1;32m   1027\u001b[0m \u001b[0;34m\u001b[0m\u001b[0m\n\u001b[1;32m   1028\u001b[0m     \u001b[0mincomplete_trials\u001b[0m \u001b[0;34m=\u001b[0m \u001b[0;34m[\u001b[0m\u001b[0;34m]\u001b[0m\u001b[0;34m\u001b[0m\u001b[0;34m\u001b[0m\u001b[0m\n",
            "\u001b[0;32m/usr/local/lib/python3.11/dist-packages/ray/tune/execution/tune_controller.py\u001b[0m in \u001b[0;36mcleanup\u001b[0;34m(self)\u001b[0m\n\u001b[1;32m   1973\u001b[0m     \u001b[0;32mdef\u001b[0m \u001b[0mcleanup\u001b[0m\u001b[0;34m(\u001b[0m\u001b[0mself\u001b[0m\u001b[0;34m)\u001b[0m\u001b[0;34m:\u001b[0m\u001b[0;34m\u001b[0m\u001b[0;34m\u001b[0m\u001b[0m\n\u001b[1;32m   1974\u001b[0m         \u001b[0;34m\"\"\"Cleanup trials and callbacks.\"\"\"\u001b[0m\u001b[0;34m\u001b[0m\u001b[0;34m\u001b[0m\u001b[0m\n\u001b[0;32m-> 1975\u001b[0;31m         \u001b[0mself\u001b[0m\u001b[0;34m.\u001b[0m\u001b[0m_cleanup_trials\u001b[0m\u001b[0;34m(\u001b[0m\u001b[0;34m)\u001b[0m\u001b[0;34m\u001b[0m\u001b[0;34m\u001b[0m\u001b[0m\n\u001b[0m\u001b[1;32m   1976\u001b[0m         \u001b[0mself\u001b[0m\u001b[0;34m.\u001b[0m\u001b[0mend_experiment_callbacks\u001b[0m\u001b[0;34m(\u001b[0m\u001b[0;34m)\u001b[0m\u001b[0;34m\u001b[0m\u001b[0;34m\u001b[0m\u001b[0m\n\u001b[1;32m   1977\u001b[0m \u001b[0;34m\u001b[0m\u001b[0m\n",
            "\u001b[0;32m/usr/local/lib/python3.11/dist-packages/ray/tune/execution/tune_controller.py\u001b[0m in \u001b[0;36m_cleanup_trials\u001b[0;34m(self)\u001b[0m\n\u001b[1;32m    801\u001b[0m                     \u001b[0;34m\"Waiting for actor manager to clean up final state [dedup]\"\u001b[0m\u001b[0;34m\u001b[0m\u001b[0;34m\u001b[0m\u001b[0m\n\u001b[1;32m    802\u001b[0m                 )\n\u001b[0;32m--> 803\u001b[0;31m             \u001b[0mself\u001b[0m\u001b[0;34m.\u001b[0m\u001b[0m_actor_manager\u001b[0m\u001b[0;34m.\u001b[0m\u001b[0mnext\u001b[0m\u001b[0;34m(\u001b[0m\u001b[0mtimeout\u001b[0m\u001b[0;34m=\u001b[0m\u001b[0;36m1\u001b[0m\u001b[0;34m)\u001b[0m\u001b[0;34m\u001b[0m\u001b[0;34m\u001b[0m\u001b[0m\n\u001b[0m\u001b[1;32m    804\u001b[0m \u001b[0;34m\u001b[0m\u001b[0m\n\u001b[1;32m    805\u001b[0m         \u001b[0mlogger\u001b[0m\u001b[0;34m.\u001b[0m\u001b[0mdebug\u001b[0m\u001b[0;34m(\u001b[0m\u001b[0;34m\"Force cleanup of remaining actors\"\u001b[0m\u001b[0;34m)\u001b[0m\u001b[0;34m\u001b[0m\u001b[0;34m\u001b[0m\u001b[0m\n",
            "\u001b[0;32m/usr/local/lib/python3.11/dist-packages/ray/air/execution/_internal/actor_manager.py\u001b[0m in \u001b[0;36mnext\u001b[0;34m(self, timeout)\u001b[0m\n\u001b[1;32m    211\u001b[0m \u001b[0;34m\u001b[0m\u001b[0m\n\u001b[1;32m    212\u001b[0m         \u001b[0mstart_wait\u001b[0m \u001b[0;34m=\u001b[0m \u001b[0mtime\u001b[0m\u001b[0;34m.\u001b[0m\u001b[0mmonotonic\u001b[0m\u001b[0;34m(\u001b[0m\u001b[0;34m)\u001b[0m\u001b[0;34m\u001b[0m\u001b[0;34m\u001b[0m\u001b[0m\n\u001b[0;32m--> 213\u001b[0;31m         \u001b[0mready\u001b[0m\u001b[0;34m,\u001b[0m \u001b[0m_\u001b[0m \u001b[0;34m=\u001b[0m \u001b[0mray\u001b[0m\u001b[0;34m.\u001b[0m\u001b[0mwait\u001b[0m\u001b[0;34m(\u001b[0m\u001b[0mall_futures\u001b[0m\u001b[0;34m,\u001b[0m \u001b[0mnum_returns\u001b[0m\u001b[0;34m=\u001b[0m\u001b[0;36m1\u001b[0m\u001b[0;34m,\u001b[0m \u001b[0mtimeout\u001b[0m\u001b[0;34m=\u001b[0m\u001b[0mtimeout\u001b[0m\u001b[0;34m)\u001b[0m\u001b[0;34m\u001b[0m\u001b[0;34m\u001b[0m\u001b[0m\n\u001b[0m\u001b[1;32m    214\u001b[0m \u001b[0;34m\u001b[0m\u001b[0m\n\u001b[1;32m    215\u001b[0m         \u001b[0;32mif\u001b[0m \u001b[0;32mnot\u001b[0m \u001b[0mready\u001b[0m\u001b[0;34m:\u001b[0m\u001b[0;34m\u001b[0m\u001b[0;34m\u001b[0m\u001b[0m\n",
            "\u001b[0;32m/usr/local/lib/python3.11/dist-packages/ray/_private/auto_init_hook.py\u001b[0m in \u001b[0;36mauto_init_wrapper\u001b[0;34m(*args, **kwargs)\u001b[0m\n\u001b[1;32m     19\u001b[0m     \u001b[0;32mdef\u001b[0m \u001b[0mauto_init_wrapper\u001b[0m\u001b[0;34m(\u001b[0m\u001b[0;34m*\u001b[0m\u001b[0margs\u001b[0m\u001b[0;34m,\u001b[0m \u001b[0;34m**\u001b[0m\u001b[0mkwargs\u001b[0m\u001b[0;34m)\u001b[0m\u001b[0;34m:\u001b[0m\u001b[0;34m\u001b[0m\u001b[0;34m\u001b[0m\u001b[0m\n\u001b[1;32m     20\u001b[0m         \u001b[0mauto_init_ray\u001b[0m\u001b[0;34m(\u001b[0m\u001b[0;34m)\u001b[0m\u001b[0;34m\u001b[0m\u001b[0;34m\u001b[0m\u001b[0m\n\u001b[0;32m---> 21\u001b[0;31m         \u001b[0;32mreturn\u001b[0m \u001b[0mfn\u001b[0m\u001b[0;34m(\u001b[0m\u001b[0;34m*\u001b[0m\u001b[0margs\u001b[0m\u001b[0;34m,\u001b[0m \u001b[0;34m**\u001b[0m\u001b[0mkwargs\u001b[0m\u001b[0;34m)\u001b[0m\u001b[0;34m\u001b[0m\u001b[0;34m\u001b[0m\u001b[0m\n\u001b[0m\u001b[1;32m     22\u001b[0m \u001b[0;34m\u001b[0m\u001b[0m\n\u001b[1;32m     23\u001b[0m     \u001b[0;32mreturn\u001b[0m \u001b[0mauto_init_wrapper\u001b[0m\u001b[0;34m\u001b[0m\u001b[0;34m\u001b[0m\u001b[0m\n",
            "\u001b[0;32m/usr/local/lib/python3.11/dist-packages/ray/_private/client_mode_hook.py\u001b[0m in \u001b[0;36mwrapper\u001b[0;34m(*args, **kwargs)\u001b[0m\n\u001b[1;32m    101\u001b[0m             \u001b[0;32mif\u001b[0m \u001b[0mfunc\u001b[0m\u001b[0;34m.\u001b[0m\u001b[0m__name__\u001b[0m \u001b[0;34m!=\u001b[0m \u001b[0;34m\"init\"\u001b[0m \u001b[0;32mor\u001b[0m \u001b[0mis_client_mode_enabled_by_default\u001b[0m\u001b[0;34m:\u001b[0m\u001b[0;34m\u001b[0m\u001b[0;34m\u001b[0m\u001b[0m\n\u001b[1;32m    102\u001b[0m                 \u001b[0;32mreturn\u001b[0m \u001b[0mgetattr\u001b[0m\u001b[0;34m(\u001b[0m\u001b[0mray\u001b[0m\u001b[0;34m,\u001b[0m \u001b[0mfunc\u001b[0m\u001b[0;34m.\u001b[0m\u001b[0m__name__\u001b[0m\u001b[0;34m)\u001b[0m\u001b[0;34m(\u001b[0m\u001b[0;34m*\u001b[0m\u001b[0margs\u001b[0m\u001b[0;34m,\u001b[0m \u001b[0;34m**\u001b[0m\u001b[0mkwargs\u001b[0m\u001b[0;34m)\u001b[0m\u001b[0;34m\u001b[0m\u001b[0;34m\u001b[0m\u001b[0m\n\u001b[0;32m--> 103\u001b[0;31m         \u001b[0;32mreturn\u001b[0m \u001b[0mfunc\u001b[0m\u001b[0;34m(\u001b[0m\u001b[0;34m*\u001b[0m\u001b[0margs\u001b[0m\u001b[0;34m,\u001b[0m \u001b[0;34m**\u001b[0m\u001b[0mkwargs\u001b[0m\u001b[0;34m)\u001b[0m\u001b[0;34m\u001b[0m\u001b[0;34m\u001b[0m\u001b[0m\n\u001b[0m\u001b[1;32m    104\u001b[0m \u001b[0;34m\u001b[0m\u001b[0m\n\u001b[1;32m    105\u001b[0m     \u001b[0;32mreturn\u001b[0m \u001b[0mwrapper\u001b[0m\u001b[0;34m\u001b[0m\u001b[0;34m\u001b[0m\u001b[0m\n",
            "\u001b[0;32m/usr/local/lib/python3.11/dist-packages/ray/_private/worker.py\u001b[0m in \u001b[0;36mwait\u001b[0;34m(ray_waitables, num_returns, timeout, fetch_local)\u001b[0m\n\u001b[1;32m   2982\u001b[0m         \u001b[0mtimeout\u001b[0m \u001b[0;34m=\u001b[0m \u001b[0mtimeout\u001b[0m \u001b[0;32mif\u001b[0m \u001b[0mtimeout\u001b[0m \u001b[0;32mis\u001b[0m \u001b[0;32mnot\u001b[0m \u001b[0;32mNone\u001b[0m \u001b[0;32melse\u001b[0m \u001b[0;36m10\u001b[0m\u001b[0;34m**\u001b[0m\u001b[0;36m6\u001b[0m\u001b[0;34m\u001b[0m\u001b[0;34m\u001b[0m\u001b[0m\n\u001b[1;32m   2983\u001b[0m         \u001b[0mtimeout_milliseconds\u001b[0m \u001b[0;34m=\u001b[0m \u001b[0mint\u001b[0m\u001b[0;34m(\u001b[0m\u001b[0mtimeout\u001b[0m \u001b[0;34m*\u001b[0m \u001b[0;36m1000\u001b[0m\u001b[0;34m)\u001b[0m\u001b[0;34m\u001b[0m\u001b[0;34m\u001b[0m\u001b[0m\n\u001b[0;32m-> 2984\u001b[0;31m         ready_ids, remaining_ids = worker.core_worker.wait(\n\u001b[0m\u001b[1;32m   2985\u001b[0m             \u001b[0mray_waitables\u001b[0m\u001b[0;34m,\u001b[0m\u001b[0;34m\u001b[0m\u001b[0;34m\u001b[0m\u001b[0m\n\u001b[1;32m   2986\u001b[0m             \u001b[0mnum_returns\u001b[0m\u001b[0;34m,\u001b[0m\u001b[0;34m\u001b[0m\u001b[0;34m\u001b[0m\u001b[0m\n",
            "\u001b[0;32mpython/ray/_raylet.pyx\u001b[0m in \u001b[0;36mray._raylet.CoreWorker.wait\u001b[0;34m()\u001b[0m\n",
            "\u001b[0;32mpython/ray/includes/common.pxi\u001b[0m in \u001b[0;36mray._raylet.check_status\u001b[0;34m()\u001b[0m\n",
            "\u001b[0;31mKeyboardInterrupt\u001b[0m: "
          ]
        }
      ]
    },
    {
      "cell_type": "code",
      "source": [
        "config_table = []\n",
        "for _, model_row in leaderboard.iterrows():\n",
        "    if 'NeuralNetTorch' in model_row['model']:\n",
        "        # We'll use the model's predictions and performance metrics\n",
        "        model_preds = predictor.predict(test_data.drop(columns=['target']), model=model_row['model'])\n",
        "        f1 = f1_score(y_test, model_preds, average='weighted')\n",
        "\n",
        "        # Create entry with available information\n",
        "        config_table.append({\n",
        "            'Model': model_row['model'],\n",
        "            'Accuracy': model_row['score_test'],\n",
        "            'F1': f1\n",
        "        })\n",
        "\n",
        "# Display the configuration table\n",
        "config_df = pd.DataFrame(config_table)\n",
        "print(\"\\nConfiguration Performance Table:\")\n",
        "print(config_df[['Model', 'Accuracy', 'F1']])"
      ],
      "metadata": {
        "id": "MGfIBz7_LrRJ"
      },
      "execution_count": null,
      "outputs": []
    },
    {
      "cell_type": "code",
      "source": [
        "#printing grid search results using config_list_grid\n",
        "print(\"Grid Search Results:\")\n",
        "# Create a formatted table for grid search results\n",
        "print(\"Grid Search Results:\")\n",
        "print(\"{:<5} {:<15} {:<15} {:<10} {:<15} {:<15}\".format(\n",
        "    \"No.\", \"Batch size\", \"Learning rate\", \"Epochs\", \"Accuracy\", \"F1 Score\"))\n",
        "print(\"-\" * 75)\n",
        "\n",
        "# Print the results in a formatted manner\n",
        "for i, config in enumerate(config_list_grid):\n",
        "    print(\"{:<5} {:<15} {:<15} {:<10} {:<15.4f} {:<15.4f}\".format(\n",
        "        i+1, config[0], config[1], config[2],\n",
        "        results[i]['accuracy'], results[i]['f1']))\n",
        "\n",
        "# Print the best configuration\n",
        "best_idx = max(range(len(results)), key=lambda i: results[i]['accuracy'])\n",
        "best_config = config_list_grid[best_idx]\n",
        "print(\"\\nBest Configuration:\")\n",
        "print(f\"Batch size: {best_config[0]}\")\n",
        "print(f\"Learning rate: {best_config[1]}\")\n",
        "print(f\"Epochs: {best_config[2]}\")\n",
        "print(f\"Accuracy: {results[best_idx]['accuracy']:.4f}\")\n",
        "print(f\"F1 Score: {results[best_idx]['f1']:.4f}\")"
      ],
      "metadata": {
        "id": "n-t8yP36LucT"
      },
      "execution_count": null,
      "outputs": []
    }
  ]
}